{
 "cells": [
  {
   "cell_type": "markdown",
   "metadata": {},
   "source": [
    "# Get the article metadata for each article\n",
    "* use the article `doi` and the CrossRef API to get the metadata associated with each article"
   ]
  },
  {
   "cell_type": "code",
   "execution_count": 4,
   "metadata": {},
   "outputs": [],
   "source": [
    "import pandas as pd\n",
    "import numpy as np\n",
    "import os\n",
    "from os.path import join\n",
    "\n",
    "import crossref_commons.retrieval as crossref"
   ]
  },
  {
   "cell_type": "code",
   "execution_count": 7,
   "metadata": {},
   "outputs": [],
   "source": [
    "dataDir = '../data'"
   ]
  },
  {
   "cell_type": "code",
   "execution_count": 8,
   "metadata": {},
   "outputs": [],
   "source": [
    "articles_df = pd.read_csv(join(dataDir, 'allArticles.csv'))"
   ]
  },
  {
   "cell_type": "code",
   "execution_count": 9,
   "metadata": {},
   "outputs": [
    {
     "data": {
      "text/html": [
       "<div>\n",
       "<style scoped>\n",
       "    .dataframe tbody tr th:only-of-type {\n",
       "        vertical-align: middle;\n",
       "    }\n",
       "\n",
       "    .dataframe tbody tr th {\n",
       "        vertical-align: top;\n",
       "    }\n",
       "\n",
       "    .dataframe thead th {\n",
       "        text-align: right;\n",
       "    }\n",
       "</style>\n",
       "<table border=\"1\" class=\"dataframe\">\n",
       "  <thead>\n",
       "    <tr style=\"text-align: right;\">\n",
       "      <th></th>\n",
       "      <th>sha</th>\n",
       "      <th>source_x</th>\n",
       "      <th>doi</th>\n",
       "      <th>pubmed_id</th>\n",
       "    </tr>\n",
       "  </thead>\n",
       "  <tbody>\n",
       "    <tr>\n",
       "      <th>0</th>\n",
       "      <td>aecbc613ebdab36753235197ffb4f35734b5ca63</td>\n",
       "      <td>Elsevier</td>\n",
       "      <td>10.1016/0002-9343(73)90176-9</td>\n",
       "      <td>4579077.0</td>\n",
       "    </tr>\n",
       "    <tr>\n",
       "      <th>1</th>\n",
       "      <td>212e990b378e8d267042753d5f9d4a64ea5e9869</td>\n",
       "      <td>Elsevier</td>\n",
       "      <td>10.1016/0002-9343(85)90367-5</td>\n",
       "      <td>2861742.0</td>\n",
       "    </tr>\n",
       "    <tr>\n",
       "      <th>2</th>\n",
       "      <td>bf5d344243153d58be692ceb26f52c08e2bd2d2f</td>\n",
       "      <td>Elsevier</td>\n",
       "      <td>10.1016/0002-9343(88)90356-7</td>\n",
       "      <td>3052052.0</td>\n",
       "    </tr>\n",
       "    <tr>\n",
       "      <th>3</th>\n",
       "      <td>ddd2ecf42ec86ad66072962081e1ce4594431f9c</td>\n",
       "      <td>Elsevier</td>\n",
       "      <td>10.1016/0002-9343(88)90456-1</td>\n",
       "      <td>3048091.0</td>\n",
       "    </tr>\n",
       "    <tr>\n",
       "      <th>4</th>\n",
       "      <td>a55cb4e724091ced46b5e55b982a14525eea1c7e</td>\n",
       "      <td>Elsevier</td>\n",
       "      <td>10.1016/0002-9343(92)90608-E</td>\n",
       "      <td>1621745.0</td>\n",
       "    </tr>\n",
       "  </tbody>\n",
       "</table>\n",
       "</div>"
      ],
      "text/plain": [
       "                                        sha  source_x  \\\n",
       "0  aecbc613ebdab36753235197ffb4f35734b5ca63  Elsevier   \n",
       "1  212e990b378e8d267042753d5f9d4a64ea5e9869  Elsevier   \n",
       "2  bf5d344243153d58be692ceb26f52c08e2bd2d2f  Elsevier   \n",
       "3  ddd2ecf42ec86ad66072962081e1ce4594431f9c  Elsevier   \n",
       "4  a55cb4e724091ced46b5e55b982a14525eea1c7e  Elsevier   \n",
       "\n",
       "                            doi  pubmed_id  \n",
       "0  10.1016/0002-9343(73)90176-9  4579077.0  \n",
       "1  10.1016/0002-9343(85)90367-5  2861742.0  \n",
       "2  10.1016/0002-9343(88)90356-7  3052052.0  \n",
       "3  10.1016/0002-9343(88)90456-1  3048091.0  \n",
       "4  10.1016/0002-9343(92)90608-E  1621745.0  "
      ]
     },
     "execution_count": 9,
     "metadata": {},
     "output_type": "execute_result"
    }
   ],
   "source": [
    "articles_df.head()"
   ]
  },
  {
   "cell_type": "markdown",
   "metadata": {},
   "source": [
    "### Test Crossref lookup"
   ]
  },
  {
   "cell_type": "code",
   "execution_count": 10,
   "metadata": {},
   "outputs": [],
   "source": [
    "test_doi = articles_df.iloc[0]['doi']"
   ]
  },
  {
   "cell_type": "code",
   "execution_count": 12,
   "metadata": {},
   "outputs": [
    {
     "data": {
      "text/plain": [
       "{'DOI': '10.1016/0002-9343(73)90176-9',\n",
       " 'ISSN': ['0002-9343'],\n",
       " 'URL': 'http://dx.doi.org/10.1016/0002-9343(73)90176-9',\n",
       " 'alternative-id': ['0002934373901769'],\n",
       " 'author': [{'affiliation': [],\n",
       "   'family': 'Brunner',\n",
       "   'given': 'Carolyn M.',\n",
       "   'sequence': 'first'},\n",
       "  {'affiliation': [],\n",
       "   'family': 'Horwitz',\n",
       "   'given': 'David A.',\n",
       "   'sequence': 'additional'},\n",
       "  {'affiliation': [],\n",
       "   'family': 'Shann',\n",
       "   'given': 'Mary K.',\n",
       "   'sequence': 'additional'},\n",
       "  {'affiliation': [],\n",
       "   'family': 'Sturgill',\n",
       "   'given': 'Benjamin A.',\n",
       "   'sequence': 'additional'},\n",
       "  {'affiliation': [],\n",
       "   'family': 'Davis',\n",
       "   'given': 'John S.',\n",
       "   'sequence': 'additional',\n",
       "   'suffix': 'IV'}],\n",
       " 'container-title': ['The American Journal of Medicine'],\n",
       " 'content-domain': {'crossmark-restriction': False, 'domain': []},\n",
       " 'created': {'date-parts': [[2004, 4, 20]],\n",
       "  'date-time': '2004-04-20T04:58:21Z',\n",
       "  'timestamp': 1082437101000},\n",
       " 'deposited': {'date-parts': [[2019, 2, 11]],\n",
       "  'date-time': '2019-02-11T09:25:47Z',\n",
       "  'timestamp': 1549877147000},\n",
       " 'indexed': {'date-parts': [[2019, 11, 18]],\n",
       "  'date-time': '2019-11-18T23:50:32Z',\n",
       "  'timestamp': 1574121032001},\n",
       " 'is-referenced-by-count': 7,\n",
       " 'issn-type': [{'type': 'print', 'value': '0002-9343'}],\n",
       " 'issue': '2',\n",
       " 'issued': {'date-parts': [[1973, 8]]},\n",
       " 'journal-issue': {'issue': '2',\n",
       "  'published-print': {'date-parts': [[1973, 8]]}},\n",
       " 'language': 'en',\n",
       " 'license': [{'URL': 'https://www.elsevier.com/tdm/userlicense/1.0/',\n",
       "   'content-version': 'tdm',\n",
       "   'delay-in-days': 0,\n",
       "   'start': {'date-parts': [[1973, 8, 1]],\n",
       "    'date-time': '1973-08-01T00:00:00Z',\n",
       "    'timestamp': 113011200000}}],\n",
       " 'link': [{'URL': 'https://api.elsevier.com/content/article/PII:0002934373901769?httpAccept=text/xml',\n",
       "   'content-type': 'text/xml',\n",
       "   'content-version': 'vor',\n",
       "   'intended-application': 'text-mining'},\n",
       "  {'URL': 'https://api.elsevier.com/content/article/PII:0002934373901769?httpAccept=text/plain',\n",
       "   'content-type': 'text/plain',\n",
       "   'content-version': 'vor',\n",
       "   'intended-application': 'text-mining'}],\n",
       " 'member': '78',\n",
       " 'original-title': [],\n",
       " 'page': '249-254',\n",
       " 'prefix': '10.1016',\n",
       " 'published-print': {'date-parts': [[1973, 8]]},\n",
       " 'publisher': 'Elsevier BV',\n",
       " 'reference-count': 25,\n",
       " 'references-count': 25,\n",
       " 'relation': {},\n",
       " 'score': 1.0,\n",
       " 'short-container-title': ['The American Journal of Medicine'],\n",
       " 'short-title': [],\n",
       " 'source': 'Crossref',\n",
       " 'subtitle': [],\n",
       " 'title': ['Clinical and immunologic studies in identical twins discordant for systemic lupus erythematosus'],\n",
       " 'type': 'journal-article',\n",
       " 'volume': '55'}"
      ]
     },
     "execution_count": 12,
     "metadata": {},
     "output_type": "execute_result"
    }
   ],
   "source": [
    "crossref.get_publication_as_json(test_doi)"
   ]
  },
  {
   "cell_type": "markdown",
   "metadata": {},
   "source": [
    "## Create function to extract relevant info from crossref doi"
   ]
  },
  {
   "cell_type": "code",
   "execution_count": 17,
   "metadata": {},
   "outputs": [],
   "source": [
    "def getArticleMeta(doi):\n",
    "    fields = [\n",
    "        'title',\n",
    "        'publication',\n",
    "        'year',\n",
    "        'URL'\n",
    "    ]\n",
    "    # create empty dict as default\n",
    "    meta = {'doi': doi}\n",
    "    for f in fields:\n",
    "        meta[f] = np.nan\n",
    "        \n",
    "    try:\n",
    "        ref = crossref.get_publication_as_json(doi)\n",
    "        try:\n",
    "            meta['title'] = ref['title'][0]\n",
    "        except:\n",
    "            pass\n",
    "        \n",
    "        try:\n",
    "            meta['publication'] = ref['container-title'][0]\n",
    "        except:\n",
    "            pass\n",
    "        \n",
    "        try:\n",
    "            meta['year'] = ref['issued']['date-parts'][0][0]\n",
    "        except:\n",
    "            pass\n",
    "        \n",
    "        try: \n",
    "            meta['URL'] = ref['URL']\n",
    "        except:\n",
    "            pass\n",
    "        \n",
    "        return meta\n",
    "        \n",
    "    except:\n",
    "        return meta"
   ]
  },
  {
   "cell_type": "code",
   "execution_count": 18,
   "metadata": {},
   "outputs": [
    {
     "data": {
      "text/plain": [
       "{'URL': 'http://dx.doi.org/10.1016/0002-9343(73)90176-9',\n",
       " 'doi': '10.1016/0002-9343(73)90176-9',\n",
       " 'publication': 'The American Journal of Medicine',\n",
       " 'title': 'Clinical and immunologic studies in identical twins discordant for systemic lupus erythematosus',\n",
       " 'year': 1973}"
      ]
     },
     "execution_count": 18,
     "metadata": {},
     "output_type": "execute_result"
    }
   ],
   "source": [
    "getArticleMeta(test_doi)"
   ]
  },
  {
   "cell_type": "markdown",
   "metadata": {},
   "source": [
    "## Apply this function to get metadata for each article"
   ]
  },
  {
   "cell_type": "code",
   "execution_count": 52,
   "metadata": {},
   "outputs": [],
   "source": [
    "def addArticleMeta(row):\n",
    "    meta = getArticleMeta(row['doi'])\n",
    "    for k in meta.keys():\n",
    "        row[k] = meta[k]\n",
    "    return row"
   ]
  },
  {
   "cell_type": "code",
   "execution_count": 53,
   "metadata": {},
   "outputs": [],
   "source": [
    "test_df = articles_df[:5]"
   ]
  },
  {
   "cell_type": "code",
   "execution_count": 54,
   "metadata": {},
   "outputs": [
    {
     "data": {
      "text/plain": [
       "(5, 4)"
      ]
     },
     "execution_count": 54,
     "metadata": {},
     "output_type": "execute_result"
    }
   ],
   "source": [
    "test_df.shape"
   ]
  },
  {
   "cell_type": "code",
   "execution_count": 55,
   "metadata": {},
   "outputs": [],
   "source": [
    "test_df = test_df.apply(addArticleMeta, axis=1)"
   ]
  },
  {
   "cell_type": "code",
   "execution_count": 56,
   "metadata": {},
   "outputs": [
    {
     "data": {
      "text/html": [
       "<div>\n",
       "<style scoped>\n",
       "    .dataframe tbody tr th:only-of-type {\n",
       "        vertical-align: middle;\n",
       "    }\n",
       "\n",
       "    .dataframe tbody tr th {\n",
       "        vertical-align: top;\n",
       "    }\n",
       "\n",
       "    .dataframe thead th {\n",
       "        text-align: right;\n",
       "    }\n",
       "</style>\n",
       "<table border=\"1\" class=\"dataframe\">\n",
       "  <thead>\n",
       "    <tr style=\"text-align: right;\">\n",
       "      <th></th>\n",
       "      <th>sha</th>\n",
       "      <th>source_x</th>\n",
       "      <th>doi</th>\n",
       "      <th>pubmed_id</th>\n",
       "      <th>title</th>\n",
       "      <th>publication</th>\n",
       "      <th>year</th>\n",
       "      <th>URL</th>\n",
       "    </tr>\n",
       "  </thead>\n",
       "  <tbody>\n",
       "    <tr>\n",
       "      <th>0</th>\n",
       "      <td>aecbc613ebdab36753235197ffb4f35734b5ca63</td>\n",
       "      <td>Elsevier</td>\n",
       "      <td>10.1016/0002-9343(73)90176-9</td>\n",
       "      <td>4579077.0</td>\n",
       "      <td>Clinical and immunologic studies in identical ...</td>\n",
       "      <td>The American Journal of Medicine</td>\n",
       "      <td>1973</td>\n",
       "      <td>http://dx.doi.org/10.1016/0002-9343(73)90176-9</td>\n",
       "    </tr>\n",
       "    <tr>\n",
       "      <th>1</th>\n",
       "      <td>212e990b378e8d267042753d5f9d4a64ea5e9869</td>\n",
       "      <td>Elsevier</td>\n",
       "      <td>10.1016/0002-9343(85)90367-5</td>\n",
       "      <td>2861742.0</td>\n",
       "      <td>Infectious diarrhea: Pathogenesis and risk fac...</td>\n",
       "      <td>The American Journal of Medicine</td>\n",
       "      <td>1985</td>\n",
       "      <td>http://dx.doi.org/10.1016/0002-9343(85)90367-5</td>\n",
       "    </tr>\n",
       "    <tr>\n",
       "      <th>2</th>\n",
       "      <td>bf5d344243153d58be692ceb26f52c08e2bd2d2f</td>\n",
       "      <td>Elsevier</td>\n",
       "      <td>10.1016/0002-9343(88)90356-7</td>\n",
       "      <td>3052052.0</td>\n",
       "      <td>New perspectives on the pathogenesis of rheuma...</td>\n",
       "      <td>The American Journal of Medicine</td>\n",
       "      <td>1988</td>\n",
       "      <td>http://dx.doi.org/10.1016/0002-9343(88)90356-7</td>\n",
       "    </tr>\n",
       "    <tr>\n",
       "      <th>3</th>\n",
       "      <td>ddd2ecf42ec86ad66072962081e1ce4594431f9c</td>\n",
       "      <td>Elsevier</td>\n",
       "      <td>10.1016/0002-9343(88)90456-1</td>\n",
       "      <td>3048091.0</td>\n",
       "      <td>Management of acute and chronic respiratory tr...</td>\n",
       "      <td>The American Journal of Medicine</td>\n",
       "      <td>1988</td>\n",
       "      <td>http://dx.doi.org/10.1016/0002-9343(88)90456-1</td>\n",
       "    </tr>\n",
       "    <tr>\n",
       "      <th>4</th>\n",
       "      <td>a55cb4e724091ced46b5e55b982a14525eea1c7e</td>\n",
       "      <td>Elsevier</td>\n",
       "      <td>10.1016/0002-9343(92)90608-E</td>\n",
       "      <td>1621745.0</td>\n",
       "      <td>Acute bronchitis: Results of U.S. and European...</td>\n",
       "      <td>The American Journal of Medicine</td>\n",
       "      <td>1992</td>\n",
       "      <td>http://dx.doi.org/10.1016/0002-9343(92)90608-e</td>\n",
       "    </tr>\n",
       "  </tbody>\n",
       "</table>\n",
       "</div>"
      ],
      "text/plain": [
       "                                        sha  source_x  \\\n",
       "0  aecbc613ebdab36753235197ffb4f35734b5ca63  Elsevier   \n",
       "1  212e990b378e8d267042753d5f9d4a64ea5e9869  Elsevier   \n",
       "2  bf5d344243153d58be692ceb26f52c08e2bd2d2f  Elsevier   \n",
       "3  ddd2ecf42ec86ad66072962081e1ce4594431f9c  Elsevier   \n",
       "4  a55cb4e724091ced46b5e55b982a14525eea1c7e  Elsevier   \n",
       "\n",
       "                            doi  pubmed_id  \\\n",
       "0  10.1016/0002-9343(73)90176-9  4579077.0   \n",
       "1  10.1016/0002-9343(85)90367-5  2861742.0   \n",
       "2  10.1016/0002-9343(88)90356-7  3052052.0   \n",
       "3  10.1016/0002-9343(88)90456-1  3048091.0   \n",
       "4  10.1016/0002-9343(92)90608-E  1621745.0   \n",
       "\n",
       "                                               title  \\\n",
       "0  Clinical and immunologic studies in identical ...   \n",
       "1  Infectious diarrhea: Pathogenesis and risk fac...   \n",
       "2  New perspectives on the pathogenesis of rheuma...   \n",
       "3  Management of acute and chronic respiratory tr...   \n",
       "4  Acute bronchitis: Results of U.S. and European...   \n",
       "\n",
       "                        publication  year  \\\n",
       "0  The American Journal of Medicine  1973   \n",
       "1  The American Journal of Medicine  1985   \n",
       "2  The American Journal of Medicine  1988   \n",
       "3  The American Journal of Medicine  1988   \n",
       "4  The American Journal of Medicine  1992   \n",
       "\n",
       "                                              URL  \n",
       "0  http://dx.doi.org/10.1016/0002-9343(73)90176-9  \n",
       "1  http://dx.doi.org/10.1016/0002-9343(85)90367-5  \n",
       "2  http://dx.doi.org/10.1016/0002-9343(88)90356-7  \n",
       "3  http://dx.doi.org/10.1016/0002-9343(88)90456-1  \n",
       "4  http://dx.doi.org/10.1016/0002-9343(92)90608-e  "
      ]
     },
     "execution_count": 56,
     "metadata": {},
     "output_type": "execute_result"
    }
   ],
   "source": [
    "test_df"
   ]
  },
  {
   "cell_type": "markdown",
   "metadata": {},
   "source": [
    "### now do it for real\n",
    "Heads up that this command will take at least 1hr+ to run"
   ]
  },
  {
   "cell_type": "code",
   "execution_count": 58,
   "metadata": {},
   "outputs": [],
   "source": [
    "articles_df = articles_df.apply(addArticleMeta, axis=1)"
   ]
  },
  {
   "cell_type": "code",
   "execution_count": 60,
   "metadata": {},
   "outputs": [
    {
     "data": {
      "text/html": [
       "<div>\n",
       "<style scoped>\n",
       "    .dataframe tbody tr th:only-of-type {\n",
       "        vertical-align: middle;\n",
       "    }\n",
       "\n",
       "    .dataframe tbody tr th {\n",
       "        vertical-align: top;\n",
       "    }\n",
       "\n",
       "    .dataframe thead th {\n",
       "        text-align: right;\n",
       "    }\n",
       "</style>\n",
       "<table border=\"1\" class=\"dataframe\">\n",
       "  <thead>\n",
       "    <tr style=\"text-align: right;\">\n",
       "      <th></th>\n",
       "      <th>sha</th>\n",
       "      <th>source_x</th>\n",
       "      <th>doi</th>\n",
       "      <th>pubmed_id</th>\n",
       "      <th>title</th>\n",
       "      <th>publication</th>\n",
       "      <th>year</th>\n",
       "      <th>URL</th>\n",
       "    </tr>\n",
       "  </thead>\n",
       "  <tbody>\n",
       "    <tr>\n",
       "      <th>28457</th>\n",
       "      <td>d4f00f66c732c292fcfc28b19f44daa2fa620901</td>\n",
       "      <td>PMC</td>\n",
       "      <td>10.1371/journal.pone.0188325</td>\n",
       "      <td>29149199.0</td>\n",
       "      <td>Epidemiology and clinical profile of pathogens...</td>\n",
       "      <td>PLOS ONE</td>\n",
       "      <td>2017.0</td>\n",
       "      <td>http://dx.doi.org/10.1371/journal.pone.0188325</td>\n",
       "    </tr>\n",
       "    <tr>\n",
       "      <th>28458</th>\n",
       "      <td>ec575d33c0d3b34af7644fcfed64af045a75ab63</td>\n",
       "      <td>Elsevier</td>\n",
       "      <td>10.1016/j.jmb.2008.12.029</td>\n",
       "      <td>19121325.0</td>\n",
       "      <td>Functional Analysis of the Transmembrane Domai...</td>\n",
       "      <td>Journal of Molecular Biology</td>\n",
       "      <td>2009.0</td>\n",
       "      <td>http://dx.doi.org/10.1016/j.jmb.2008.12.029</td>\n",
       "    </tr>\n",
       "    <tr>\n",
       "      <th>28459</th>\n",
       "      <td>7f8715a818bfd325bf4413d3c07003d7ce7b6f7e</td>\n",
       "      <td>PMC</td>\n",
       "      <td>10.1128/mBio.00898-18</td>\n",
       "      <td>29970463.0</td>\n",
       "      <td>Viral Entry Properties Required for Fitness in...</td>\n",
       "      <td>mBio</td>\n",
       "      <td>2018.0</td>\n",
       "      <td>http://dx.doi.org/10.1128/mbio.00898-18</td>\n",
       "    </tr>\n",
       "    <tr>\n",
       "      <th>28460</th>\n",
       "      <td>07e78e218a159c35e9599e3751a99551a271597b</td>\n",
       "      <td>Elsevier</td>\n",
       "      <td>10.1016/j.virol.2011.01.013</td>\n",
       "      <td>21324503.0</td>\n",
       "      <td>Arenavirus reverse genetics: New approaches fo...</td>\n",
       "      <td>Virology</td>\n",
       "      <td>2011.0</td>\n",
       "      <td>http://dx.doi.org/10.1016/j.virol.2011.01.013</td>\n",
       "    </tr>\n",
       "    <tr>\n",
       "      <th>28461</th>\n",
       "      <td>04bc03c90437934a75fc6fdc228817234ef84c3a</td>\n",
       "      <td>PMC</td>\n",
       "      <td>10.3389/fimmu.2017.01519</td>\n",
       "      <td>29167674.0</td>\n",
       "      <td>A New Immunosuppressive Molecule Emodin Induce...</td>\n",
       "      <td>Frontiers in Immunology</td>\n",
       "      <td>2017.0</td>\n",
       "      <td>http://dx.doi.org/10.3389/fimmu.2017.01519</td>\n",
       "    </tr>\n",
       "  </tbody>\n",
       "</table>\n",
       "</div>"
      ],
      "text/plain": [
       "                                            sha  source_x  \\\n",
       "28457  d4f00f66c732c292fcfc28b19f44daa2fa620901       PMC   \n",
       "28458  ec575d33c0d3b34af7644fcfed64af045a75ab63  Elsevier   \n",
       "28459  7f8715a818bfd325bf4413d3c07003d7ce7b6f7e       PMC   \n",
       "28460  07e78e218a159c35e9599e3751a99551a271597b  Elsevier   \n",
       "28461  04bc03c90437934a75fc6fdc228817234ef84c3a       PMC   \n",
       "\n",
       "                                doi   pubmed_id  \\\n",
       "28457  10.1371/journal.pone.0188325  29149199.0   \n",
       "28458     10.1016/j.jmb.2008.12.029  19121325.0   \n",
       "28459         10.1128/mBio.00898-18  29970463.0   \n",
       "28460   10.1016/j.virol.2011.01.013  21324503.0   \n",
       "28461      10.3389/fimmu.2017.01519  29167674.0   \n",
       "\n",
       "                                                   title  \\\n",
       "28457  Epidemiology and clinical profile of pathogens...   \n",
       "28458  Functional Analysis of the Transmembrane Domai...   \n",
       "28459  Viral Entry Properties Required for Fitness in...   \n",
       "28460  Arenavirus reverse genetics: New approaches fo...   \n",
       "28461  A New Immunosuppressive Molecule Emodin Induce...   \n",
       "\n",
       "                        publication    year  \\\n",
       "28457                      PLOS ONE  2017.0   \n",
       "28458  Journal of Molecular Biology  2009.0   \n",
       "28459                          mBio  2018.0   \n",
       "28460                      Virology  2011.0   \n",
       "28461       Frontiers in Immunology  2017.0   \n",
       "\n",
       "                                                  URL  \n",
       "28457  http://dx.doi.org/10.1371/journal.pone.0188325  \n",
       "28458     http://dx.doi.org/10.1016/j.jmb.2008.12.029  \n",
       "28459         http://dx.doi.org/10.1128/mbio.00898-18  \n",
       "28460   http://dx.doi.org/10.1016/j.virol.2011.01.013  \n",
       "28461      http://dx.doi.org/10.3389/fimmu.2017.01519  "
      ]
     },
     "execution_count": 60,
     "metadata": {},
     "output_type": "execute_result"
    }
   ],
   "source": [
    "articles_df.tail()"
   ]
  },
  {
   "cell_type": "code",
   "execution_count": 61,
   "metadata": {},
   "outputs": [],
   "source": [
    "articles_df.to_csv(join(dataDir, 'articlesFormatted.csv'), index=False)"
   ]
  },
  {
   "cell_type": "code",
   "execution_count": null,
   "metadata": {},
   "outputs": [],
   "source": []
  }
 ],
 "metadata": {
  "kernelspec": {
   "display_name": "Python 3",
   "language": "python",
   "name": "python3"
  },
  "language_info": {
   "codemirror_mode": {
    "name": "ipython",
    "version": 3
   },
   "file_extension": ".py",
   "mimetype": "text/x-python",
   "name": "python",
   "nbconvert_exporter": "python",
   "pygments_lexer": "ipython3",
   "version": "3.6.4"
  }
 },
 "nbformat": 4,
 "nbformat_minor": 4
}
