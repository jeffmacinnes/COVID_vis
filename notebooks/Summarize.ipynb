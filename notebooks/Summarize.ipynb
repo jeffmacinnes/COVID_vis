{
 "cells": [
  {
   "cell_type": "code",
   "execution_count": 54,
   "metadata": {},
   "outputs": [],
   "source": [
    "import numpy as np\n",
    "import pandas as pd\n",
    "import pydeck as pdk\n",
    "import os\n",
    "from os.path import join\n",
    "import matplotlib.pyplot as plt\n",
    "import seaborn as sns\n",
    "\n",
    "import json\n",
    "import time"
   ]
  },
  {
   "cell_type": "code",
   "execution_count": 65,
   "metadata": {},
   "outputs": [],
   "source": [
    "plt.style.use('dark_background')"
   ]
  },
  {
   "cell_type": "code",
   "execution_count": 79,
   "metadata": {},
   "outputs": [],
   "source": [
    "plt.rcParams.update({\n",
    "    'font.size': 22,\n",
    "})"
   ]
  },
  {
   "cell_type": "markdown",
   "metadata": {},
   "source": [
    "# Summarize \n",
    "\n",
    "Summarize the results of the collaborations and citations analysis paths"
   ]
  },
  {
   "cell_type": "code",
   "execution_count": 2,
   "metadata": {},
   "outputs": [],
   "source": [
    "dataDir = '../data'"
   ]
  },
  {
   "cell_type": "markdown",
   "metadata": {},
   "source": [
    "## Overview Stats"
   ]
  },
  {
   "cell_type": "code",
   "execution_count": 3,
   "metadata": {},
   "outputs": [],
   "source": [
    "arts = []\n",
    "with open(join(dataDir, 'articleMetadata.json')) as f:\n",
    "    for i,line in enumerate(f):\n",
    "        thisArt = json.loads(line)\n",
    "        if 'isValid' in thisArt.keys():\n",
    "            arts.append(thisArt)"
   ]
  },
  {
   "cell_type": "code",
   "execution_count": 4,
   "metadata": {},
   "outputs": [
    {
     "name": "stdout",
     "output_type": "stream",
     "text": [
      "88797 total articles\n"
     ]
    }
   ],
   "source": [
    "print('{} total articles'.format(len(arts)))"
   ]
  },
  {
   "cell_type": "code",
   "execution_count": 5,
   "metadata": {},
   "outputs": [
    {
     "name": "stdout",
     "output_type": "stream",
     "text": [
      "2700407.0 total collaborations\n"
     ]
    }
   ],
   "source": [
    "# calculate the total number of collaborations\n",
    "# defined as any two individuals working together on the same paper\n",
    "nTotalCollabs = 0\n",
    "for art in arts:\n",
    "    nAuthors = art['nAuthors']\n",
    "    nCollabs = nAuthors * (nAuthors-1) / 2 # calculate unique pairwise collaborations among authors\n",
    "    nTotalCollabs += nCollabs\n",
    "\n",
    "print('{} total collaborations'.format(nTotalCollabs))\n",
    "    "
   ]
  },
  {
   "cell_type": "markdown",
   "metadata": {},
   "source": [
    "## Cross-geo Collaborations"
   ]
  },
  {
   "cell_type": "code",
   "execution_count": 115,
   "metadata": {},
   "outputs": [],
   "source": [
    "collabs_df = pd.read_csv(join(dataDir, 'processed', 'collaborations.csv'))"
   ]
  },
  {
   "cell_type": "code",
   "execution_count": 116,
   "metadata": {},
   "outputs": [
    {
     "data": {
      "text/plain": [
       "(342900, 10)"
      ]
     },
     "execution_count": 116,
     "metadata": {},
     "output_type": "execute_result"
    }
   ],
   "source": [
    "collabs_df.shape"
   ]
  },
  {
   "cell_type": "code",
   "execution_count": 117,
   "metadata": {},
   "outputs": [
    {
     "data": {
      "text/html": [
       "<div>\n",
       "<style scoped>\n",
       "    .dataframe tbody tr th:only-of-type {\n",
       "        vertical-align: middle;\n",
       "    }\n",
       "\n",
       "    .dataframe tbody tr th {\n",
       "        vertical-align: top;\n",
       "    }\n",
       "\n",
       "    .dataframe thead th {\n",
       "        text-align: right;\n",
       "    }\n",
       "</style>\n",
       "<table border=\"1\" class=\"dataframe\">\n",
       "  <thead>\n",
       "    <tr style=\"text-align: right;\">\n",
       "      <th></th>\n",
       "      <th>PMCID</th>\n",
       "      <th>ePubDate</th>\n",
       "      <th>geoID_A</th>\n",
       "      <th>geoID_B</th>\n",
       "      <th>lat_A</th>\n",
       "      <th>lng_A</th>\n",
       "      <th>fmtAddr_A</th>\n",
       "      <th>lat_B</th>\n",
       "      <th>lng_B</th>\n",
       "      <th>fmtAddr_B</th>\n",
       "    </tr>\n",
       "  </thead>\n",
       "  <tbody>\n",
       "    <tr>\n",
       "      <th>0</th>\n",
       "      <td>PMC7581440</td>\n",
       "      <td>10-23-2020</td>\n",
       "      <td>ChIJ7faBuL7or0cRYDuslG2sJQQ</td>\n",
       "      <td>ChIJAVkDPzdOqEcRcDteW0YgIQQ</td>\n",
       "      <td>52.480909</td>\n",
       "      <td>10.550783</td>\n",
       "      <td>38518 Gifhorn, Germany</td>\n",
       "      <td>52.520007</td>\n",
       "      <td>13.404954</td>\n",
       "      <td>Berlin, Germany</td>\n",
       "    </tr>\n",
       "    <tr>\n",
       "      <th>1</th>\n",
       "      <td>PMC7581502</td>\n",
       "      <td>10-23-2020</td>\n",
       "      <td>ChIJc8r44c9unUcRDZsdKH0cIJ0</td>\n",
       "      <td>ChIJuRMYfoNhsUcRoDrWe_I9JgQ</td>\n",
       "      <td>47.269212</td>\n",
       "      <td>11.404102</td>\n",
       "      <td>Innsbruck, Austria</td>\n",
       "      <td>53.551085</td>\n",
       "      <td>9.993682</td>\n",
       "      <td>Hamburg, Germany</td>\n",
       "    </tr>\n",
       "    <tr>\n",
       "      <th>2</th>\n",
       "      <td>PMC7581692</td>\n",
       "      <td>10-23-2020</td>\n",
       "      <td>ChIJmb1k2ko-eUgRqdwTAv26rVE</td>\n",
       "      <td>ChIJra6o8IHuBUgRMO0NHlI3DQQ</td>\n",
       "      <td>53.800755</td>\n",
       "      <td>-1.549077</td>\n",
       "      <td>Leeds, UK</td>\n",
       "      <td>47.218371</td>\n",
       "      <td>-1.553621</td>\n",
       "      <td>Nantes, France</td>\n",
       "    </tr>\n",
       "    <tr>\n",
       "      <th>3</th>\n",
       "      <td>PMC7581692</td>\n",
       "      <td>10-23-2020</td>\n",
       "      <td>ChIJmb1k2ko-eUgRqdwTAv26rVE</td>\n",
       "      <td>ChIJsZ3dJQevthIRAuiUKHRWh60</td>\n",
       "      <td>53.800755</td>\n",
       "      <td>-1.549077</td>\n",
       "      <td>Leeds, UK</td>\n",
       "      <td>43.610769</td>\n",
       "      <td>3.876716</td>\n",
       "      <td>Montpellier, France</td>\n",
       "    </tr>\n",
       "    <tr>\n",
       "      <th>4</th>\n",
       "      <td>PMC7581692</td>\n",
       "      <td>10-23-2020</td>\n",
       "      <td>ChIJmb1k2ko-eUgRqdwTAv26rVE</td>\n",
       "      <td>ChIJt2BwZIrfekgRAW4XP28E3EI</td>\n",
       "      <td>53.800755</td>\n",
       "      <td>-1.549077</td>\n",
       "      <td>Leeds, UK</td>\n",
       "      <td>53.408371</td>\n",
       "      <td>-2.991573</td>\n",
       "      <td>Liverpool, UK</td>\n",
       "    </tr>\n",
       "  </tbody>\n",
       "</table>\n",
       "</div>"
      ],
      "text/plain": [
       "        PMCID    ePubDate                      geoID_A  \\\n",
       "0  PMC7581440  10-23-2020  ChIJ7faBuL7or0cRYDuslG2sJQQ   \n",
       "1  PMC7581502  10-23-2020  ChIJc8r44c9unUcRDZsdKH0cIJ0   \n",
       "2  PMC7581692  10-23-2020  ChIJmb1k2ko-eUgRqdwTAv26rVE   \n",
       "3  PMC7581692  10-23-2020  ChIJmb1k2ko-eUgRqdwTAv26rVE   \n",
       "4  PMC7581692  10-23-2020  ChIJmb1k2ko-eUgRqdwTAv26rVE   \n",
       "\n",
       "                       geoID_B      lat_A      lng_A               fmtAddr_A  \\\n",
       "0  ChIJAVkDPzdOqEcRcDteW0YgIQQ  52.480909  10.550783  38518 Gifhorn, Germany   \n",
       "1  ChIJuRMYfoNhsUcRoDrWe_I9JgQ  47.269212  11.404102      Innsbruck, Austria   \n",
       "2  ChIJra6o8IHuBUgRMO0NHlI3DQQ  53.800755  -1.549077               Leeds, UK   \n",
       "3  ChIJsZ3dJQevthIRAuiUKHRWh60  53.800755  -1.549077               Leeds, UK   \n",
       "4  ChIJt2BwZIrfekgRAW4XP28E3EI  53.800755  -1.549077               Leeds, UK   \n",
       "\n",
       "       lat_B      lng_B            fmtAddr_B  \n",
       "0  52.520007  13.404954      Berlin, Germany  \n",
       "1  53.551085   9.993682     Hamburg, Germany  \n",
       "2  47.218371  -1.553621       Nantes, France  \n",
       "3  43.610769   3.876716  Montpellier, France  \n",
       "4  53.408371  -2.991573        Liverpool, UK  "
      ]
     },
     "execution_count": 117,
     "metadata": {},
     "output_type": "execute_result"
    }
   ],
   "source": [
    "collabs_df.head()"
   ]
  },
  {
   "cell_type": "markdown",
   "metadata": {},
   "source": [
    "### Visualize geography of all collabs"
   ]
  },
  {
   "cell_type": "code",
   "execution_count": 118,
   "metadata": {},
   "outputs": [],
   "source": [
    "with open('mapboxAPI_key.txt', 'r') as f:\n",
    "    MAPBOX_TOKEN = f.read().rstrip('\\n')"
   ]
  },
  {
   "cell_type": "code",
   "execution_count": 119,
   "metadata": {},
   "outputs": [],
   "source": [
    "# visualize using pydeck\n",
    "arc_layer = pdk.Layer(\n",
    "    \"ArcLayer\",\n",
    "    data=collabs_df,\n",
    "    great_circle=False,\n",
    "    get_width=1,\n",
    "    get_height=.6,\n",
    "    get_source_position=[\"lng_A\", \"lat_A\"],\n",
    "    get_target_position=[\"lng_B\", \"lat_B\"],\n",
    "    get_tilt=15,\n",
    "    get_source_color=[240, 100, 0, 10],\n",
    "    get_target_color=[240, 100, 0, 10],\n",
    "    pickable=False,\n",
    "    auto_highlight=True\n",
    ")\n",
    "\n",
    "view_state = pdk.ViewState(latitude=37.7576171, longitude=-122.5776844, bearing=45, pitch=50, zoom=8,)\n",
    "\n",
    "TOOLTIP_TEXT = {\"html\": \"{fmtAddr_A} to {fmtAddr_B}\"}\n",
    "r = pdk.Deck(\n",
    "    arc_layer, \n",
    "    initial_view_state=view_state, \n",
    "    mapbox_key=MAPBOX_TOKEN,\n",
    "    tooltip=TOOLTIP_TEXT\n",
    ")\n",
    "\n",
    "# this is really heavy\n",
    "#r.to_html(\"crossGeoCollabs.html\")"
   ]
  },
  {
   "cell_type": "markdown",
   "metadata": {},
   "source": [
    "### Collaborations by GEO ID\n",
    "Get stats on each unique geoID in the dataset"
   ]
  },
  {
   "cell_type": "code",
   "execution_count": 6,
   "metadata": {},
   "outputs": [],
   "source": [
    "collabsByGeo_df = pd.read_csv(join(dataDir, 'processed', 'collabsByGeo.csv'))"
   ]
  },
  {
   "cell_type": "code",
   "execution_count": 7,
   "metadata": {},
   "outputs": [
    {
     "data": {
      "text/html": [
       "<div>\n",
       "<style scoped>\n",
       "    .dataframe tbody tr th:only-of-type {\n",
       "        vertical-align: middle;\n",
       "    }\n",
       "\n",
       "    .dataframe tbody tr th {\n",
       "        vertical-align: top;\n",
       "    }\n",
       "\n",
       "    .dataframe thead th {\n",
       "        text-align: right;\n",
       "    }\n",
       "</style>\n",
       "<table border=\"1\" class=\"dataframe\">\n",
       "  <thead>\n",
       "    <tr style=\"text-align: right;\">\n",
       "      <th></th>\n",
       "      <th>formattedAddr</th>\n",
       "      <th>nTotal</th>\n",
       "      <th>lat</th>\n",
       "      <th>lng</th>\n",
       "      <th>geoID</th>\n",
       "    </tr>\n",
       "  </thead>\n",
       "  <tbody>\n",
       "    <tr>\n",
       "      <th>4</th>\n",
       "      <td>London, UK</td>\n",
       "      <td>11655</td>\n",
       "      <td>51.507351</td>\n",
       "      <td>-0.127758</td>\n",
       "      <td>ChIJdd4hrwug2EcRmSrV3Vo6llI</td>\n",
       "    </tr>\n",
       "    <tr>\n",
       "      <th>19</th>\n",
       "      <td>Boston, MA, USA</td>\n",
       "      <td>8453</td>\n",
       "      <td>42.360083</td>\n",
       "      <td>-71.058880</td>\n",
       "      <td>ChIJGzE9DS1l44kRoOhiASS_fHg</td>\n",
       "    </tr>\n",
       "    <tr>\n",
       "      <th>17</th>\n",
       "      <td>New York, NY, USA</td>\n",
       "      <td>8329</td>\n",
       "      <td>40.712775</td>\n",
       "      <td>-74.005973</td>\n",
       "      <td>ChIJOwg_06VPwokRYv534QaPC8g</td>\n",
       "    </tr>\n",
       "    <tr>\n",
       "      <th>13</th>\n",
       "      <td>Paris, France</td>\n",
       "      <td>6171</td>\n",
       "      <td>48.856614</td>\n",
       "      <td>2.352222</td>\n",
       "      <td>ChIJD7fiBh9u5kcRYJSMaMOCCwQ</td>\n",
       "    </tr>\n",
       "    <tr>\n",
       "      <th>190</th>\n",
       "      <td>Milan, Metropolitan City of Milan, Italy</td>\n",
       "      <td>5639</td>\n",
       "      <td>45.464203</td>\n",
       "      <td>9.189982</td>\n",
       "      <td>ChIJ53USP0nBhkcRjQ50xhPN_zw</td>\n",
       "    </tr>\n",
       "    <tr>\n",
       "      <th>74</th>\n",
       "      <td>Madrid, Spain</td>\n",
       "      <td>5474</td>\n",
       "      <td>40.416775</td>\n",
       "      <td>-3.703790</td>\n",
       "      <td>ChIJgTwKgJcpQg0RaSKMYcHeNsQ</td>\n",
       "    </tr>\n",
       "    <tr>\n",
       "      <th>233</th>\n",
       "      <td>Barcelona, Spain</td>\n",
       "      <td>5287</td>\n",
       "      <td>41.385064</td>\n",
       "      <td>2.173404</td>\n",
       "      <td>ChIJ5TCOcRaYpBIRCmZHTz37sEQ</td>\n",
       "    </tr>\n",
       "    <tr>\n",
       "      <th>56</th>\n",
       "      <td>Rome, Metropolitan City of Rome, Italy</td>\n",
       "      <td>5010</td>\n",
       "      <td>41.902784</td>\n",
       "      <td>12.496365</td>\n",
       "      <td>ChIJu46S-ZZhLxMROG5lkwZ3D7k</td>\n",
       "    </tr>\n",
       "    <tr>\n",
       "      <th>116</th>\n",
       "      <td>Beijing, China</td>\n",
       "      <td>4923</td>\n",
       "      <td>39.904200</td>\n",
       "      <td>116.407396</td>\n",
       "      <td>ChIJuSwU55ZS8DURiqkPryBWYrk</td>\n",
       "    </tr>\n",
       "    <tr>\n",
       "      <th>95</th>\n",
       "      <td>Toronto, ON, Canada</td>\n",
       "      <td>4561</td>\n",
       "      <td>43.653226</td>\n",
       "      <td>-79.383184</td>\n",
       "      <td>ChIJpTvG15DL1IkRd8S0KlBVNTI</td>\n",
       "    </tr>\n",
       "  </tbody>\n",
       "</table>\n",
       "</div>"
      ],
      "text/plain": [
       "                                formattedAddr  nTotal        lat         lng  \\\n",
       "4                                  London, UK   11655  51.507351   -0.127758   \n",
       "19                            Boston, MA, USA    8453  42.360083  -71.058880   \n",
       "17                          New York, NY, USA    8329  40.712775  -74.005973   \n",
       "13                              Paris, France    6171  48.856614    2.352222   \n",
       "190  Milan, Metropolitan City of Milan, Italy    5639  45.464203    9.189982   \n",
       "74                              Madrid, Spain    5474  40.416775   -3.703790   \n",
       "233                          Barcelona, Spain    5287  41.385064    2.173404   \n",
       "56     Rome, Metropolitan City of Rome, Italy    5010  41.902784   12.496365   \n",
       "116                            Beijing, China    4923  39.904200  116.407396   \n",
       "95                        Toronto, ON, Canada    4561  43.653226  -79.383184   \n",
       "\n",
       "                           geoID  \n",
       "4    ChIJdd4hrwug2EcRmSrV3Vo6llI  \n",
       "19   ChIJGzE9DS1l44kRoOhiASS_fHg  \n",
       "17   ChIJOwg_06VPwokRYv534QaPC8g  \n",
       "13   ChIJD7fiBh9u5kcRYJSMaMOCCwQ  \n",
       "190  ChIJ53USP0nBhkcRjQ50xhPN_zw  \n",
       "74   ChIJgTwKgJcpQg0RaSKMYcHeNsQ  \n",
       "233  ChIJ5TCOcRaYpBIRCmZHTz37sEQ  \n",
       "56   ChIJu46S-ZZhLxMROG5lkwZ3D7k  \n",
       "116  ChIJuSwU55ZS8DURiqkPryBWYrk  \n",
       "95   ChIJpTvG15DL1IkRd8S0KlBVNTI  "
      ]
     },
     "execution_count": 7,
     "metadata": {},
     "output_type": "execute_result"
    }
   ],
   "source": [
    "topTotal = collabsByGeo_df.sort_values('nTotal', ascending=False).head(10)\n",
    "topTotal[['formattedAddr', 'nTotal', 'lat', 'lng', 'geoID']]"
   ]
  },
  {
   "cell_type": "code",
   "execution_count": 8,
   "metadata": {},
   "outputs": [
    {
     "data": {
      "text/html": [
       "<div>\n",
       "<style scoped>\n",
       "    .dataframe tbody tr th:only-of-type {\n",
       "        vertical-align: middle;\n",
       "    }\n",
       "\n",
       "    .dataframe tbody tr th {\n",
       "        vertical-align: top;\n",
       "    }\n",
       "\n",
       "    .dataframe thead th {\n",
       "        text-align: right;\n",
       "    }\n",
       "</style>\n",
       "<table border=\"1\" class=\"dataframe\">\n",
       "  <thead>\n",
       "    <tr style=\"text-align: right;\">\n",
       "      <th></th>\n",
       "      <th>formattedAddr</th>\n",
       "      <th>nUnique</th>\n",
       "      <th>lat</th>\n",
       "      <th>lng</th>\n",
       "      <th>geoID</th>\n",
       "    </tr>\n",
       "  </thead>\n",
       "  <tbody>\n",
       "    <tr>\n",
       "      <th>4</th>\n",
       "      <td>London, UK</td>\n",
       "      <td>1837</td>\n",
       "      <td>51.507351</td>\n",
       "      <td>-0.127758</td>\n",
       "      <td>ChIJdd4hrwug2EcRmSrV3Vo6llI</td>\n",
       "    </tr>\n",
       "    <tr>\n",
       "      <th>17</th>\n",
       "      <td>New York, NY, USA</td>\n",
       "      <td>1597</td>\n",
       "      <td>40.712775</td>\n",
       "      <td>-74.005973</td>\n",
       "      <td>ChIJOwg_06VPwokRYv534QaPC8g</td>\n",
       "    </tr>\n",
       "    <tr>\n",
       "      <th>19</th>\n",
       "      <td>Boston, MA, USA</td>\n",
       "      <td>1419</td>\n",
       "      <td>42.360083</td>\n",
       "      <td>-71.058880</td>\n",
       "      <td>ChIJGzE9DS1l44kRoOhiASS_fHg</td>\n",
       "    </tr>\n",
       "    <tr>\n",
       "      <th>13</th>\n",
       "      <td>Paris, France</td>\n",
       "      <td>1233</td>\n",
       "      <td>48.856614</td>\n",
       "      <td>2.352222</td>\n",
       "      <td>ChIJD7fiBh9u5kcRYJSMaMOCCwQ</td>\n",
       "    </tr>\n",
       "    <tr>\n",
       "      <th>190</th>\n",
       "      <td>Milan, Metropolitan City of Milan, Italy</td>\n",
       "      <td>1203</td>\n",
       "      <td>45.464203</td>\n",
       "      <td>9.189982</td>\n",
       "      <td>ChIJ53USP0nBhkcRjQ50xhPN_zw</td>\n",
       "    </tr>\n",
       "    <tr>\n",
       "      <th>74</th>\n",
       "      <td>Madrid, Spain</td>\n",
       "      <td>1165</td>\n",
       "      <td>40.416775</td>\n",
       "      <td>-3.703790</td>\n",
       "      <td>ChIJgTwKgJcpQg0RaSKMYcHeNsQ</td>\n",
       "    </tr>\n",
       "    <tr>\n",
       "      <th>265</th>\n",
       "      <td>Seattle, WA, USA</td>\n",
       "      <td>1100</td>\n",
       "      <td>47.606209</td>\n",
       "      <td>-122.332071</td>\n",
       "      <td>ChIJVTPokywQkFQRmtVEaUZlJRA</td>\n",
       "    </tr>\n",
       "    <tr>\n",
       "      <th>233</th>\n",
       "      <td>Barcelona, Spain</td>\n",
       "      <td>1099</td>\n",
       "      <td>41.385064</td>\n",
       "      <td>2.173404</td>\n",
       "      <td>ChIJ5TCOcRaYpBIRCmZHTz37sEQ</td>\n",
       "    </tr>\n",
       "    <tr>\n",
       "      <th>116</th>\n",
       "      <td>Beijing, China</td>\n",
       "      <td>1088</td>\n",
       "      <td>39.904200</td>\n",
       "      <td>116.407396</td>\n",
       "      <td>ChIJuSwU55ZS8DURiqkPryBWYrk</td>\n",
       "    </tr>\n",
       "    <tr>\n",
       "      <th>95</th>\n",
       "      <td>Toronto, ON, Canada</td>\n",
       "      <td>1085</td>\n",
       "      <td>43.653226</td>\n",
       "      <td>-79.383184</td>\n",
       "      <td>ChIJpTvG15DL1IkRd8S0KlBVNTI</td>\n",
       "    </tr>\n",
       "  </tbody>\n",
       "</table>\n",
       "</div>"
      ],
      "text/plain": [
       "                                formattedAddr  nUnique        lat         lng  \\\n",
       "4                                  London, UK     1837  51.507351   -0.127758   \n",
       "17                          New York, NY, USA     1597  40.712775  -74.005973   \n",
       "19                            Boston, MA, USA     1419  42.360083  -71.058880   \n",
       "13                              Paris, France     1233  48.856614    2.352222   \n",
       "190  Milan, Metropolitan City of Milan, Italy     1203  45.464203    9.189982   \n",
       "74                              Madrid, Spain     1165  40.416775   -3.703790   \n",
       "265                          Seattle, WA, USA     1100  47.606209 -122.332071   \n",
       "233                          Barcelona, Spain     1099  41.385064    2.173404   \n",
       "116                            Beijing, China     1088  39.904200  116.407396   \n",
       "95                        Toronto, ON, Canada     1085  43.653226  -79.383184   \n",
       "\n",
       "                           geoID  \n",
       "4    ChIJdd4hrwug2EcRmSrV3Vo6llI  \n",
       "17   ChIJOwg_06VPwokRYv534QaPC8g  \n",
       "19   ChIJGzE9DS1l44kRoOhiASS_fHg  \n",
       "13   ChIJD7fiBh9u5kcRYJSMaMOCCwQ  \n",
       "190  ChIJ53USP0nBhkcRjQ50xhPN_zw  \n",
       "74   ChIJgTwKgJcpQg0RaSKMYcHeNsQ  \n",
       "265  ChIJVTPokywQkFQRmtVEaUZlJRA  \n",
       "233  ChIJ5TCOcRaYpBIRCmZHTz37sEQ  \n",
       "116  ChIJuSwU55ZS8DURiqkPryBWYrk  \n",
       "95   ChIJpTvG15DL1IkRd8S0KlBVNTI  "
      ]
     },
     "execution_count": 8,
     "metadata": {},
     "output_type": "execute_result"
    }
   ],
   "source": [
    "topUnique = collabsByGeo_df.sort_values('nUnique', ascending=False).head(10)\n",
    "topUnique[['formattedAddr', 'nUnique', 'lat', 'lng', 'geoID']]"
   ]
  },
  {
   "cell_type": "markdown",
   "metadata": {},
   "source": [
    "## Citation Network"
   ]
  },
  {
   "cell_type": "code",
   "execution_count": 9,
   "metadata": {},
   "outputs": [],
   "source": [
    "citations = []\n",
    "with open(join(dataDir, 'articleCitations.json')) as f:\n",
    "    for i,line in enumerate(f):\n",
    "        thisCit = json.loads(line)\n",
    "        citations.append(thisCit)"
   ]
  },
  {
   "cell_type": "code",
   "execution_count": 10,
   "metadata": {},
   "outputs": [],
   "source": [
    "cite_df = pd.DataFrame(citations)\n",
    "cite_df.drop('citations', axis=1, inplace=True)"
   ]
  },
  {
   "cell_type": "code",
   "execution_count": 11,
   "metadata": {},
   "outputs": [
    {
     "data": {
      "text/html": [
       "<div>\n",
       "<style scoped>\n",
       "    .dataframe tbody tr th:only-of-type {\n",
       "        vertical-align: middle;\n",
       "    }\n",
       "\n",
       "    .dataframe tbody tr th {\n",
       "        vertical-align: top;\n",
       "    }\n",
       "\n",
       "    .dataframe thead th {\n",
       "        text-align: right;\n",
       "    }\n",
       "</style>\n",
       "<table border=\"1\" class=\"dataframe\">\n",
       "  <thead>\n",
       "    <tr style=\"text-align: right;\">\n",
       "      <th></th>\n",
       "      <th>PMCID</th>\n",
       "      <th>nCitations</th>\n",
       "      <th>nCovidCitations</th>\n",
       "    </tr>\n",
       "  </thead>\n",
       "  <tbody>\n",
       "    <tr>\n",
       "      <th>0</th>\n",
       "      <td>PMC7405836</td>\n",
       "      <td>39</td>\n",
       "      <td>38</td>\n",
       "    </tr>\n",
       "    <tr>\n",
       "      <th>1</th>\n",
       "      <td>PMC7373339</td>\n",
       "      <td>8</td>\n",
       "      <td>8</td>\n",
       "    </tr>\n",
       "    <tr>\n",
       "      <th>2</th>\n",
       "      <td>PMC7459861</td>\n",
       "      <td>5</td>\n",
       "      <td>5</td>\n",
       "    </tr>\n",
       "    <tr>\n",
       "      <th>3</th>\n",
       "      <td>PMC7260568</td>\n",
       "      <td>18</td>\n",
       "      <td>18</td>\n",
       "    </tr>\n",
       "    <tr>\n",
       "      <th>4</th>\n",
       "      <td>PMC7744810</td>\n",
       "      <td>0</td>\n",
       "      <td>0</td>\n",
       "    </tr>\n",
       "  </tbody>\n",
       "</table>\n",
       "</div>"
      ],
      "text/plain": [
       "        PMCID  nCitations  nCovidCitations\n",
       "0  PMC7405836          39               38\n",
       "1  PMC7373339           8                8\n",
       "2  PMC7459861           5                5\n",
       "3  PMC7260568          18               18\n",
       "4  PMC7744810           0                0"
      ]
     },
     "execution_count": 11,
     "metadata": {},
     "output_type": "execute_result"
    }
   ],
   "source": [
    "cite_df.head()"
   ]
  },
  {
   "cell_type": "markdown",
   "metadata": {},
   "source": [
    "### Proportion of articles that have been cited\n",
    "Show a cumulative distribution of all articles by number of citations for each article"
   ]
  },
  {
   "cell_type": "code",
   "execution_count": 97,
   "metadata": {},
   "outputs": [
    {
     "data": {
      "text/plain": [
       "(-1.0, 30.0)"
      ]
     },
     "execution_count": 97,
     "metadata": {},
     "output_type": "execute_result"
    },
    {
     "data": {
      "image/png": "[encoded data removed]",
      "text/plain": [
       "<Figure size 1080x720 with 1 Axes>"
      ]
     },
     "metadata": {},
     "output_type": "display_data"
    }
   ],
   "source": [
    "fig = plt.figure(figsize=(15,10))\n",
    "sns.ecdfplot(data=cite_df[cite_df['nCitations']>0], x=\"nCitations\", c=\"orange\")\n",
    "sns.ecdfplot(data=cite_df[cite_df['nCovidCitations']>0], x=\"nCovidCitations\", c=\"powderblue\")\n",
    "plt.legend(labels=['All citations', 'Within COVID dataset'])\n",
    "plt.xlim([-1, 30])"
   ]
  },
  {
   "cell_type": "markdown",
   "metadata": {},
   "source": [
    "### Simple stats on citations"
   ]
  },
  {
   "cell_type": "code",
   "execution_count": 96,
   "metadata": {},
   "outputs": [
    {
     "name": "stdout",
     "output_type": "stream",
     "text": [
      "34443 (39.6%) of articles have at least 1 citation\n",
      "7271 (8.4%) of articles have at least 10 citation\n",
      "3264 (3.8%) of articles have at least 25 citation\n",
      "1714 (2.0%) of articles have at least 50 citation\n",
      "805 (0.9%) of articles have at least 100 citation\n",
      "34 (0.0%) of articles have at least 1000 citation\n"
     ]
    }
   ],
   "source": [
    "nArts = cite_df.shape[0]\n",
    "nAnyCite = cite_df[cite_df['nCitations'] > 0].shape[0]\n",
    "n10 = cite_df[cite_df['nCitations'] >= 10].shape[0]\n",
    "n25 = cite_df[cite_df['nCitations'] >= 25].shape[0]\n",
    "n50 = cite_df[cite_df['nCitations'] >= 50].shape[0]\n",
    "n100 = cite_df[cite_df['nCitations'] >= 100].shape[0]\n",
    "n1000 = cite_df[cite_df['nCitations'] >= 1000].shape[0]\n",
    "\n",
    "\n",
    "print('{} ({:.1f}%) of articles have at least 1 citation'.format(nAnyCite, nAnyCite / nArts * 100))\n",
    "print('{} ({:.1f}%) of articles have at least 10 citation'.format(n10, n10 / nArts * 100))\n",
    "print('{} ({:.1f}%) of articles have at least 25 citation'.format(n25, n25 / nArts * 100))\n",
    "print('{} ({:.1f}%) of articles have at least 50 citation'.format(n50, n50 / nArts * 100))\n",
    "print('{} ({:.1f}%) of articles have at least 100 citation'.format(n100, n100 / nArts * 100))\n",
    "print('{} ({:.1f}%) of articles have at least 1000 citation'.format(n1000, n1000 / nArts * 100))"
   ]
  },
  {
   "cell_type": "code",
   "execution_count": 113,
   "metadata": {},
   "outputs": [
    {
     "name": "stdout",
     "output_type": "stream",
     "text": [
      "#1 - PMC7159299 (cited by 8515)\n",
      "Clinical features of patients infected with 2019 novel coronavirus in Wuhan, China\n",
      "https://www.ncbi.nlm.nih.gov/pmc/oai/oai.cgi?verb=GetRecord&identifier=oai:pubmedcentral.nih.gov:7159299&metadataPrefix=pmc\n",
      "----------\n",
      "#2 - PMC7092819 (cited by 5265)\n",
      "Clinical Characteristics of Coronavirus Disease 2019 in China\n",
      "https://www.ncbi.nlm.nih.gov/pmc/oai/oai.cgi?verb=GetRecord&identifier=oai:pubmedcentral.nih.gov:7092819&metadataPrefix=pmc\n",
      "----------\n",
      "#3 - PMC7270627 (cited by 5087)\n",
      "Clinical course and risk factors for mortality of adult inpatients with COVID-19 in Wuhan, China: a retrospective cohort study\n",
      "https://www.ncbi.nlm.nih.gov/pmc/oai/oai.cgi?verb=GetRecord&identifier=oai:pubmedcentral.nih.gov:7270627&metadataPrefix=pmc\n",
      "----------\n",
      "#4 - PMC7092803 (cited by 4780)\n",
      "A Novel Coronavirus from Patients with Pneumonia in China, 2019\n",
      "https://www.ncbi.nlm.nih.gov/pmc/oai/oai.cgi?verb=GetRecord&identifier=oai:pubmedcentral.nih.gov:7092803&metadataPrefix=pmc\n",
      "----------\n",
      "#5 - PMC7135076 (cited by 4336)\n",
      "Epidemiological and clinical characteristics of 99 cases of 2019 novel coronavirus pneumonia in Wuhan, China: a descriptive study\n",
      "https://www.ncbi.nlm.nih.gov/pmc/oai/oai.cgi?verb=GetRecord&identifier=oai:pubmedcentral.nih.gov:7135076&metadataPrefix=pmc\n",
      "----------\n",
      "#6 - PMC7095418 (cited by 3588)\n",
      "A pneumonia outbreak associated with a new coronavirus of probable bat origin\n",
      "https://www.ncbi.nlm.nih.gov/pmc/oai/oai.cgi?verb=GetRecord&identifier=oai:pubmedcentral.nih.gov:7095418&metadataPrefix=pmc\n",
      "----------\n",
      "#7 - PMC7121484 (cited by 3188)\n",
      "Early Transmission Dynamics in Wuhan, China, of Novel Coronavirus–Infected Pneumonia\n",
      "https://www.ncbi.nlm.nih.gov/pmc/oai/oai.cgi?verb=GetRecord&identifier=oai:pubmedcentral.nih.gov:7121484&metadataPrefix=pmc\n",
      "----------\n",
      "#8 - PMC7102627 (cited by 2915)\n",
      "SARS-CoV-2 Cell Entry Depends on ACE2 and TMPRSS2 and Is Blocked by a Clinically Proven Protease Inhibitor\n",
      "https://www.ncbi.nlm.nih.gov/pmc/oai/oai.cgi?verb=GetRecord&identifier=oai:pubmedcentral.nih.gov:7102627&metadataPrefix=pmc\n",
      "----------\n",
      "#9 - PMC7159086 (cited by 2385)\n",
      "Genomic characterisation and epidemiology of 2019 novel coronavirus: implications for virus origins and receptor binding\n",
      "https://www.ncbi.nlm.nih.gov/pmc/oai/oai.cgi?verb=GetRecord&identifier=oai:pubmedcentral.nih.gov:7159086&metadataPrefix=pmc\n",
      "----------\n",
      "#10 - PMC7102538 (cited by 2247)\n",
      "Clinical course and outcomes of critically ill patients with SARS-CoV-2 pneumonia in Wuhan, China: a single-centered, retrospective, observational study\n",
      "https://www.ncbi.nlm.nih.gov/pmc/oai/oai.cgi?verb=GetRecord&identifier=oai:pubmedcentral.nih.gov:7102538&metadataPrefix=pmc\n",
      "----------\n"
     ]
    }
   ],
   "source": [
    "# most cited\n",
    "mostCited = cite_df.sort_values('nCitations', ascending=False)\n",
    "mostCited_pmcids = mostCited[:10]['PMCID'].to_list()\n",
    "\n",
    "for idx, i in enumerate(mostCited_pmcids):\n",
    "    thisArt = [x for x in arts if x['PMCID'] == i][0]\n",
    "    print('#{} - {} (cited by {})'.format(idx+1, i, mostCited.iloc[idx]['nCitations']))\n",
    "    print('{}'.format(thisArt['title']))\n",
    "    print('{}'.format(thisArt['URL']))\n",
    "    print('-'*10)\n"
   ]
  },
  {
   "cell_type": "code",
   "execution_count": null,
   "metadata": {},
   "outputs": [],
   "source": []
  }
 ],
 "metadata": {
  "kernelspec": {
   "display_name": "Python 3",
   "language": "python",
   "name": "python3"
  },
  "language_info": {
   "codemirror_mode": {
    "name": "ipython",
    "version": 3
   },
   "file_extension": ".py",
   "mimetype": "text/x-python",
   "name": "python",
   "nbconvert_exporter": "python",
   "pygments_lexer": "ipython3",
   "version": "3.8.6"
  }
 },
 "nbformat": 4,
 "nbformat_minor": 4
}
