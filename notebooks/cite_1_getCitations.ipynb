{
 "cells": [
  {
   "cell_type": "code",
   "execution_count": 1,
   "metadata": {},
   "outputs": [],
   "source": [
    "import numpy as np\n",
    "import pandas as pd\n",
    "import os\n",
    "from os.path import join\n",
    "\n",
    "import json\n",
    "import requests\n",
    "import xmltodict\n",
    "import re\n",
    "import time\n",
    "import random"
   ]
  },
  {
   "cell_type": "code",
   "execution_count": 2,
   "metadata": {},
   "outputs": [],
   "source": [
    "dataDir = '../data'"
   ]
  },
  {
   "cell_type": "markdown",
   "metadata": {},
   "source": [
    "# Get Citations for articles in the COVID open-access pubmed database\n",
    "\n",
    "**Note** Retrieving the citation list for ALL articles must occur everytime a new batch of articles is retrieved as article citations continue to grow over time\n",
    "\n",
    "Use the list of PMCIDs from [here](https://www.ncbi.nlm.nih.gov/pmc/?term=2019-nCoV+OR+2019nCoV+OR+COVID-19+OR+SARS-CoV-2+OR+((wuhan+AND+coronavirus)+AND+2019%2F12%5BPDAT%5D%3A2030%5BPDAT%5D)%20AND%20%22open%20access%22%5BFilter%5D)\n",
    "\n",
    "To create a list of IDs for all articles, go to the bottom of that link, click \"Send to:\", choose \"File\" and select \"Format: PMCID list\". Download, and move to `data/` within this repository, and rename to `covidPMCIDs.csv`\n"
   ]
  },
  {
   "cell_type": "code",
   "execution_count": 3,
   "metadata": {},
   "outputs": [],
   "source": [
    "# get a list of all PMC IDs\n",
    "with open(join(dataDir, 'covidPMCIDs.csv'), 'r') as f:\n",
    "    PMCIDs = f.read().splitlines()"
   ]
  },
  {
   "cell_type": "code",
   "execution_count": 4,
   "metadata": {},
   "outputs": [
    {
     "data": {
      "text/plain": [
       "['PMC7405836', 'PMC7373339', 'PMC7759095']"
      ]
     },
     "execution_count": 4,
     "metadata": {},
     "output_type": "execute_result"
    }
   ],
   "source": [
    "PMCIDs[:3]"
   ]
  },
  {
   "cell_type": "code",
   "execution_count": 5,
   "metadata": {},
   "outputs": [],
   "source": [
    "with open('NCBI_API_key.txt', 'r') as f:\n",
    "    NCBI_API_KEY = f.read().rstrip('\\n')"
   ]
  },
  {
   "cell_type": "code",
   "execution_count": 10,
   "metadata": {},
   "outputs": [],
   "source": [
    "# Tools for parsing the citation dictionary returned by the API\n",
    "def getSrcPMCID(citeDict):\n",
    "    # return the ID of the source article (i.e. the one that was cited)\n",
    "    return 'PMC{}'.format(citeDict['IdList']['Id'])\n",
    "\n",
    "def getCiteIDs(citeDict):\n",
    "    # return a list of PMCIDs in the given cite dictionary\n",
    "    if 'LinkSetDb' not in citeDict:\n",
    "        return []\n",
    "    if 'Link' not in citeDict['LinkSetDb']:\n",
    "        return []\n",
    "        \n",
    "    linkDicts = citeDict['LinkSetDb']['Link']\n",
    "    if not isinstance(linkDicts, list):\n",
    "        return [ linkDicts['Id'] ]\n",
    "    \n",
    "    \n",
    "    citeIDs = []\n",
    "    for linkDict in linkDicts:\n",
    "        citeIDs.append(linkDict['Id'])\n",
    "        \n",
    "    return citeIDs\n",
    "    \n",
    "    "
   ]
  },
  {
   "cell_type": "code",
   "execution_count": 19,
   "metadata": {},
   "outputs": [],
   "source": [
    "def getCitations(IDs, citedBy=True):\n",
    "    \"\"\"\n",
    "    For each PMCID in the given list, look up either \n",
    "    1) the articleIDs that cite this id (citedBy=True), or\n",
    "    2) the articleIDs that this id cites (citedBy=False)\n",
    "    \n",
    "    Returns a list, with each entry a dictionary of citations. \n",
    "    If 1)  the dictionary contains:\n",
    "        - list of the PMCIDs of articles that cite it\n",
    "        - list of the PMCIDs of articles that cite it that are w/in the covid database\n",
    "        - number of articles that cite it\n",
    "        - number of articles w/in covid database that cite it\n",
    "        \n",
    "    If 2) the dictionary contains:\n",
    "        - list of the PMCIDs that the given article cites\n",
    "        - list of the PMCIDs within the covid database that the given article cites\n",
    "        - number of articles that the given ID cites\n",
    "        - number of articles w/in covid database that the given ID cites\n",
    "        \n",
    "    The API lets you request multiple IDs at once. Hence why this func takes in a list of IDs\n",
    "    \n",
    "    Returns a list\n",
    "    \"\"\"\n",
    "    ### set the API tool\n",
    "    if citedBy:\n",
    "        eutils_tool = 'pmc_pmc_citedby'\n",
    "    else:\n",
    "        eutils_tool = 'pmc_pmc_cites'\n",
    "    \n",
    "    ### format URL\n",
    "    baseURL = \"https://eutils.ncbi.nlm.nih.gov/entrez/eutils/elink.fcgi\"\n",
    "    toolName = \"covidcitations\"\n",
    "    email = \"jeff.macinnes@duke.edu\"\n",
    "    params = f\"?dbfrom=pubmed&linkname={eutils_tool}&tool={toolName}&email={email}&api_key={NCBI_API_KEY}\"\n",
    "    requestedIDs = \"{}\".format(''.join(['&id={}'.format(x[3:]) for x in IDs]))\n",
    "    URL = baseURL + params + requestedIDs\n",
    "\n",
    "    ### retrieve data\n",
    "    page = requests.get(URL, timeout=10)\n",
    "    if page.status_code != 200:\n",
    "        print('request failed, {} IDs, {} (first), {} (last)'.format(len(IDs), IDs[0], IDs[-1]))\n",
    "        return []\n",
    "    parsed = xmltodict.parse(page.content)\n",
    "\n",
    "    ### get relevant bit from the parsed xml\n",
    "    # make sure linkSets is a list\n",
    "    if len(IDs) == 1:\n",
    "        linkSets = [parsed['eLinkResult']['LinkSet']]\n",
    "    else:\n",
    "        linkSets = parsed['eLinkResult']['LinkSet']\n",
    "\n",
    "    citationSets = []\n",
    "    for linkSet in linkSets:\n",
    "        srcID = getSrcPMCID(linkSet)\n",
    "        citeIDs = getCiteIDs(linkSet)\n",
    "        \n",
    "        # calculate how many of the citing articles are in the COVID PMCID list\n",
    "        citeIDs = ['PMC{}'.format(x) for x in citeIDs]\n",
    "        citeIDs_covid = list(set(citeIDs).intersection(set(PMCIDs)))\n",
    "        \n",
    "        # format the results based on whether citations or cited-by was requested\n",
    "        if citedBy:\n",
    "            citationSets.append({\n",
    "                \"PMCID\": srcID,\n",
    "                \"nCitedBy\": len(citeIDs),\n",
    "                \"nCitedBy_covid\": len(citeIDs_covid),\n",
    "                \"citedBy\": citeIDs,\n",
    "                \"citedBy_covid\": citeIDs_covid\n",
    "            })\n",
    "        else:\n",
    "            citationSets.append({\n",
    "                \"PMCID\": srcID,\n",
    "                \"nCitations\": len(citeIDs),\n",
    "                \"nCitations_covid\": len(citeIDs),\n",
    "                \"citations\": citeIDs,\n",
    "                \"citations_covid\": citeIDs_covid\n",
    "            })\n",
    "\n",
    "    return citationSets"
   ]
  },
  {
   "cell_type": "code",
   "execution_count": 16,
   "metadata": {},
   "outputs": [],
   "source": [
    "def chunkIDs(IDs, chunkLen):\n",
    "    \"\"\" Divide the list of IDs into separate lists of size chunkLen\"\"\"\n",
    "    for i in range(0, len(IDs), chunkLen):\n",
    "        yield IDs[i:i+chunkLen]\n",
    "    "
   ]
  },
  {
   "cell_type": "code",
   "execution_count": 23,
   "metadata": {},
   "outputs": [],
   "source": [
    "# test\n",
    "IDs = PMCIDs[:2]\n",
    "\n",
    "combined = []\n",
    "\n",
    "citations = getCitations(IDs, citedBy=False)\n",
    "citedBys = getCitations(IDs, citedBy=True)\n",
    "\n",
    "for i in range(len(citations)):\n",
    "    thisCitations = citations[i]\n",
    "    thisCitedBy = citedBys[i]\n",
    "    \n",
    "    combined.append({**thisCitations, **thisCitedBy})"
   ]
  },
  {
   "cell_type": "markdown",
   "metadata": {},
   "source": [
    "## Retrieve new citations\n",
    "\n",
    "Check against existing data to see which PMCIDs are new.\n",
    "\n",
    "For each new PMCID, get the list of articles that cite it, and append to list"
   ]
  },
  {
   "cell_type": "code",
   "execution_count": 26,
   "metadata": {},
   "outputs": [],
   "source": [
    "citeFile = join(dataDir, 'articleCitations.json')"
   ]
  },
  {
   "cell_type": "code",
   "execution_count": 30,
   "metadata": {},
   "outputs": [
    {
     "name": "stdout",
     "output_type": "stream",
     "text": [
      "90032 PMCIDs\n",
      "collecting 901 sets of IDs\n",
      "1, 2, 3, 4, 5, 6, 7, 8, 9, 10, 11, 12, 13, 14, 15, 16, 17, 18, 19, 20, 21, 22, 23, 24, 25, 26, 27, 28, 29, 30, 31, 32, 33, 34, 35, 36, 37, 38, 39, 40, 41, 42, 43, 44, 45, 46, 47, 48, 49, 50, 51, 52, 53, 54, 55, 56, 57, 58, 59, 60, 61, 62, 63, 64, 65, 66, 67, 68, 69, 70, 71, 72, 73, 74, 75, 76, 77, 78, 79, 80, 81, 82, 83, 84, 85, 86, 87, 88, 89, 90, 91, 92, 93, 94, 95, 96, 97, 98, 99, 100, 101, 102, 103, 104, 105, 106, 107, 108, 109, 110, 111, 112, 113, 114, 115, 116, 117, 118, 119, 120, 121, 122, 123, 124, 125, 126, 127, 128, 129, 130, 131, 132, 133, 134, 135, 136, 137, 138, 139, 140, 141, 142, 143, 144, 145, 146, 147, 148, 149, 150, 151, 152, 153, 154, 155, 156, 157, 158, 159, 160, 161, 162, 163, 164, 165, 166, 167, 168, 169, 170, 171, 172, 173, 174, 175, 176, 177, 178, 179, 180, 181, 182, 183, 184, 185, 186, 187, 188, 189, 190, 191, 192, 193, 194, 195, 196, 197, 198, 199, 200, 201, 202, 203, 204, 205, 206, 207, 208, 209, 210, 211, 212, 213, 214, 215, 216, 217, 218, 219, 220, 221, 222, 223, 224, 225, 226, 227, 228, 229, 230, 231, 232, 233, 234, 235, 236, 237, 238, 239, 240, 241, 242, 243, 244, 245, 246, 247, 248, 249, 250, 251, 252, 253, 254, 255, 256, 257, 258, 259, 260, 261, 262, 263, 264, 265, 266, 267, 268, 269, 270, 271, 272, 273, 274, 275, 276, 277, 278, 279, 280, 281, 282, 283, 284, 285, 286, 287, 288, 289, 290, 291, 292, 293, 294, 295, 296, 297, 298, 299, 300, 301, 302, 303, 304, 305, 306, 307, 308, 309, 310, 311, 312, 313, 314, 315, 316, 317, 318, 319, 320, 321, 322, 323, 324, 325, 326, 327, 328, 329, 330, 331, 332, 333, 334, 335, 336, 337, 338, 339, 340, 341, 342, 343, 344, 345, 346, 347, 348, 349, 350, 351, 352, 353, 354, 355, 356, 357, 358, 359, 360, 361, 362, 363, 364, 365, 366, 367, 368, 369, 370, 371, 372, 373, 374, 375, 376, 377, 378, 379, 380, 381, 382, 383, 384, 385, 386, 387, 388, 389, 390, 391, 392, 393, 394, 395, 396, 397, 398, 399, 400, 401, 402, 403, 404, 405, 406, 407, 408, 409, 410, 411, 412, 413, 414, 415, 416, 417, 418, 419, 420, 421, 422, 423, 424, 425, 426, 427, 428, 429, 430, 431, 432, 433, 434, 435, 436, 437, 438, 439, 440, 441, 442, 443, 444, 445, 446, 447, 448, 449, 450, 451, 452, 453, 454, 455, 456, 457, 458, 459, 460, 461, 462, 463, 464, 465, 466, 467, 468, 469, 470, 471, 472, 473, 474, 475, 476, 477, 478, 479, 480, 481, 482, 483, 484, 485, 486, 487, 488, 489, 490, 491, 492, 493, 494, 495, 496, 497, 498, 499, 500, 501, 502, 503, 504, 505, 506, 507, 508, 509, 510, 511, 512, 513, 514, 515, 516, 517, 518, 519, 520, 521, 522, 523, 524, 525, 526, 527, 528, 529, 530, 531, 532, 533, 534, 535, 536, 537, 538, 539, 540, 541, 542, 543, 544, 545, 546, 547, 548, 549, 550, 551, 552, 553, 554, 555, 556, 557, 558, 559, 560, 561, 562, 563, 564, 565, 566, 567, 568, 569, 570, 571, 572, 573, 574, 575, 576, 577, 578, 579, 580, 581, 582, 583, 584, 585, 586, 587, 588, 589, 590, 591, 592, 593, 594, 595, 596, 597, 598, 599, 600, 601, 602, 603, 604, 605, 606, 607, 608, 609, 610, 611, 612, 613, 614, 615, 616, 617, 618, 619, 620, 621, 622, 623, 624, 625, 626, 627, 628, 629, 630, 631, 632, 633, 634, 635, 636, 637, 638, 639, 640, 641, 642, 643, 644, 645, 646, 647, 648, 649, 650, 651, 652, 653, 654, 655, 656, 657, 658, 659, 660, 661, 662, 663, 664, 665, 666, 667, 668, 669, 670, 671, 672, 673, 674, 675, 676, 677, 678, 679, 680, 681, 682, 683, 684, 685, 686, 687, 688, 689, 690, 691, 692, 693, 694, 695, 696, 697, 698, 699, 700, 701, 702, 703, 704, 705, 706, 707, 708, 709, 710, 711, 712, 713, 714, 715, 716, 717, 718, 719, 720, 721, 722, 723, 724, 725, 726, 727, 728, 729, 730, 731, 732, 733, 734, 735, 736, 737, 738, 739, 740, 741, 742, 743, 744, 745, 746, 747, 748, 749, 750, 751, 752, 753, 754, 755, 756, 757, 758, 759, 760, 761, 762, 763, 764, 765, 766, 767, 768, 769, 770, 771, 772, 773, 774, 775, 776, 777, 778, 779, 780, 781, 782, 783, 784, 785, 786, 787, 788, 789, 790, 791, 792, 793, 794, 795, 796, 797, 798, 799, 800, 801, 802, 803, 804, 805, 806, 807, 808, 809, 810, 811, 812, 813, 814, 815, 816, 817, 818, 819, 820, 821, 822, 823, 824, 825, 826, 827, 828, 829, 830, 831, 832, 833, 834, 835, 836, 837, 838, 839, 840, 841, 842, 843, 844, 845, 846, 847, 848, 849, 850, 851, 852, 853, 854, 855, 856, 857, 858, 859, 860, 861, 862, 863, 864, 865, 866, 867, 868, 869, 870, 871, 872, 873, 874, 875, 876, 877, 878, 879, 880, 881, 882, 883, 884, 885, 886, 887, 888, 889, 890, 891, 892, 893, 894, 895, 896, 897, 898, 899, 900, 901, "
     ]
    }
   ],
   "source": [
    "# overwrite old output file\n",
    "with open(citeFile, 'w') as f:\n",
    "    f.write('')\n",
    "\n",
    "# split IDs into groups of certain length to batch multiple at once\n",
    "print('{} PMCIDs'.format(len(PMCIDs)))\n",
    "ID_chunkList = list(chunkIDs(PMCIDs, 100))\n",
    "print(\"collecting {} sets of IDs\".format(len(ID_chunkList)))\n",
    "for i,ID_chunk in enumerate(ID_chunkList):\n",
    "    \n",
    "    # print\n",
    "    print(i+1, end=', ')\n",
    "    \n",
    "    # collect citations data\n",
    "    try:\n",
    "        theseCitations = getCitations(ID_chunk, citedBy=False)\n",
    "    except Exception as e:\n",
    "        print(\"Error: {}\".format(e))\n",
    "    time.sleep(random.choice([.1, .11, .12, .13]))\n",
    "    \n",
    "    # collect citedBy citations\n",
    "    try: \n",
    "        theseCitedBy = getCitations(ID_chunk, citedBy=True)\n",
    "    except Exception as e:\n",
    "        print(\"Error: {}\".format(e))\n",
    "    time.sleep(random.choice([.1, .11, .12, .13]))   \n",
    "    \n",
    "    # combined the results\n",
    "    combined = []\n",
    "    for i in range(len(theseCitations)):\n",
    "        thisCitations = theseCitations[i]\n",
    "        thisCitedBy = theseCitedBy[i]\n",
    "        combined.append({**thisCitations, **thisCitedBy})\n",
    "            \n",
    "    # store the results\n",
    "    with open(citeFile, 'a', encoding='utf-8') as f:\n",
    "        for ID_citations in combined:\n",
    "            json.dump(ID_citations, f, ensure_ascii=False)\n",
    "            f.write('\\n')\n",
    "\n"
   ]
  },
  {
   "cell_type": "markdown",
   "metadata": {},
   "source": [
    "### Misc"
   ]
  },
  {
   "cell_type": "code",
   "execution_count": 105,
   "metadata": {},
   "outputs": [
    {
     "name": "stdout",
     "output_type": "stream",
     "text": [
      "[OrderedDict([('DbFrom', 'pubmed'), ('IdList', OrderedDict([('Id', '7384689')])), ('LinkSetDb', OrderedDict([('DbTo', 'pmc'), ('LinkName', 'pmc_pmc_citedby'), ('Link', [OrderedDict([('Id', '7730003')]), OrderedDict([('Id', '7721080')]), OrderedDict([('Id', '7709804')]), OrderedDict([('Id', '7689662')]), OrderedDict([('Id', '7682380')]), OrderedDict([('Id', '7679797')]), OrderedDict([('Id', '7679035')]), OrderedDict([('Id', '7663373')]), OrderedDict([('Id', '7648466')]), OrderedDict([('Id', '7584839')]), OrderedDict([('Id', '7567238')]), OrderedDict([('Id', '7556821')]), OrderedDict([('Id', '7544522')]), OrderedDict([('Id', '7536342')]), OrderedDict([('Id', '7521469')]), OrderedDict([('Id', '7472808')]), OrderedDict([('Id', '7456291')]), OrderedDict([('Id', '7456282')]), OrderedDict([('Id', '7452828')]), OrderedDict([('Id', '7418728')]), OrderedDict([('Id', '7384692')])])]))]), OrderedDict([('DbFrom', 'pubmed'), ('IdList', OrderedDict([('Id', '7373339')])), ('LinkSetDb', OrderedDict([('DbTo', 'pmc'), ('LinkName', 'pmc_pmc_citedby'), ('Link', [OrderedDict([('Id', '7724984')]), OrderedDict([('Id', '7710368')]), OrderedDict([('Id', '7577270')]), OrderedDict([('Id', '7544522')]), OrderedDict([('Id', '7518070')])])]))])]\n",
      "2\n",
      "here\n",
      "here\n"
     ]
    }
   ],
   "source": [
    "IDs = ['PMC7662698']\n",
    "\n",
    "#IDs = [PMCIDs[0]]\n",
    "\n",
    "IDs = PMCIDs[:2]\n",
    "\n",
    "# ------------\n",
    "\n",
    "### format URL\n",
    "baseURL = \"https://eutils.ncbi.nlm.nih.gov/entrez/eutils/elink.fcgi\"\n",
    "toolName = \"covidcitations\"\n",
    "email = \"jeff.macinnes@duke.edu\"\n",
    "params = \"?dbfrom=pubmed&linkname=pmc_pmc_citedby&tool={}&email={}\".format(toolName, email)\n",
    "requestedIDs = \"{}\".format(''.join(['&id={}'.format(x[3:]) for x in IDs]))\n",
    "URL = baseURL + params + requestedIDs\n",
    "\n",
    "### retrieve data\n",
    "page = requests.get(URL, timeout=10)\n",
    "parsed = xmltodict.parse(page.content)\n",
    "\n",
    "### get relevant bit from the parsed xml\n",
    "# make sure linkSets is a list\n",
    "if len(IDs) == 1:\n",
    "    linkSets = [parsed['eLinkResult']['LinkSet']]\n",
    "else:\n",
    "    linkSets = parsed['eLinkResult']['LinkSet']\n",
    "    \n",
    "citationSets = []\n",
    "print(linkSets)\n",
    "print(len(linkSets))\n",
    "for linkSet in linkSets:\n",
    "    srcID = getSrcPMCID(linkSet)\n",
    "    citations = getCitations(linkSet)\n",
    "#     citationSets.append({\n",
    "#         \"PMCID\": srcID,\n",
    "#         \"nCitations\": len(citations),\n",
    "#         \"citations\": citations\n",
    "#     })\n",
    "\n",
    "#citationSets"
   ]
  }
 ],
 "metadata": {
  "kernelspec": {
   "display_name": "Python 3",
   "language": "python",
   "name": "python3"
  },
  "language_info": {
   "codemirror_mode": {
    "name": "ipython",
    "version": 3
   },
   "file_extension": ".py",
   "mimetype": "text/x-python",
   "name": "python",
   "nbconvert_exporter": "python",
   "pygments_lexer": "ipython3",
   "version": "3.8.6"
  }
 },
 "nbformat": 4,
 "nbformat_minor": 4
}
