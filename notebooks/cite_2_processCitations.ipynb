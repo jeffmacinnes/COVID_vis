{
 "cells": [
  {
   "cell_type": "code",
   "execution_count": 1,
   "metadata": {},
   "outputs": [],
   "source": [
    "import numpy as np\n",
    "import pandas as pd\n",
    "import os\n",
    "from os.path import join\n",
    "\n",
    "import json\n",
    "import requests\n",
    "import xmltodict\n",
    "import re\n",
    "import time\n",
    "import random"
   ]
  },
  {
   "cell_type": "code",
   "execution_count": 27,
   "metadata": {},
   "outputs": [],
   "source": [
    "import matplotlib.pyplot as plt\n",
    "import seaborn as sns"
   ]
  },
  {
   "cell_type": "code",
   "execution_count": 2,
   "metadata": {},
   "outputs": [],
   "source": [
    "dataDir = '../data'"
   ]
  },
  {
   "cell_type": "code",
   "execution_count": 12,
   "metadata": {},
   "outputs": [],
   "source": [
    "pubDates_df = pd.read_csv(join(dataDir, 'processed', 'publicationDates.csv'))"
   ]
  },
  {
   "cell_type": "markdown",
   "metadata": {},
   "source": [
    "# Tools for processing the citation data"
   ]
  },
  {
   "cell_type": "code",
   "execution_count": 3,
   "metadata": {},
   "outputs": [],
   "source": [
    "citeFile = join(dataDir, 'articleCitations.json')"
   ]
  },
  {
   "cell_type": "code",
   "execution_count": 4,
   "metadata": {},
   "outputs": [],
   "source": [
    "# read in the full citations database\n",
    "citations = []\n",
    "with open(citeFile) as f:\n",
    "    for i,line in enumerate(f):\n",
    "        thisCite = json.loads(line)\n",
    "        citations.append(thisCite)"
   ]
  },
  {
   "cell_type": "markdown",
   "metadata": {},
   "source": [
    "Tools that will summarize the citations for a given PMCID. \n",
    "See all of the primary and secondary articles that cite a given PMCID. \n",
    "Or, see all of the primary and secondary articles that a given PMCID cites. "
   ]
  },
  {
   "cell_type": "code",
   "execution_count": 51,
   "metadata": {},
   "outputs": [],
   "source": [
    "def getCitations(PMCID, covidOnly=True):\n",
    "    \"\"\"\n",
    "    For the given PMCID, get the IDs of all articles that this article cites. \n",
    "    \"covidOnly\" flag indicates whether to search across all citations or only \n",
    "    those within the PMC COVID database\n",
    "    \"\"\"\n",
    "    theseCitations = next((x for x in citations if x['PMCID'] == PMCID ), None)\n",
    "    if not theseCitations:\n",
    "        return None\n",
    "    \n",
    "    if covidOnly:\n",
    "        return theseCitations['citations_covid']\n",
    "    else:\n",
    "        return theseCitations['citations']\n",
    "    \n",
    "def getCitationsSummary(PMCID):\n",
    "    \"\"\"\n",
    "    For the given PMCID, return a dictionary summarizing the citations for this id.\n",
    "    Dictionary includes:\n",
    "        - primary citations's: IDs of articles cited by the current ID\n",
    "        - secondary citations's: IDs of articles cited by the articles that cite the current ID\n",
    "        - nUniqueIds: the number of unique IDs cited by this article, primary or secondary\n",
    "        - uniqueIdDates: dataframe of unique IDs alongside the publication date of each ID\n",
    "    \"\"\"\n",
    "    # get the primary IDs\n",
    "    primaryIDs = getCitations(PMCID, covidOnly=True)\n",
    "    \n",
    "    # get the secondary IDs\n",
    "    secondaryIDs = []\n",
    "    for pid in primaryIDs:\n",
    "        IDs = getCitations(pid, covidOnly=True)\n",
    "        secondaryIDs = secondaryIDs + IDs\n",
    "        \n",
    "    # get the set of unique IDs\n",
    "    uniqueIDs = list(set(primaryIDs + secondaryIDs))\n",
    "    \n",
    "    # get the publication date for each uniqueID\n",
    "    uniqueIDsDates = []\n",
    "    for uid in uniqueIDs:\n",
    "        uniqueIDsDates.append({\n",
    "            'PMCID': uid,\n",
    "            'pubDate': get_pubDate(uid)\n",
    "        })\n",
    "    uniqueIDsDates_df = pd.DataFrame(uniqueIDsDates)\n",
    "    \n",
    "    # put it all together\n",
    "    return {\n",
    "        'primary': primaryIDs,\n",
    "        'secondary': secondaryIDs,\n",
    "        'nUnique': len(uniqueIDs),\n",
    "        'pubDates': uniqueIDsDates_df\n",
    "    }\n",
    "\n",
    "def getCitedBy(PMCID, covidOnly=True):\n",
    "    \"\"\"\n",
    "    For the given PMCID, get the IDS of all articles that cite it. \n",
    "    'covidOnly' flag indicates whether to search in the all citations or\n",
    "    only those within the PMC COVID database\n",
    "    \"\"\"\n",
    "    theseCitations = next((x for x in citations if x['PMCID'] == PMCID ), None)\n",
    "    if not theseCitations:\n",
    "        return None\n",
    "    \n",
    "    if covidOnly:\n",
    "        return theseCitations['citedBy_covid']\n",
    "    else:\n",
    "        return theseCitations['citedBy']\n",
    "\n",
    "def get_pubDate(PMCID):\n",
    "    match = pubDates_df[pubDates_df['PMCID'] == PMCID]\n",
    "    if match.empty:\n",
    "        return None\n",
    "    return match.iloc[0]['pubDate']\n",
    "\n",
    "def getCitedBySummary(PMCID):\n",
    "    \"\"\"\n",
    "    For the given PMCID, return a dictionary summarizing the citedBy's for this id.\n",
    "    Dictionary includes:\n",
    "        - primary citedBy's: IDs of articles that directly cite the given ID\n",
    "        - secondary citedBy's: IDs of articles that cite the primary citedBy's\n",
    "        - nUniqueIds: the number of unique IDs that cite this ID, primary or secondary\n",
    "        - uniqueIdDates: dataframe of unique IDs alongside the publication date of each ID\n",
    "    \"\"\"\n",
    "    # get the primary IDs\n",
    "    primaryIDs = getCitedBy(PMCID, covidOnly=True)\n",
    "    \n",
    "    # get the secondary IDs\n",
    "    secondaryIDs = []\n",
    "    for pid in primaryIDs:\n",
    "        IDs = getCitedBy(pid, covidOnly=True)\n",
    "        secondaryIDs = secondaryIDs + IDs\n",
    "        \n",
    "    # get the set of unique IDs\n",
    "    uniqueIDs = list(set(primaryIDs + secondaryIDs))\n",
    "    \n",
    "    # get the publication date for each uniqueID\n",
    "    uniqueIDsDates = []\n",
    "    for uid in uniqueIDs:\n",
    "        uniqueIDsDates.append({\n",
    "            'PMCID': uid,\n",
    "            'pubDate': get_pubDate(uid)\n",
    "        })\n",
    "    uniqueIDsDates_df = pd.DataFrame(uniqueIDsDates)\n",
    "    \n",
    "    # put it all together\n",
    "    return {\n",
    "        'primary': primaryIDs,\n",
    "        'secondary': secondaryIDs,\n",
    "        'nUnique': len(uniqueIDs),\n",
    "        'pubDates': uniqueIDsDates_df\n",
    "    }\n",
    "        \n",
    "    "
   ]
  },
  {
   "cell_type": "code",
   "execution_count": 56,
   "metadata": {},
   "outputs": [],
   "source": [
    "testCitations = [x for x in citations if x['nCitedBy_covid'] > 50]\n",
    "a = getCitedBySummary(citations[10]['PMCID'])\n",
    "b = getCitationsSummary(citations[10]['PMCID'])"
   ]
  },
  {
   "cell_type": "code",
   "execution_count": 59,
   "metadata": {},
   "outputs": [
    {
     "data": {
      "text/plain": [
       "(84, 2)"
      ]
     },
     "execution_count": 59,
     "metadata": {},
     "output_type": "execute_result"
    }
   ],
   "source": [
    "testDates = a['pubDates']\n",
    "testDates.shape"
   ]
  },
  {
   "cell_type": "code",
   "execution_count": 60,
   "metadata": {},
   "outputs": [
    {
     "data": {
      "text/plain": [
       "(84, 2)"
      ]
     },
     "execution_count": 60,
     "metadata": {},
     "output_type": "execute_result"
    }
   ],
   "source": [
    "testDates.dropna(inplace=True)\n",
    "testDates.shape"
   ]
  },
  {
   "cell_type": "code",
   "execution_count": 61,
   "metadata": {},
   "outputs": [
    {
     "data": {
      "text/plain": [
       "<AxesSubplot:xlabel='pubDate'>"
      ]
     },
     "execution_count": 61,
     "metadata": {},
     "output_type": "execute_result"
    },
    {
     "data": {
      "image/png": "[encoded data removed]",
      "text/plain": [
       "<Figure size 1080x720 with 1 Axes>"
      ]
     },
     "metadata": {
      "needs_background": "light"
     },
     "output_type": "display_data"
    }
   ],
   "source": [
    "plt.figure(figsize=(15, 10))\n",
    "sns.swarmplot(x=testDates['pubDate'])"
   ]
  },
  {
   "cell_type": "markdown",
   "metadata": {},
   "source": [
    "## Lookup citations for key papers\n",
    "\n",
    "### Important late papers\n",
    "* Moderna Vax: PMC7787219\n",
    "* Pfizer Vax: PMC7745181\n",
    "\n",
    "\n",
    "### Important early papers\n",
    "* Cyro-EM structure of spike protein: PMC7164637"
   ]
  },
  {
   "cell_type": "code",
   "execution_count": 66,
   "metadata": {},
   "outputs": [],
   "source": [
    "modernaID = 'PMC7787219'\n",
    "pfizerID = 'PMC7745181'\n",
    "spikeID = 'PMC7164637'"
   ]
  },
  {
   "cell_type": "code",
   "execution_count": 67,
   "metadata": {},
   "outputs": [
    {
     "data": {
      "text/plain": [
       "True"
      ]
     },
     "execution_count": 67,
     "metadata": {},
     "output_type": "execute_result"
    }
   ],
   "source": [
    "# check if the spike protein paper is in the moderna citations list\n",
    "modernaCitations = getCitationsSummary(modernaID)\n",
    "\n",
    "uniqueIDs = modernaCitations['primary'] + modernaCitations['secondary']\n",
    "spikeID in uniqueIDs"
   ]
  },
  {
   "cell_type": "code",
   "execution_count": 68,
   "metadata": {},
   "outputs": [
    {
     "data": {
      "text/plain": [
       "True"
      ]
     },
     "execution_count": 68,
     "metadata": {},
     "output_type": "execute_result"
    }
   ],
   "source": [
    "# check if the spike protein paper is in the pfizer citations list\n",
    "pfizerCitations = getCitationsSummary(pfizerID)\n",
    "\n",
    "uniqueIDs = pfizerCitations['primary'] + pfizerCitations['secondary']\n",
    "spikeID in uniqueIDs"
   ]
  },
  {
   "cell_type": "code",
   "execution_count": 71,
   "metadata": {},
   "outputs": [
    {
     "data": {
      "text/plain": [
       "{'primary': ['PMC7164637', 'PMC7583697', 'PMC7081172'],\n",
       " 'secondary': ['PMC7159299',\n",
       "  'PMC7135076',\n",
       "  'PMC7159286',\n",
       "  'PMC7159086',\n",
       "  'PMC7121484',\n",
       "  'PMC7094943',\n",
       "  'PMC7081895',\n",
       "  'PMC7114094',\n",
       "  'PMC7095418',\n",
       "  'PMC7048180',\n",
       "  'PMC7426916',\n",
       "  'PMC7302472',\n",
       "  'PMC7164637',\n",
       "  'PMC7377258',\n",
       "  'PMC7153529',\n",
       "  'PMC7120970',\n",
       "  'PMC7159299',\n",
       "  'PMC7159286',\n",
       "  'PMC7092803',\n",
       "  'PMC7121484',\n",
       "  'PMC7074197',\n",
       "  'PMC7014672'],\n",
       " 'nUnique': 21,\n",
       " 'pubDates':          PMCID     pubDate\n",
       " 0   PMC7164637  2020-02-19\n",
       " 1   PMC7081895  2020-03-17\n",
       " 2   PMC7114094  2020-02-10\n",
       " 3   PMC7153529  2020-04-13\n",
       " 4   PMC7120970  2020-03-05\n",
       " 5   PMC7159286  2020-01-24\n",
       " 6   PMC7074197  2020-02-17\n",
       " 7   PMC7014672  2020-02-06\n",
       " 8   PMC7094943  2020-02-03\n",
       " 9   PMC7426916  2020-08-13\n",
       " 10  PMC7159086  2020-01-30\n",
       " 11  PMC7048180  2020-02-17\n",
       " 12  PMC7095418  2020-02-03\n",
       " 13  PMC7302472  2020-06-19\n",
       " 14  PMC7092803  2020-02-20\n",
       " 15  PMC7121484  2020-03-26\n",
       " 16  PMC7583697  2020-10-14\n",
       " 17  PMC7135076  2020-01-30\n",
       " 18  PMC7159299  2020-01-24\n",
       " 19  PMC7081172  2020-03-10\n",
       " 20  PMC7377258  2020-07-14}"
      ]
     },
     "execution_count": 71,
     "metadata": {},
     "output_type": "execute_result"
    }
   ],
   "source": [
    "pfizerCitations"
   ]
  },
  {
   "cell_type": "code",
   "execution_count": 72,
   "metadata": {},
   "outputs": [],
   "source": [
    "# get total ids for spikeID\n",
    "spikeCitedBys = getCitedBySummary(spikeID)"
   ]
  },
  {
   "cell_type": "code",
   "execution_count": 73,
   "metadata": {},
   "outputs": [
    {
     "data": {
      "text/plain": [
       "12203"
      ]
     },
     "execution_count": 73,
     "metadata": {},
     "output_type": "execute_result"
    }
   ],
   "source": [
    "spikeCitedBys['nUnique']"
   ]
  },
  {
   "cell_type": "code",
   "execution_count": 74,
   "metadata": {},
   "outputs": [
    {
     "data": {
      "text/plain": [
       "1474"
      ]
     },
     "execution_count": 74,
     "metadata": {},
     "output_type": "execute_result"
    }
   ],
   "source": [
    "len(spikeCitedBys['primary'])"
   ]
  },
  {
   "cell_type": "code",
   "execution_count": null,
   "metadata": {},
   "outputs": [],
   "source": []
  }
 ],
 "metadata": {
  "kernelspec": {
   "display_name": "Python 3",
   "language": "python",
   "name": "python3"
  },
  "language_info": {
   "codemirror_mode": {
    "name": "ipython",
    "version": 3
   },
   "file_extension": ".py",
   "mimetype": "text/x-python",
   "name": "python",
   "nbconvert_exporter": "python",
   "pygments_lexer": "ipython3",
   "version": "3.8.6"
  }
 },
 "nbformat": 4,
 "nbformat_minor": 4
}
