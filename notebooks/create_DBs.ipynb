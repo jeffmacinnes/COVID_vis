{
 "cells": [
  {
   "cell_type": "markdown",
   "metadata": {},
   "source": [
    "# DB test"
   ]
  },
  {
   "cell_type": "code",
   "execution_count": 1,
   "metadata": {},
   "outputs": [],
   "source": [
    "import pandas as pd\n",
    "import numpy as np\n",
    "import os\n",
    "from os.path import join\n",
    "\n",
    "import sqlite3\n",
    "from sqlite3 import Error"
   ]
  },
  {
   "cell_type": "code",
   "execution_count": 2,
   "metadata": {},
   "outputs": [],
   "source": [
    "dataDir = '../data'"
   ]
  },
  {
   "cell_type": "code",
   "execution_count": 5,
   "metadata": {},
   "outputs": [],
   "source": [
    "conn = sqlite3.connect(join(dataDir, 'PMCID.db'))"
   ]
  },
  {
   "cell_type": "code",
   "execution_count": 6,
   "metadata": {},
   "outputs": [],
   "source": [
    "c = conn.cursor()"
   ]
  },
  {
   "cell_type": "markdown",
   "metadata": {},
   "source": [
    "# Create tables"
   ]
  },
  {
   "cell_type": "markdown",
   "metadata": {},
   "source": [
    "## City GeoCodes"
   ]
  },
  {
   "cell_type": "code",
   "execution_count": 8,
   "metadata": {},
   "outputs": [
    {
     "data": {
      "text/plain": [
       "<sqlite3.Cursor at 0x1205fb500>"
      ]
     },
     "execution_count": 8,
     "metadata": {},
     "output_type": "execute_result"
    }
   ],
   "source": [
    "# city geocodes\n",
    "c.execute('''         \n",
    "        CREATE TABLE cityGeocodes\n",
    "          ([geoID] text, \n",
    "           [lat] real,\n",
    "           [lon] real,\n",
    "           [formattedAddr] text,\n",
    "           [locality] text,\n",
    "           [admArea_1] text,\n",
    "           [country] text\n",
    "          )\n",
    "         ''')\n"
   ]
  },
  {
   "cell_type": "code",
   "execution_count": 9,
   "metadata": {},
   "outputs": [],
   "source": [
    "cityGeocodes_df = pd.read_csv(join(dataDir, 'cityGeocodes.csv'))"
   ]
  },
  {
   "cell_type": "code",
   "execution_count": 10,
   "metadata": {},
   "outputs": [],
   "source": [
    "cityGeocodes_df.to_sql('cityGeocodes', conn, if_exists='replace', index=False)"
   ]
  },
  {
   "cell_type": "markdown",
   "metadata": {},
   "source": [
    "## Geo Search Strings"
   ]
  },
  {
   "cell_type": "code",
   "execution_count": 11,
   "metadata": {},
   "outputs": [],
   "source": [
    "c.execute('''\n",
    "    CREATE TABLE geoSearchStrs\n",
    "    ([searchStr] text, \n",
    "     [geoID] text)\n",
    "    ''')\n",
    "\n",
    "df = pd.read_csv(join(dataDir, 'geoSearchStrs.csv'))\n",
    "df.to_sql('geoSearchStrs', conn, if_exists='replace', index=False)"
   ]
  },
  {
   "cell_type": "markdown",
   "metadata": {},
   "source": [
    "## Unique Locations\n",
    "This table stores the unique location strings as pulled from the original article. Each location is linked to a GEOID where found"
   ]
  },
  {
   "cell_type": "code",
   "execution_count": 12,
   "metadata": {},
   "outputs": [],
   "source": [
    "c.execute('''\n",
    "    CREATE TABLE uniqueLocations\n",
    "    ([origAddr] text,\n",
    "     [locality] text,\n",
    "     [admArea_1] text,\n",
    "     [country] text,\n",
    "     [locID] text\n",
    "     [geoID] text)\n",
    "    ''')\n",
    "\n",
    "df = pd.read_csv(join(dataDir, 'uniqueLocations.csv'))\n",
    "df.to_sql('uniqueLocations', conn, if_exists='replace', index=False)"
   ]
  },
  {
   "cell_type": "code",
   "execution_count": null,
   "metadata": {},
   "outputs": [],
   "source": []
  }
 ],
 "metadata": {
  "kernelspec": {
   "display_name": "Python 3",
   "language": "python",
   "name": "python3"
  },
  "language_info": {
   "codemirror_mode": {
    "name": "ipython",
    "version": 3
   },
   "file_extension": ".py",
   "mimetype": "text/x-python",
   "name": "python",
   "nbconvert_exporter": "python",
   "pygments_lexer": "ipython3",
   "version": "3.8.6"
  }
 },
 "nbformat": 4,
 "nbformat_minor": 4
}
