{
 "cells": [
  {
   "cell_type": "markdown",
   "metadata": {},
   "source": [
    "# Prep Website Data\n",
    "\n",
    "Prep datafiles for use in specific sections of the website\n"
   ]
  },
  {
   "cell_type": "code",
   "execution_count": 2,
   "metadata": {},
   "outputs": [],
   "source": [
    "import numpy as np\n",
    "import pandas as pd\n",
    "import pydeck as pdk\n",
    "import os\n",
    "from os.path import join\n",
    "import matplotlib.pyplot as plt\n",
    "import seaborn as sns\n",
    "\n",
    "import random\n",
    "import json"
   ]
  },
  {
   "cell_type": "code",
   "execution_count": 80,
   "metadata": {},
   "outputs": [],
   "source": [
    "custom_style = {'axes.labelcolor': 'black',\n",
    "                'xtick.color': 'black',\n",
    "                'ytick.color': 'black'}\n",
    "sns.set_style(\"darkgrid\", rc=custom_style)\n",
    "sns.set_theme(style=\"whitegrid\")\n"
   ]
  },
  {
   "cell_type": "code",
   "execution_count": 29,
   "metadata": {},
   "outputs": [],
   "source": [
    "dataDir = '../data'\n",
    "outputDir = '../websiteData'"
   ]
  },
  {
   "cell_type": "code",
   "execution_count": 109,
   "metadata": {},
   "outputs": [],
   "source": [
    "arts = []\n",
    "with open(join(dataDir, 'articleMetadata.json')) as f:\n",
    "    for i,line in enumerate(f):\n",
    "        thisArt = json.loads(line)\n",
    "        if 'isValid' in thisArt.keys():\n",
    "            arts.append(thisArt)"
   ]
  },
  {
   "cell_type": "markdown",
   "metadata": {},
   "source": [
    "## Hero\n",
    "\n",
    "Create a sample of article titles used to drive the hero animation. This sample should be manually spot checked afterward to prune out titles that are less obviously related to the current pandemic. "
   ]
  },
  {
   "cell_type": "code",
   "execution_count": 25,
   "metadata": {},
   "outputs": [],
   "source": [
    "# get a random sample of journal articles\n",
    "random.seed(101101)\n",
    "sampleArts = random.sample(arts, 1000)\n",
    "\n",
    "# extract the relevant metadata (title, journal name, etc) for each\n",
    "# and save to csv\n",
    "heroData = []\n",
    "for a in sampleArts:\n",
    "    title = a['title']\n",
    "    if title:\n",
    "        title = title.replace('\\n', '').strip()\n",
    "        \n",
    "    journal = a['journalTitle']\n",
    "    if journal:\n",
    "        journal = journal.replace('\\n', '').strip()\n",
    "    \n",
    "    heroData.append({\n",
    "        'title': title,\n",
    "        'journal': journal,\n",
    "        'pubDate': a['pubDate']\n",
    "    })\n",
    "\n",
    "heroData_df = pd.DataFrame(heroData)\n",
    "heroData_df.to_csv(join(outputDir, 'heroData.csv'), index=False)"
   ]
  },
  {
   "cell_type": "code",
   "execution_count": 22,
   "metadata": {},
   "outputs": [
    {
     "data": {
      "text/plain": [
       "(1000, 3)"
      ]
     },
     "execution_count": 22,
     "metadata": {},
     "output_type": "execute_result"
    }
   ],
   "source": [
    "heroData_df.shape"
   ]
  },
  {
   "cell_type": "markdown",
   "metadata": {},
   "source": [
    "## Section I"
   ]
  },
  {
   "cell_type": "markdown",
   "metadata": {},
   "source": [
    "### Papers per year\n",
    "\n",
    "For the visualization showing the number of coronavirus related papers from the late 60's on to 2020. \n",
    "\n",
    "No processing steps required here, just a note about how that data was acquired: \n",
    "\n",
    "The `papersPerYear.csv` was obtained by going to pubmed central and using the covid-19 search string, without the publication date range:\n",
    "\n",
    "```\n",
    "\"COVID-19\"[All Fields] OR \"COVID-19\"[MeSH Terms] OR \"COVID-19 Vaccines\"[All Fields] OR \"COVID-19 Vaccines\"[MeSH Terms] OR \"COVID-19 serotherapy\"[All Fields] OR \"COVID-19 Nucleic Acid Testing\"[All Fields] OR \"covid-19 nucleic acid testing\"[MeSH Terms] OR \"COVID-19 Serological Testing\"[All Fields] OR \"covid-19 serological testing\"[MeSH Terms] OR \"COVID-19 Testing\"[All Fields] OR \"covid-19 testing\"[MeSH Terms] OR \"SARS-CoV-2\"[All Fields] OR \"sars-cov-2\"[MeSH Terms] OR \"Severe Acute Respiratory Syndrome Coronavirus 2\"[All Fields] OR \"NCOV\"[All Fields] OR \"2019 NCOV\"[All Fields] OR ((\"coronavirus\"[MeSH Terms] OR \"coronavirus\"[All Fields] OR \"COV\"[All Fields]) ) \n",
    "```\n",
    "\n",
    "Next, using the returned results, I applied a custom filter (using the left hand panel) to define a date range for each year from 1965 onwards. For instance, 1965 was setting the custom date range to `1965/01/01` to `1965/12/31`. \n",
    "\n",
    "I manually recorded the number of articles returned by this filter. Repeated for every year thereafter. \n",
    "\n"
   ]
  },
  {
   "cell_type": "markdown",
   "metadata": {},
   "source": [
    "## Section II"
   ]
  },
  {
   "cell_type": "markdown",
   "metadata": {},
   "source": [
    "### Collaboration map\n",
    "\n",
    "In order to store this data as efficiently as possible, create separate datasets for:\n",
    "\n",
    "* a main geoIDs dataset. One row per unique geoID, stores all of the relevant info (addr, state, country, lat, lng) for each geoID. This dataset should be easily indexable\n",
    "\n",
    "* the collaborations. For each collaboration, we need to know (at minimum) the date, src geoID idx, dst geoID idx\n"
   ]
  },
  {
   "cell_type": "code",
   "execution_count": 16,
   "metadata": {},
   "outputs": [],
   "source": [
    "### Create the main geoIDs dataset\n",
    "cityGeocodes_df = pd.read_csv(join(dataDir, 'cityGeocodes.csv'))\n",
    "\n",
    "# add idx column\n",
    "cityGeocodes_df['idx'] = cityGeocodes_df.index\n",
    "\n",
    "# save a version for site, removing all unecessary columns\n",
    "siteGeoIDs = cityGeocodes_df[['idx', 'lat', 'lng']]\n",
    "\n",
    "# write to web folder\n",
    "siteGeoIDs.to_csv(join(outputDir, 'geoIDs.csv'), float_format='%.2f', index=False)"
   ]
  },
  {
   "cell_type": "code",
   "execution_count": 21,
   "metadata": {},
   "outputs": [],
   "source": [
    "def getGeoIdx(geoID):\n",
    "    \"\"\" return the index of the specified geoID from the cityGeoCodes_df dataframe \"\"\"\n",
    "    indices = cityGeocodes_df.index[cityGeocodes_df['geoID'] == geoID].tolist()\n",
    "    return indices[0]  # should only ever be 1 value"
   ]
  },
  {
   "cell_type": "markdown",
   "metadata": {},
   "source": [
    "This step takes ~10min to run"
   ]
  },
  {
   "cell_type": "code",
   "execution_count": 42,
   "metadata": {},
   "outputs": [],
   "source": [
    "def getGeoIdx(geoID):\n",
    "    \"\"\" return the index of the specified geoID from the cityGeoCodes_df dataframe \"\"\"\n",
    "    indices = cityGeocodes_df.index[cityGeocodes_df['geoID'] == geoID].tolist()\n",
    "    return indices[0]  # should only ever be 1 value\n",
    "\n",
    "\n",
    "### create the collaborations dataset\n",
    "collabs_df = pd.read_csv(join(dataDir, 'processed/collaborations.csv'))\n",
    "\n",
    "# add the srcIdx and dstIdx cols to each row\n",
    "collabs_df['srcIdx'] = collabs_df['geoID_A'].apply(getGeoIdx)\n",
    "collabs_df['dstIdx'] = collabs_df['geoID_B'].apply(getGeoIdx)\n",
    "\n",
    "# drop missing rows\n",
    "collabs_df.dropna(inplace=True)\n",
    "\n",
    "# drop the year from pub date to save space\n",
    "collabs_df['pubDate'] = collabs_df['pubDate'].apply(lambda x: '-'.join(x.split('-')[1:]))\n",
    "\n",
    "# save a version for site, removing unecessary columns\n",
    "siteCollabs = collabs_df[['pubDate', 'srcIdx', 'dstIdx']].sort_values('pubDate')\n"
   ]
  },
  {
   "cell_type": "code",
   "execution_count": 44,
   "metadata": {},
   "outputs": [],
   "source": [
    "# write data to file\n",
    "siteCollabs.to_csv(join(outputDir, 'collabsByDate.csv'), index=False)"
   ]
  },
  {
   "cell_type": "markdown",
   "metadata": {},
   "source": [
    "### Article stats by day\n",
    "Create a table that show certain publishing stats by day. These values will update as user scrolls through the year"
   ]
  },
  {
   "cell_type": "markdown",
   "metadata": {},
   "source": [
    "#### -number of articles by day"
   ]
  },
  {
   "cell_type": "code",
   "execution_count": 197,
   "metadata": {},
   "outputs": [],
   "source": [
    "# calculate the number of collaborations (author to author) for every article\n",
    "nArts = []\n",
    "for art in arts:\n",
    "    nArts.append({\n",
    "        'PMCID': art['PMCID'],\n",
    "        'pubDate': art['pubDate'],\n",
    "    })\n",
    "    \n",
    "# store as dataframe\n",
    "nArts_df = pd.DataFrame(nArts)\n",
    "\n",
    "# groupby day\n",
    "nArtsByDay = nArts_df.groupby('pubDate').size().reset_index(name=\"nArts\").sort_values('pubDate')\n",
    "nArtsByDay['pubDate'] = nArtsByDay['pubDate'].apply(lambda x: '-'.join(x.split('-')[1:]))"
   ]
  },
  {
   "cell_type": "code",
   "execution_count": 200,
   "metadata": {},
   "outputs": [
    {
     "data": {
      "text/html": [
       "<div>\n",
       "<style scoped>\n",
       "    .dataframe tbody tr th:only-of-type {\n",
       "        vertical-align: middle;\n",
       "    }\n",
       "\n",
       "    .dataframe tbody tr th {\n",
       "        vertical-align: top;\n",
       "    }\n",
       "\n",
       "    .dataframe thead th {\n",
       "        text-align: right;\n",
       "    }\n",
       "</style>\n",
       "<table border=\"1\" class=\"dataframe\">\n",
       "  <thead>\n",
       "    <tr style=\"text-align: right;\">\n",
       "      <th></th>\n",
       "      <th>pubDate</th>\n",
       "      <th>nArts</th>\n",
       "    </tr>\n",
       "  </thead>\n",
       "  <tbody>\n",
       "    <tr>\n",
       "      <th>0</th>\n",
       "      <td>01-01</td>\n",
       "      <td>26</td>\n",
       "    </tr>\n",
       "    <tr>\n",
       "      <th>1</th>\n",
       "      <td>01-02</td>\n",
       "      <td>8</td>\n",
       "    </tr>\n",
       "    <tr>\n",
       "      <th>2</th>\n",
       "      <td>01-03</td>\n",
       "      <td>11</td>\n",
       "    </tr>\n",
       "    <tr>\n",
       "      <th>3</th>\n",
       "      <td>01-04</td>\n",
       "      <td>4</td>\n",
       "    </tr>\n",
       "    <tr>\n",
       "      <th>4</th>\n",
       "      <td>01-05</td>\n",
       "      <td>2</td>\n",
       "    </tr>\n",
       "  </tbody>\n",
       "</table>\n",
       "</div>"
      ],
      "text/plain": [
       "  pubDate  nArts\n",
       "0   01-01     26\n",
       "1   01-02      8\n",
       "2   01-03     11\n",
       "3   01-04      4\n",
       "4   01-05      2"
      ]
     },
     "execution_count": 200,
     "metadata": {},
     "output_type": "execute_result"
    }
   ],
   "source": [
    "nArtsByDay.head()"
   ]
  },
  {
   "cell_type": "markdown",
   "metadata": {},
   "source": [
    "#### -number of geo collaborations by day\n",
    "Geo collaborations defined as two unique geolocations working together on the same article. Less granular than total collaborations, which are two unique individuals working together on the same article. "
   ]
  },
  {
   "cell_type": "code",
   "execution_count": 147,
   "metadata": {},
   "outputs": [],
   "source": [
    "nCollabsByDay = collabs_df.groupby('pubDate').size().reset_index(name='nCollabs')"
   ]
  },
  {
   "cell_type": "code",
   "execution_count": 148,
   "metadata": {},
   "outputs": [
    {
     "data": {
      "text/html": [
       "<div>\n",
       "<style scoped>\n",
       "    .dataframe tbody tr th:only-of-type {\n",
       "        vertical-align: middle;\n",
       "    }\n",
       "\n",
       "    .dataframe tbody tr th {\n",
       "        vertical-align: top;\n",
       "    }\n",
       "\n",
       "    .dataframe thead th {\n",
       "        text-align: right;\n",
       "    }\n",
       "</style>\n",
       "<table border=\"1\" class=\"dataframe\">\n",
       "  <thead>\n",
       "    <tr style=\"text-align: right;\">\n",
       "      <th></th>\n",
       "      <th>pubDate</th>\n",
       "      <th>nGeoCollabs</th>\n",
       "    </tr>\n",
       "  </thead>\n",
       "  <tbody>\n",
       "    <tr>\n",
       "      <th>0</th>\n",
       "      <td>01-01</td>\n",
       "      <td>8</td>\n",
       "    </tr>\n",
       "    <tr>\n",
       "      <th>1</th>\n",
       "      <td>01-02</td>\n",
       "      <td>26</td>\n",
       "    </tr>\n",
       "    <tr>\n",
       "      <th>2</th>\n",
       "      <td>01-03</td>\n",
       "      <td>39</td>\n",
       "    </tr>\n",
       "    <tr>\n",
       "      <th>3</th>\n",
       "      <td>01-04</td>\n",
       "      <td>1</td>\n",
       "    </tr>\n",
       "    <tr>\n",
       "      <th>4</th>\n",
       "      <td>01-06</td>\n",
       "      <td>33</td>\n",
       "    </tr>\n",
       "  </tbody>\n",
       "</table>\n",
       "</div>"
      ],
      "text/plain": [
       "  pubDate  nGeoCollabs\n",
       "0   01-01            8\n",
       "1   01-02           26\n",
       "2   01-03           39\n",
       "3   01-04            1\n",
       "4   01-06           33"
      ]
     },
     "execution_count": 148,
     "metadata": {},
     "output_type": "execute_result"
    }
   ],
   "source": [
    "nGeoCollabsByDay.head()"
   ]
  },
  {
   "cell_type": "markdown",
   "metadata": {},
   "source": [
    "### -number of collaborations (author to author) by day"
   ]
  },
  {
   "cell_type": "code",
   "execution_count": 181,
   "metadata": {},
   "outputs": [],
   "source": [
    "# calculate the number of collaborations (author to author) for every article\n",
    "nCollabs = []\n",
    "for art in arts:\n",
    "    nAuths = art['nAuthors']\n",
    "    nCollabs.append({\n",
    "        'PMCID': art['PMCID'],\n",
    "        'pubDate': art['pubDate'],\n",
    "        'nCollabs': nAuths * (nAuths-1) / 2\n",
    "    })\n",
    "    \n",
    "# store as dataframe\n",
    "nCollabs_df = pd.DataFrame(nCollabs)\n",
    "\n",
    "# groupby day\n",
    "nCollabsByDay = nCollabs_df[['pubDate', 'nCollabs']].groupby('pubDate').sum().sort_values('pubDate').reset_index()\n",
    "nCollabsByDay['pubDate'] = nCollabsByDay['pubDate'].apply(lambda x: '-'.join(x.split('-')[1:]))"
   ]
  },
  {
   "cell_type": "code",
   "execution_count": 210,
   "metadata": {},
   "outputs": [
    {
     "data": {
      "text/html": [
       "<div>\n",
       "<style scoped>\n",
       "    .dataframe tbody tr th:only-of-type {\n",
       "        vertical-align: middle;\n",
       "    }\n",
       "\n",
       "    .dataframe tbody tr th {\n",
       "        vertical-align: top;\n",
       "    }\n",
       "\n",
       "    .dataframe thead th {\n",
       "        text-align: right;\n",
       "    }\n",
       "</style>\n",
       "<table border=\"1\" class=\"dataframe\">\n",
       "  <thead>\n",
       "    <tr style=\"text-align: right;\">\n",
       "      <th></th>\n",
       "      <th>pubDate</th>\n",
       "      <th>nCollabs</th>\n",
       "    </tr>\n",
       "  </thead>\n",
       "  <tbody>\n",
       "    <tr>\n",
       "      <th>0</th>\n",
       "      <td>01-01</td>\n",
       "      <td>990.0</td>\n",
       "    </tr>\n",
       "    <tr>\n",
       "      <th>1</th>\n",
       "      <td>01-02</td>\n",
       "      <td>160.0</td>\n",
       "    </tr>\n",
       "    <tr>\n",
       "      <th>2</th>\n",
       "      <td>01-03</td>\n",
       "      <td>810.0</td>\n",
       "    </tr>\n",
       "    <tr>\n",
       "      <th>3</th>\n",
       "      <td>01-04</td>\n",
       "      <td>66.0</td>\n",
       "    </tr>\n",
       "    <tr>\n",
       "      <th>4</th>\n",
       "      <td>01-05</td>\n",
       "      <td>55.0</td>\n",
       "    </tr>\n",
       "  </tbody>\n",
       "</table>\n",
       "</div>"
      ],
      "text/plain": [
       "  pubDate  nCollabs\n",
       "0   01-01     990.0\n",
       "1   01-02     160.0\n",
       "2   01-03     810.0\n",
       "3   01-04      66.0\n",
       "4   01-05      55.0"
      ]
     },
     "execution_count": 210,
     "metadata": {},
     "output_type": "execute_result"
    }
   ],
   "source": [
    "nCollabsByDay.head()"
   ]
  },
  {
   "cell_type": "markdown",
   "metadata": {},
   "source": [
    "### -merge tables"
   ]
  },
  {
   "cell_type": "code",
   "execution_count": 229,
   "metadata": {},
   "outputs": [],
   "source": [
    "# use nArtsByDay as base, since it has rows for most day throughout the year\n",
    "statsByDay = nArtsByDay.merge(nGeoCollabsByDay, how='left').merge(nCollabsByDay, how='left')\n",
    "\n",
    "# fill any rows (dates) with missing values with 0\n",
    "for col in ['nCollabs', 'nGeoCollabs', 'nArts']:\n",
    "    statsByDay[col] = statsByDay[col].fillna(0)\n",
    "    \n",
    "# 01-26 is missing. Add this row manually\n",
    "statsByDay = statsByDay.append({\n",
    "    'pubDate': '01-26',\n",
    "    'nArts': 0,\n",
    "    'nGeoCollabs': 0,\n",
    "    'nCollabs': 0\n",
    "}, ignore_index=True)\n",
    "statsByDay.sort_values('pubDate', inplace=True)"
   ]
  },
  {
   "cell_type": "code",
   "execution_count": 231,
   "metadata": {},
   "outputs": [],
   "source": [
    "# generate cumulative sum columns for all cols\n",
    "for col in ['nCollabs', 'nGeoCollabs', 'nArts']:\n",
    "    statsByDay[f\"cum_{col}\"] = statsByDay[col].cumsum()"
   ]
  },
  {
   "cell_type": "code",
   "execution_count": 232,
   "metadata": {},
   "outputs": [
    {
     "data": {
      "text/html": [
       "<div>\n",
       "<style scoped>\n",
       "    .dataframe tbody tr th:only-of-type {\n",
       "        vertical-align: middle;\n",
       "    }\n",
       "\n",
       "    .dataframe tbody tr th {\n",
       "        vertical-align: top;\n",
       "    }\n",
       "\n",
       "    .dataframe thead th {\n",
       "        text-align: right;\n",
       "    }\n",
       "</style>\n",
       "<table border=\"1\" class=\"dataframe\">\n",
       "  <thead>\n",
       "    <tr style=\"text-align: right;\">\n",
       "      <th></th>\n",
       "      <th>pubDate</th>\n",
       "      <th>nArts</th>\n",
       "      <th>nGeoCollabs</th>\n",
       "      <th>nCollabs</th>\n",
       "      <th>cum_nCollabs</th>\n",
       "      <th>cum_nGeoCollabs</th>\n",
       "      <th>cum_nArts</th>\n",
       "    </tr>\n",
       "  </thead>\n",
       "  <tbody>\n",
       "    <tr>\n",
       "      <th>0</th>\n",
       "      <td>01-01</td>\n",
       "      <td>26</td>\n",
       "      <td>8.0</td>\n",
       "      <td>990.0</td>\n",
       "      <td>990.0</td>\n",
       "      <td>8.0</td>\n",
       "      <td>26</td>\n",
       "    </tr>\n",
       "    <tr>\n",
       "      <th>1</th>\n",
       "      <td>01-02</td>\n",
       "      <td>8</td>\n",
       "      <td>26.0</td>\n",
       "      <td>160.0</td>\n",
       "      <td>1150.0</td>\n",
       "      <td>34.0</td>\n",
       "      <td>34</td>\n",
       "    </tr>\n",
       "    <tr>\n",
       "      <th>2</th>\n",
       "      <td>01-03</td>\n",
       "      <td>11</td>\n",
       "      <td>39.0</td>\n",
       "      <td>810.0</td>\n",
       "      <td>1960.0</td>\n",
       "      <td>73.0</td>\n",
       "      <td>45</td>\n",
       "    </tr>\n",
       "    <tr>\n",
       "      <th>3</th>\n",
       "      <td>01-04</td>\n",
       "      <td>4</td>\n",
       "      <td>1.0</td>\n",
       "      <td>66.0</td>\n",
       "      <td>2026.0</td>\n",
       "      <td>74.0</td>\n",
       "      <td>49</td>\n",
       "    </tr>\n",
       "    <tr>\n",
       "      <th>4</th>\n",
       "      <td>01-05</td>\n",
       "      <td>2</td>\n",
       "      <td>0.0</td>\n",
       "      <td>55.0</td>\n",
       "      <td>2081.0</td>\n",
       "      <td>74.0</td>\n",
       "      <td>51</td>\n",
       "    </tr>\n",
       "    <tr>\n",
       "      <th>...</th>\n",
       "      <td>...</td>\n",
       "      <td>...</td>\n",
       "      <td>...</td>\n",
       "      <td>...</td>\n",
       "      <td>...</td>\n",
       "      <td>...</td>\n",
       "      <td>...</td>\n",
       "    </tr>\n",
       "    <tr>\n",
       "      <th>360</th>\n",
       "      <td>12-27</td>\n",
       "      <td>53</td>\n",
       "      <td>75.0</td>\n",
       "      <td>733.0</td>\n",
       "      <td>2910055.0</td>\n",
       "      <td>363921.0</td>\n",
       "      <td>92288</td>\n",
       "    </tr>\n",
       "    <tr>\n",
       "      <th>361</th>\n",
       "      <td>12-28</td>\n",
       "      <td>239</td>\n",
       "      <td>530.0</td>\n",
       "      <td>8081.0</td>\n",
       "      <td>2918136.0</td>\n",
       "      <td>364451.0</td>\n",
       "      <td>92527</td>\n",
       "    </tr>\n",
       "    <tr>\n",
       "      <th>362</th>\n",
       "      <td>12-29</td>\n",
       "      <td>233</td>\n",
       "      <td>367.0</td>\n",
       "      <td>6556.0</td>\n",
       "      <td>2924692.0</td>\n",
       "      <td>364818.0</td>\n",
       "      <td>92760</td>\n",
       "    </tr>\n",
       "    <tr>\n",
       "      <th>363</th>\n",
       "      <td>12-30</td>\n",
       "      <td>235</td>\n",
       "      <td>1060.0</td>\n",
       "      <td>11132.0</td>\n",
       "      <td>2935824.0</td>\n",
       "      <td>365878.0</td>\n",
       "      <td>92995</td>\n",
       "    </tr>\n",
       "    <tr>\n",
       "      <th>364</th>\n",
       "      <td>12-31</td>\n",
       "      <td>518</td>\n",
       "      <td>1523.0</td>\n",
       "      <td>19676.0</td>\n",
       "      <td>2955500.0</td>\n",
       "      <td>367401.0</td>\n",
       "      <td>93513</td>\n",
       "    </tr>\n",
       "  </tbody>\n",
       "</table>\n",
       "<p>366 rows × 7 columns</p>\n",
       "</div>"
      ],
      "text/plain": [
       "    pubDate  nArts  nGeoCollabs  nCollabs  cum_nCollabs  cum_nGeoCollabs  \\\n",
       "0     01-01     26          8.0     990.0         990.0              8.0   \n",
       "1     01-02      8         26.0     160.0        1150.0             34.0   \n",
       "2     01-03     11         39.0     810.0        1960.0             73.0   \n",
       "3     01-04      4          1.0      66.0        2026.0             74.0   \n",
       "4     01-05      2          0.0      55.0        2081.0             74.0   \n",
       "..      ...    ...          ...       ...           ...              ...   \n",
       "360   12-27     53         75.0     733.0     2910055.0         363921.0   \n",
       "361   12-28    239        530.0    8081.0     2918136.0         364451.0   \n",
       "362   12-29    233        367.0    6556.0     2924692.0         364818.0   \n",
       "363   12-30    235       1060.0   11132.0     2935824.0         365878.0   \n",
       "364   12-31    518       1523.0   19676.0     2955500.0         367401.0   \n",
       "\n",
       "     cum_nArts  \n",
       "0           26  \n",
       "1           34  \n",
       "2           45  \n",
       "3           49  \n",
       "4           51  \n",
       "..         ...  \n",
       "360      92288  \n",
       "361      92527  \n",
       "362      92760  \n",
       "363      92995  \n",
       "364      93513  \n",
       "\n",
       "[366 rows x 7 columns]"
      ]
     },
     "execution_count": 232,
     "metadata": {},
     "output_type": "execute_result"
    }
   ],
   "source": [
    "statsByDay"
   ]
  },
  {
   "cell_type": "code",
   "execution_count": 233,
   "metadata": {},
   "outputs": [],
   "source": [
    "# save to disk\n",
    "statsByDay[['pubDate', 'cum_nArts', 'cum_nCollabs', 'cum_nGeoCollabs']].to_csv(join(outputDir, 'statsByDay.csv'), index=False)"
   ]
  },
  {
   "cell_type": "markdown",
   "metadata": {},
   "source": [
    "#### summarize"
   ]
  },
  {
   "cell_type": "code",
   "execution_count": 105,
   "metadata": {},
   "outputs": [
    {
     "name": "stdout",
     "output_type": "stream",
     "text": [
      "mean: 94.50276243093923, max: 227\n"
     ]
    }
   ],
   "source": [
    "# summary stats for number of articles per day\n",
    "print(f\"mean: {nArticlesByDay['nArts'].mean()}, max: {nArticlesByDay['nArts'].max()}\")"
   ]
  },
  {
   "cell_type": "code",
   "execution_count": 135,
   "metadata": {},
   "outputs": [
    {
     "data": {
      "text/plain": [
       "pubDate     12-16\n",
       "nCollabs    38697\n",
       "Name: 346, dtype: object"
      ]
     },
     "execution_count": 135,
     "metadata": {},
     "output_type": "execute_result"
    }
   ],
   "source": [
    "# figure out the maximum number of collaborations on one day\n",
    "dailyMaxIdx = nGeoCollabsByDay['nCollabs'].idxmax()\n",
    "nGeoCollabsByDay.iloc[dailyMaxIdx]"
   ]
  },
  {
   "cell_type": "code",
   "execution_count": 83,
   "metadata": {},
   "outputs": [
    {
     "data": {
      "text/plain": [
       "<AxesSubplot:xlabel='pubDate', ylabel='nCollabs'>"
      ]
     },
     "execution_count": 83,
     "metadata": {},
     "output_type": "execute_result"
    },
    {
     "data": {
      "image/png": "[encoded data removed]",
      "text/plain": [
       "<Figure size 1440x720 with 1 Axes>"
      ]
     },
     "metadata": {},
     "output_type": "display_data"
    }
   ],
   "source": [
    "plt.figure(figsize=(20, 10))\n",
    "sns.barplot(x=\"pubDate\", y=\"nCollabs\", data=collabsByDay, color=\"salmon\")"
   ]
  },
  {
   "cell_type": "markdown",
   "metadata": {},
   "source": [
    "In December, there's a day where the number of new geo collaborations greatly peaks. Find out why\n"
   ]
  },
  {
   "cell_type": "code",
   "execution_count": 107,
   "metadata": {},
   "outputs": [
    {
     "data": {
      "text/html": [
       "<div>\n",
       "<style scoped>\n",
       "    .dataframe tbody tr th:only-of-type {\n",
       "        vertical-align: middle;\n",
       "    }\n",
       "\n",
       "    .dataframe tbody tr th {\n",
       "        vertical-align: top;\n",
       "    }\n",
       "\n",
       "    .dataframe thead th {\n",
       "        text-align: right;\n",
       "    }\n",
       "</style>\n",
       "<table border=\"1\" class=\"dataframe\">\n",
       "  <thead>\n",
       "    <tr style=\"text-align: right;\">\n",
       "      <th></th>\n",
       "      <th>pubDate</th>\n",
       "      <th>nArts</th>\n",
       "    </tr>\n",
       "  </thead>\n",
       "  <tbody>\n",
       "    <tr>\n",
       "      <th>346</th>\n",
       "      <td>12-16</td>\n",
       "      <td>200</td>\n",
       "    </tr>\n",
       "  </tbody>\n",
       "</table>\n",
       "</div>"
      ],
      "text/plain": [
       "    pubDate  nArts\n",
       "346   12-16    200"
      ]
     },
     "execution_count": 107,
     "metadata": {},
     "output_type": "execute_result"
    }
   ],
   "source": [
    "nArticlesByDay[nArticlesByDay['pubDate'] == '12-16']"
   ]
  },
  {
   "cell_type": "markdown",
   "metadata": {},
   "source": [
    "There are a lot of articles, but not the most across the full year. So must be a lot of unique geo locations per article. Confirm this"
   ]
  },
  {
   "cell_type": "code",
   "execution_count": 145,
   "metadata": {},
   "outputs": [
    {
     "name": "stdout",
     "output_type": "stream",
     "text": [
      "PMC7744014 - nUnique Geos: 16\n",
      "PMC7739806 - nUnique Geos: 275\n",
      "PMC7754786 - nUnique Geos: 13\n",
      "PMC7772353 - nUnique Geos: 13\n",
      "PMC7745688 - nUnique Geos: 14\n"
     ]
    }
   ],
   "source": [
    "# get the IDs of these articles\n",
    "Dec16_collabs = collabs_df[collabs_df['pubDate'] == '12-16']\n",
    "Dec16_PMCIDs = Dec16_collabs['PMCID'].unique().tolist()\n",
    "\n",
    "# for each id, get the article metadata and report the number of unique geoLocations\n",
    "Dec16_arts = [x for x in arts if x['PMCID'] in Dec16_PMCIDs]\n",
    "for art in Dec16_arts:\n",
    "    uniqueGeoIDs = []\n",
    "    for aff in art['authors']['affiliations']:\n",
    "        if aff['hasGeo']:\n",
    "            if aff['geoID'] not in uniqueGeoIDs:\n",
    "                uniqueGeoIDs.append(aff['geoID'])\n",
    "    if len(uniqueGeoIDs) > 10:\n",
    "        print(f\"{art['PMCID']} - nUnique Geos: {len(uniqueGeoIDs)}\")\n"
   ]
  },
  {
   "cell_type": "markdown",
   "metadata": {},
   "source": [
    "Yup, article PMC7739806 has 275 unique GEOs associated with it. That computes to 37,675 pairs of collaborations ( n * (n-1) / 2 )"
   ]
  },
  {
   "cell_type": "code",
   "execution_count": 146,
   "metadata": {},
   "outputs": [],
   "source": [
    "art7739806 = [x for x in arts if x['PMCID'] == 'PMC7739806'][0]"
   ]
  }
 ],
 "metadata": {
  "kernelspec": {
   "display_name": "Python 3",
   "language": "python",
   "name": "python3"
  },
  "language_info": {
   "codemirror_mode": {
    "name": "ipython",
    "version": 3
   },
   "file_extension": ".py",
   "mimetype": "text/x-python",
   "name": "python",
   "nbconvert_exporter": "python",
   "pygments_lexer": "ipython3",
   "version": "3.8.6"
  }
 },
 "nbformat": 4,
 "nbformat_minor": 4
}
