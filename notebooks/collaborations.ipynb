{
 "cells": [
  {
   "cell_type": "markdown",
   "metadata": {},
   "source": [
    "# Collaborations\n",
    "\n",
    "examining worldwide collaborations on academic articles relating to the coranvirus outbreak 2020"
   ]
  },
  {
   "cell_type": "markdown",
   "metadata": {},
   "source": [
    "## Source Datasets\n",
    "* COVID-19 Open Research Dataset Challenge\n",
    "    * *https://www.kaggle.com/allen-institute-for-ai/CORD-19-research-challenge*\n",
    "    * 29,000 full text scholarly articles about COVID-19, SARS-CoV-2, and related coronaviruses\n",
    "\n",
    "* Google Geocode API\n",
    "\n",
    "## Methods\n",
    "\n",
    "### Stage 1\n",
    "The first stage of the analysis took place in a separate Kaggle notebook (https://www.kaggle.com/jeffmacinnes/covid-collaborations/edit) that was used to walk through the COVID-19 Open Research Dataset of 29,000+ academic articles, and create the following datafiles:\n",
    "\n",
    "1. `allAuthors.csv`: a table showing the **article id**, **author name**, and **author institution** of every author on every article in the corpus. Authors without an associated institution were removed\n",
    "\n",
    "2. `allArticles.csv`: a table showing the **article id**, **publication source**, **doi**, and **pubmed_id** of each article in the corpus\n",
    "\n",
    "3. `institutions.csv`: a table showing the **instution name**, **address**, **lat**, and **lng** of every institution represented in the corpus. The institution info was obtained by first grabbing the `institution` name from each author affiliation in the metadata for each article in the corpus. Next, the address and lng/lat of each institution was obtained by passing the institution name into the Google Geocode API. This approach returned a geocoded location on approximately 85% of the 12,000+ unique institutions (*however, see **limitations** below*). Institutions that could not be matched to a location were removed from the dataset\n",
    "\n",
    "### Stage 2\n",
    "This notebook uses the source data created in Stage 1 to calculate all cross-institute collaborations present across this body of literature. \n",
    "\n",
    "A *collaboration* is defined as **any two authors working together on the same article**. A *cross-institute collaboration* is defined as when those two authors are affiliated separate institutions. For instance, given the following hypothetical author list on a given article:\n",
    "\n",
    "| Author | Institution |\n",
    "| ------ | ------ |\n",
    "| Jane Doe | Institute A |\n",
    "| John Doe | Institute B |\n",
    "| Jackie Doe | Institue B |\n",
    "| Jerimiah Doe | Institute C |\n",
    "\n",
    "the *cross-institute collaborations* on this article would be:\n",
    "\n",
    "| Collaborations |  |\n",
    "| ------ | ------ |\n",
    "| Institute A | Institue B |\n",
    "| Institute A | Institue C |\n",
    "| Institute B | Institue C |\n",
    "\n",
    "This notebook is used to assemble a dataframe of ALL cross-institute collaborations found in this body of literature\n",
    "\n",
    "## Limitations\n",
    "* Due to the way institutions are named in the article metadata, the `institutions.csv` may contain multiple instances of the same institution. For example, the \"University of California-Berkeley\" is considered a separate institution than \"University of California at Berkeley\", and so on. However, since these two instances would have the same lat/lng coordinates, it is not a problem for the visualization\n",
    "\n",
    "* The institution name was used to obtain a geocoded location for that institution, and so mapping the collaborations on a given article to a specific location is only as precise as the listed institution names on that article. For example, if an author works at the University of California - Berkeley, but the institution name is only listed as 'University of California', the author will get placed at whatever UC campus the google API returns for 'University of California'.  "
   ]
  },
  {
   "cell_type": "code",
   "execution_count": 1,
   "metadata": {},
   "outputs": [],
   "source": [
    "import pandas as pd\n",
    "import numpy as np\n",
    "import os\n",
    "\n",
    "from os.path import join\n",
    "from itertools import combinations\n",
    "\n",
    "import matplotlib.pyplot as plt"
   ]
  },
  {
   "cell_type": "code",
   "execution_count": 2,
   "metadata": {},
   "outputs": [],
   "source": [
    "dataDir = '../data'"
   ]
  },
  {
   "cell_type": "code",
   "execution_count": 3,
   "metadata": {},
   "outputs": [],
   "source": [
    "author_df = pd.read_csv(join(dataDir, 'allAuthors.csv'))"
   ]
  },
  {
   "cell_type": "code",
   "execution_count": 4,
   "metadata": {},
   "outputs": [
    {
     "data": {
      "text/html": [
       "<div>\n",
       "<style scoped>\n",
       "    .dataframe tbody tr th:only-of-type {\n",
       "        vertical-align: middle;\n",
       "    }\n",
       "\n",
       "    .dataframe tbody tr th {\n",
       "        vertical-align: top;\n",
       "    }\n",
       "\n",
       "    .dataframe thead th {\n",
       "        text-align: right;\n",
       "    }\n",
       "</style>\n",
       "<table border=\"1\" class=\"dataframe\">\n",
       "  <thead>\n",
       "    <tr style=\"text-align: right;\">\n",
       "      <th></th>\n",
       "      <th>paper_id</th>\n",
       "      <th>firstName</th>\n",
       "      <th>lastName</th>\n",
       "      <th>middle</th>\n",
       "      <th>institution</th>\n",
       "    </tr>\n",
       "  </thead>\n",
       "  <tbody>\n",
       "    <tr>\n",
       "      <th>0</th>\n",
       "      <td>25621281691205eb015383cbac839182b838514f</td>\n",
       "      <td>Dominik</td>\n",
       "      <td>Dornfeld</td>\n",
       "      <td>NaN</td>\n",
       "      <td>University of Freiburg</td>\n",
       "    </tr>\n",
       "    <tr>\n",
       "      <th>1</th>\n",
       "      <td>25621281691205eb015383cbac839182b838514f</td>\n",
       "      <td>Alexandra</td>\n",
       "      <td>Dudek</td>\n",
       "      <td>H</td>\n",
       "      <td>University of Freiburg</td>\n",
       "    </tr>\n",
       "    <tr>\n",
       "      <th>2</th>\n",
       "      <td>25621281691205eb015383cbac839182b838514f</td>\n",
       "      <td>Sira</td>\n",
       "      <td>Günther</td>\n",
       "      <td>C</td>\n",
       "      <td>University of Freiburg</td>\n",
       "    </tr>\n",
       "    <tr>\n",
       "      <th>3</th>\n",
       "      <td>25621281691205eb015383cbac839182b838514f</td>\n",
       "      <td>Judd</td>\n",
       "      <td>Hultquist</td>\n",
       "      <td>F</td>\n",
       "      <td>University of California</td>\n",
       "    </tr>\n",
       "    <tr>\n",
       "      <th>4</th>\n",
       "      <td>25621281691205eb015383cbac839182b838514f</td>\n",
       "      <td>Sebastian</td>\n",
       "      <td>Giese</td>\n",
       "      <td>NaN</td>\n",
       "      <td>University of Freiburg</td>\n",
       "    </tr>\n",
       "  </tbody>\n",
       "</table>\n",
       "</div>"
      ],
      "text/plain": [
       "                                   paper_id  firstName   lastName middle  \\\n",
       "0  25621281691205eb015383cbac839182b838514f    Dominik   Dornfeld    NaN   \n",
       "1  25621281691205eb015383cbac839182b838514f  Alexandra      Dudek      H   \n",
       "2  25621281691205eb015383cbac839182b838514f       Sira    Günther      C   \n",
       "3  25621281691205eb015383cbac839182b838514f       Judd  Hultquist      F   \n",
       "4  25621281691205eb015383cbac839182b838514f  Sebastian      Giese    NaN   \n",
       "\n",
       "                institution  \n",
       "0    University of Freiburg  \n",
       "1    University of Freiburg  \n",
       "2    University of Freiburg  \n",
       "3  University of California  \n",
       "4    University of Freiburg  "
      ]
     },
     "execution_count": 4,
     "metadata": {},
     "output_type": "execute_result"
    }
   ],
   "source": [
    "author_df.head()"
   ]
  },
  {
   "cell_type": "markdown",
   "metadata": {},
   "source": [
    "# Prep Institutions data"
   ]
  },
  {
   "cell_type": "code",
   "execution_count": 78,
   "metadata": {},
   "outputs": [],
   "source": [
    "inst_df = pd.read_csv(join(dataDir, 'institutions.csv'))"
   ]
  },
  {
   "cell_type": "code",
   "execution_count": 79,
   "metadata": {},
   "outputs": [
    {
     "data": {
      "text/html": [
       "<div>\n",
       "<style scoped>\n",
       "    .dataframe tbody tr th:only-of-type {\n",
       "        vertical-align: middle;\n",
       "    }\n",
       "\n",
       "    .dataframe tbody tr th {\n",
       "        vertical-align: top;\n",
       "    }\n",
       "\n",
       "    .dataframe thead th {\n",
       "        text-align: right;\n",
       "    }\n",
       "</style>\n",
       "<table border=\"1\" class=\"dataframe\">\n",
       "  <thead>\n",
       "    <tr style=\"text-align: right;\">\n",
       "      <th></th>\n",
       "      <th>institution</th>\n",
       "      <th>addr</th>\n",
       "      <th>lat</th>\n",
       "      <th>lng</th>\n",
       "    </tr>\n",
       "  </thead>\n",
       "  <tbody>\n",
       "    <tr>\n",
       "      <th>0</th>\n",
       "      <td>CHU de Bicê tre</td>\n",
       "      <td>78 Rue du Général Leclerc, 94270 Le Kremlin-Bi...</td>\n",
       "      <td>48.810596</td>\n",
       "      <td>2.352250</td>\n",
       "    </tr>\n",
       "    <tr>\n",
       "      <th>1</th>\n",
       "      <td>Ecole Nationale Vétérinaire de Toulouse</td>\n",
       "      <td>23 Chemin des Capelles, 31300 Toulouse, France</td>\n",
       "      <td>43.598014</td>\n",
       "      <td>1.380306</td>\n",
       "    </tr>\n",
       "    <tr>\n",
       "      <th>2</th>\n",
       "      <td>Zhuhai United Laboratories Co., Ltd</td>\n",
       "      <td>Yulin Rd, Jinwan Qu, Zhuhai Shi, Guangdong She...</td>\n",
       "      <td>22.038476</td>\n",
       "      <td>113.335480</td>\n",
       "    </tr>\n",
       "    <tr>\n",
       "      <th>3</th>\n",
       "      <td>Hedong District</td>\n",
       "      <td>Hedong, Tianjin, China</td>\n",
       "      <td>39.128291</td>\n",
       "      <td>117.251586</td>\n",
       "    </tr>\n",
       "    <tr>\n",
       "      <th>4</th>\n",
       "      <td>National United University</td>\n",
       "      <td>360, Taiwan, Miaoli County, Miaoli City, 恭敬里聯大1號</td>\n",
       "      <td>24.545804</td>\n",
       "      <td>120.812320</td>\n",
       "    </tr>\n",
       "  </tbody>\n",
       "</table>\n",
       "</div>"
      ],
      "text/plain": [
       "                               institution  \\\n",
       "0                          CHU de Bicê tre   \n",
       "1  Ecole Nationale Vétérinaire de Toulouse   \n",
       "2      Zhuhai United Laboratories Co., Ltd   \n",
       "3                          Hedong District   \n",
       "4               National United University   \n",
       "\n",
       "                                                addr        lat         lng  \n",
       "0  78 Rue du Général Leclerc, 94270 Le Kremlin-Bi...  48.810596    2.352250  \n",
       "1     23 Chemin des Capelles, 31300 Toulouse, France  43.598014    1.380306  \n",
       "2  Yulin Rd, Jinwan Qu, Zhuhai Shi, Guangdong She...  22.038476  113.335480  \n",
       "3                             Hedong, Tianjin, China  39.128291  117.251586  \n",
       "4   360, Taiwan, Miaoli County, Miaoli City, 恭敬里聯大1號  24.545804  120.812320  "
      ]
     },
     "execution_count": 79,
     "metadata": {},
     "output_type": "execute_result"
    }
   ],
   "source": [
    "inst_df.head()"
   ]
  },
  {
   "cell_type": "code",
   "execution_count": 80,
   "metadata": {},
   "outputs": [],
   "source": [
    "inst_df['instID'] = inst_df.index"
   ]
  },
  {
   "cell_type": "code",
   "execution_count": 82,
   "metadata": {},
   "outputs": [],
   "source": [
    "inst_df = inst_df.drop(columns=['addr'])"
   ]
  },
  {
   "cell_type": "code",
   "execution_count": 94,
   "metadata": {},
   "outputs": [],
   "source": [
    "inst_df.to_json(join(dataDir, 'allInstitutions.json'), orient='records', indent=0)"
   ]
  },
  {
   "cell_type": "markdown",
   "metadata": {},
   "source": [
    "## Define function to return a dataframe of cross-institute collabs on given article"
   ]
  },
  {
   "cell_type": "code",
   "execution_count": 5,
   "metadata": {},
   "outputs": [],
   "source": [
    "test_id = author_df.loc[0, 'paper_id']\n",
    "test_df = author_df[author_df['paper_id'] == test_id]"
   ]
  },
  {
   "cell_type": "code",
   "execution_count": 6,
   "metadata": {},
   "outputs": [
    {
     "data": {
      "text/html": [
       "<div>\n",
       "<style scoped>\n",
       "    .dataframe tbody tr th:only-of-type {\n",
       "        vertical-align: middle;\n",
       "    }\n",
       "\n",
       "    .dataframe tbody tr th {\n",
       "        vertical-align: top;\n",
       "    }\n",
       "\n",
       "    .dataframe thead th {\n",
       "        text-align: right;\n",
       "    }\n",
       "</style>\n",
       "<table border=\"1\" class=\"dataframe\">\n",
       "  <thead>\n",
       "    <tr style=\"text-align: right;\">\n",
       "      <th></th>\n",
       "      <th>paper_id</th>\n",
       "      <th>firstName</th>\n",
       "      <th>lastName</th>\n",
       "      <th>middle</th>\n",
       "      <th>institution</th>\n",
       "    </tr>\n",
       "  </thead>\n",
       "  <tbody>\n",
       "    <tr>\n",
       "      <th>0</th>\n",
       "      <td>25621281691205eb015383cbac839182b838514f</td>\n",
       "      <td>Dominik</td>\n",
       "      <td>Dornfeld</td>\n",
       "      <td>NaN</td>\n",
       "      <td>University of Freiburg</td>\n",
       "    </tr>\n",
       "    <tr>\n",
       "      <th>1</th>\n",
       "      <td>25621281691205eb015383cbac839182b838514f</td>\n",
       "      <td>Alexandra</td>\n",
       "      <td>Dudek</td>\n",
       "      <td>H</td>\n",
       "      <td>University of Freiburg</td>\n",
       "    </tr>\n",
       "    <tr>\n",
       "      <th>2</th>\n",
       "      <td>25621281691205eb015383cbac839182b838514f</td>\n",
       "      <td>Sira</td>\n",
       "      <td>Günther</td>\n",
       "      <td>C</td>\n",
       "      <td>University of Freiburg</td>\n",
       "    </tr>\n",
       "    <tr>\n",
       "      <th>3</th>\n",
       "      <td>25621281691205eb015383cbac839182b838514f</td>\n",
       "      <td>Judd</td>\n",
       "      <td>Hultquist</td>\n",
       "      <td>F</td>\n",
       "      <td>University of California</td>\n",
       "    </tr>\n",
       "    <tr>\n",
       "      <th>4</th>\n",
       "      <td>25621281691205eb015383cbac839182b838514f</td>\n",
       "      <td>Sebastian</td>\n",
       "      <td>Giese</td>\n",
       "      <td>NaN</td>\n",
       "      <td>University of Freiburg</td>\n",
       "    </tr>\n",
       "    <tr>\n",
       "      <th>5</th>\n",
       "      <td>25621281691205eb015383cbac839182b838514f</td>\n",
       "      <td>Daria</td>\n",
       "      <td>Khokhlova-Cubberley</td>\n",
       "      <td>NaN</td>\n",
       "      <td>Zymo Research Corp</td>\n",
       "    </tr>\n",
       "    <tr>\n",
       "      <th>6</th>\n",
       "      <td>25621281691205eb015383cbac839182b838514f</td>\n",
       "      <td>Yap</td>\n",
       "      <td>Chew</td>\n",
       "      <td>C</td>\n",
       "      <td>Zymo Research Corp</td>\n",
       "    </tr>\n",
       "    <tr>\n",
       "      <th>7</th>\n",
       "      <td>25621281691205eb015383cbac839182b838514f</td>\n",
       "      <td>Nevan</td>\n",
       "      <td>Krogan</td>\n",
       "      <td>J</td>\n",
       "      <td>University of California</td>\n",
       "    </tr>\n",
       "    <tr>\n",
       "      <th>8</th>\n",
       "      <td>25621281691205eb015383cbac839182b838514f</td>\n",
       "      <td>Martin</td>\n",
       "      <td>Schwemmle</td>\n",
       "      <td>NaN</td>\n",
       "      <td>University of Freiburg</td>\n",
       "    </tr>\n",
       "  </tbody>\n",
       "</table>\n",
       "</div>"
      ],
      "text/plain": [
       "                                   paper_id  firstName             lastName  \\\n",
       "0  25621281691205eb015383cbac839182b838514f    Dominik             Dornfeld   \n",
       "1  25621281691205eb015383cbac839182b838514f  Alexandra                Dudek   \n",
       "2  25621281691205eb015383cbac839182b838514f       Sira              Günther   \n",
       "3  25621281691205eb015383cbac839182b838514f       Judd            Hultquist   \n",
       "4  25621281691205eb015383cbac839182b838514f  Sebastian                Giese   \n",
       "5  25621281691205eb015383cbac839182b838514f      Daria  Khokhlova-Cubberley   \n",
       "6  25621281691205eb015383cbac839182b838514f        Yap                 Chew   \n",
       "7  25621281691205eb015383cbac839182b838514f      Nevan               Krogan   \n",
       "8  25621281691205eb015383cbac839182b838514f     Martin            Schwemmle   \n",
       "\n",
       "  middle               institution  \n",
       "0    NaN    University of Freiburg  \n",
       "1      H    University of Freiburg  \n",
       "2      C    University of Freiburg  \n",
       "3      F  University of California  \n",
       "4    NaN    University of Freiburg  \n",
       "5    NaN        Zymo Research Corp  \n",
       "6      C        Zymo Research Corp  \n",
       "7      J  University of California  \n",
       "8    NaN    University of Freiburg  "
      ]
     },
     "execution_count": 6,
     "metadata": {},
     "output_type": "execute_result"
    }
   ],
   "source": [
    "test_df"
   ]
  },
  {
   "cell_type": "code",
   "execution_count": 7,
   "metadata": {},
   "outputs": [
    {
     "data": {
      "text/html": [
       "<div>\n",
       "<style scoped>\n",
       "    .dataframe tbody tr th:only-of-type {\n",
       "        vertical-align: middle;\n",
       "    }\n",
       "\n",
       "    .dataframe tbody tr th {\n",
       "        vertical-align: top;\n",
       "    }\n",
       "\n",
       "    .dataframe thead th {\n",
       "        text-align: right;\n",
       "    }\n",
       "</style>\n",
       "<table border=\"1\" class=\"dataframe\">\n",
       "  <thead>\n",
       "    <tr style=\"text-align: right;\">\n",
       "      <th></th>\n",
       "      <th>paper_id</th>\n",
       "      <th>institute A</th>\n",
       "      <th>institute B</th>\n",
       "    </tr>\n",
       "  </thead>\n",
       "  <tbody>\n",
       "    <tr>\n",
       "      <th>0</th>\n",
       "      <td>25621281691205eb015383cbac839182b838514f</td>\n",
       "      <td>University of Freiburg</td>\n",
       "      <td>University of California</td>\n",
       "    </tr>\n",
       "    <tr>\n",
       "      <th>1</th>\n",
       "      <td>25621281691205eb015383cbac839182b838514f</td>\n",
       "      <td>University of Freiburg</td>\n",
       "      <td>Zymo Research Corp</td>\n",
       "    </tr>\n",
       "    <tr>\n",
       "      <th>2</th>\n",
       "      <td>25621281691205eb015383cbac839182b838514f</td>\n",
       "      <td>University of California</td>\n",
       "      <td>Zymo Research Corp</td>\n",
       "    </tr>\n",
       "  </tbody>\n",
       "</table>\n",
       "</div>"
      ],
      "text/plain": [
       "                                   paper_id               institute A  \\\n",
       "0  25621281691205eb015383cbac839182b838514f    University of Freiburg   \n",
       "1  25621281691205eb015383cbac839182b838514f    University of Freiburg   \n",
       "2  25621281691205eb015383cbac839182b838514f  University of California   \n",
       "\n",
       "                institute B  \n",
       "0  University of California  \n",
       "1        Zymo Research Corp  \n",
       "2        Zymo Research Corp  "
      ]
     },
     "execution_count": 7,
     "metadata": {},
     "output_type": "execute_result"
    }
   ],
   "source": [
    "instList = test_df['institution'].unique().tolist()\n",
    "\n",
    "uniqueInsts = []\n",
    "for combo in combinations(instList, 2):\n",
    "    uniqueInsts.append([test_id, combo[0], combo[1]])\n",
    "\n",
    "collabs_df = pd.DataFrame(uniqueInsts, columns=['paper_id', 'institute A', 'institute B'])\n",
    "collabs_df"
   ]
  },
  {
   "cell_type": "markdown",
   "metadata": {},
   "source": [
    "# Apply func to full article dataframe"
   ]
  },
  {
   "cell_type": "code",
   "execution_count": 8,
   "metadata": {},
   "outputs": [],
   "source": [
    "def getArticleCollabs(article_df):\n",
    "    # return a dataframe of unique cross-institute collaborations on this article\n",
    "    instList = article_df['institution'].unique().tolist()\n",
    "    \n",
    "    # remove nans and strip leading/trailing whitespace\n",
    "    instList = [x.strip() for x in instList if str(x) != 'nan']\n",
    "    uniqueInsts = []\n",
    "    for combo in combinations(instList, 2):\n",
    "        uniqueInsts.append([combo[0], combo[1]])\n",
    "\n",
    "    return pd.DataFrame(uniqueInsts, columns=['institute A', 'institute B'])"
   ]
  },
  {
   "cell_type": "code",
   "execution_count": 9,
   "metadata": {},
   "outputs": [],
   "source": [
    "collabs_df = author_df.groupby('paper_id').apply(getArticleCollabs).reset_index()"
   ]
  },
  {
   "cell_type": "code",
   "execution_count": 10,
   "metadata": {},
   "outputs": [
    {
     "data": {
      "text/plain": [
       "(35818, 4)"
      ]
     },
     "execution_count": 10,
     "metadata": {},
     "output_type": "execute_result"
    }
   ],
   "source": [
    "collabs_df.shape"
   ]
  },
  {
   "cell_type": "markdown",
   "metadata": {},
   "source": [
    "This is still a lot to visualize, so may need to consider removing duplicates, and instead having a single connection between each institute and every other institute they collaborate with. Number of articles collaborated on between two institutions could be represented by color or thickness of the arc. "
   ]
  },
  {
   "cell_type": "code",
   "execution_count": 11,
   "metadata": {},
   "outputs": [
    {
     "data": {
      "text/html": [
       "<div>\n",
       "<style scoped>\n",
       "    .dataframe tbody tr th:only-of-type {\n",
       "        vertical-align: middle;\n",
       "    }\n",
       "\n",
       "    .dataframe tbody tr th {\n",
       "        vertical-align: top;\n",
       "    }\n",
       "\n",
       "    .dataframe thead th {\n",
       "        text-align: right;\n",
       "    }\n",
       "</style>\n",
       "<table border=\"1\" class=\"dataframe\">\n",
       "  <thead>\n",
       "    <tr style=\"text-align: right;\">\n",
       "      <th></th>\n",
       "      <th>paper_id</th>\n",
       "      <th>level_1</th>\n",
       "      <th>institute A</th>\n",
       "      <th>institute B</th>\n",
       "    </tr>\n",
       "  </thead>\n",
       "  <tbody>\n",
       "    <tr>\n",
       "      <th>0</th>\n",
       "      <td>000affa746a03f1fe4e3b3ef1a62fdfa9b9ac52a</td>\n",
       "      <td>0</td>\n",
       "      <td>Chi Mei Medical Center</td>\n",
       "      <td>National Taiwan University Hospital</td>\n",
       "    </tr>\n",
       "    <tr>\n",
       "      <th>1</th>\n",
       "      <td>000affa746a03f1fe4e3b3ef1a62fdfa9b9ac52a</td>\n",
       "      <td>1</td>\n",
       "      <td>Chi Mei Medical Center</td>\n",
       "      <td>New Taipei City</td>\n",
       "    </tr>\n",
       "    <tr>\n",
       "      <th>2</th>\n",
       "      <td>000affa746a03f1fe4e3b3ef1a62fdfa9b9ac52a</td>\n",
       "      <td>2</td>\n",
       "      <td>Chi Mei Medical Center</td>\n",
       "      <td>National Taiwan University College of Medicine</td>\n",
       "    </tr>\n",
       "    <tr>\n",
       "      <th>3</th>\n",
       "      <td>000affa746a03f1fe4e3b3ef1a62fdfa9b9ac52a</td>\n",
       "      <td>3</td>\n",
       "      <td>National Taiwan University Hospital</td>\n",
       "      <td>New Taipei City</td>\n",
       "    </tr>\n",
       "    <tr>\n",
       "      <th>4</th>\n",
       "      <td>000affa746a03f1fe4e3b3ef1a62fdfa9b9ac52a</td>\n",
       "      <td>4</td>\n",
       "      <td>National Taiwan University Hospital</td>\n",
       "      <td>National Taiwan University College of Medicine</td>\n",
       "    </tr>\n",
       "    <tr>\n",
       "      <th>5</th>\n",
       "      <td>000affa746a03f1fe4e3b3ef1a62fdfa9b9ac52a</td>\n",
       "      <td>5</td>\n",
       "      <td>New Taipei City</td>\n",
       "      <td>National Taiwan University College of Medicine</td>\n",
       "    </tr>\n",
       "    <tr>\n",
       "      <th>6</th>\n",
       "      <td>001d8d54a7e73e761f779c81661595cc5ae2ca08</td>\n",
       "      <td>0</td>\n",
       "      <td>University of Antwerp</td>\n",
       "      <td>Vrije Universiteit Amsterdam</td>\n",
       "    </tr>\n",
       "    <tr>\n",
       "      <th>7</th>\n",
       "      <td>001ec025dd65db8a47827c8f49d9c41d60f35d00</td>\n",
       "      <td>0</td>\n",
       "      <td>University of Murcia</td>\n",
       "      <td>University of Zagreb</td>\n",
       "    </tr>\n",
       "    <tr>\n",
       "      <th>8</th>\n",
       "      <td>001ec025dd65db8a47827c8f49d9c41d60f35d00</td>\n",
       "      <td>1</td>\n",
       "      <td>University of Murcia</td>\n",
       "      <td>Uludag University</td>\n",
       "    </tr>\n",
       "    <tr>\n",
       "      <th>9</th>\n",
       "      <td>001ec025dd65db8a47827c8f49d9c41d60f35d00</td>\n",
       "      <td>2</td>\n",
       "      <td>University of Murcia</td>\n",
       "      <td>University of Evora</td>\n",
       "    </tr>\n",
       "  </tbody>\n",
       "</table>\n",
       "</div>"
      ],
      "text/plain": [
       "                                   paper_id  level_1  \\\n",
       "0  000affa746a03f1fe4e3b3ef1a62fdfa9b9ac52a        0   \n",
       "1  000affa746a03f1fe4e3b3ef1a62fdfa9b9ac52a        1   \n",
       "2  000affa746a03f1fe4e3b3ef1a62fdfa9b9ac52a        2   \n",
       "3  000affa746a03f1fe4e3b3ef1a62fdfa9b9ac52a        3   \n",
       "4  000affa746a03f1fe4e3b3ef1a62fdfa9b9ac52a        4   \n",
       "5  000affa746a03f1fe4e3b3ef1a62fdfa9b9ac52a        5   \n",
       "6  001d8d54a7e73e761f779c81661595cc5ae2ca08        0   \n",
       "7  001ec025dd65db8a47827c8f49d9c41d60f35d00        0   \n",
       "8  001ec025dd65db8a47827c8f49d9c41d60f35d00        1   \n",
       "9  001ec025dd65db8a47827c8f49d9c41d60f35d00        2   \n",
       "\n",
       "                           institute A  \\\n",
       "0               Chi Mei Medical Center   \n",
       "1               Chi Mei Medical Center   \n",
       "2               Chi Mei Medical Center   \n",
       "3  National Taiwan University Hospital   \n",
       "4  National Taiwan University Hospital   \n",
       "5                      New Taipei City   \n",
       "6                University of Antwerp   \n",
       "7                 University of Murcia   \n",
       "8                 University of Murcia   \n",
       "9                 University of Murcia   \n",
       "\n",
       "                                      institute B  \n",
       "0             National Taiwan University Hospital  \n",
       "1                                 New Taipei City  \n",
       "2  National Taiwan University College of Medicine  \n",
       "3                                 New Taipei City  \n",
       "4  National Taiwan University College of Medicine  \n",
       "5  National Taiwan University College of Medicine  \n",
       "6                    Vrije Universiteit Amsterdam  \n",
       "7                            University of Zagreb  \n",
       "8                               Uludag University  \n",
       "9                             University of Evora  "
      ]
     },
     "execution_count": 11,
     "metadata": {},
     "output_type": "execute_result"
    }
   ],
   "source": [
    "collabs_df.head(10)"
   ]
  },
  {
   "cell_type": "markdown",
   "metadata": {},
   "source": [
    "## Try to remove any collaboration that is not represented by a valid insitution\n",
    "(as defined by the institutions df created above)"
   ]
  },
  {
   "cell_type": "code",
   "execution_count": 63,
   "metadata": {},
   "outputs": [],
   "source": [
    "def isValidInst(instName):\n",
    "    # check if given inst is valid\n",
    "    try:\n",
    "#         return inst_df['institution'].str.contains(str(instName)).any()\n",
    "        return (inst_df['institution'] == instName).any()\n",
    "    except:\n",
    "        return False\n",
    "\n",
    "def areInstitutesValid(row):\n",
    "    for inst in ['institute A', 'institute B']:\n",
    "        if not isValidInst(row[inst]):\n",
    "            return False\n",
    "    return True\n"
   ]
  },
  {
   "cell_type": "code",
   "execution_count": 64,
   "metadata": {},
   "outputs": [],
   "source": [
    "collabs_df['validInstitutes'] = collabs_df.apply(areInstitutesValid, axis=1)  # takes ~5 min"
   ]
  },
  {
   "cell_type": "code",
   "execution_count": 65,
   "metadata": {},
   "outputs": [],
   "source": [
    "collabs_df = collabs_df[collabs_df['validInstitutes'] == True]"
   ]
  },
  {
   "cell_type": "code",
   "execution_count": 66,
   "metadata": {},
   "outputs": [
    {
     "data": {
      "text/plain": [
       "(30496, 5)"
      ]
     },
     "execution_count": 66,
     "metadata": {},
     "output_type": "execute_result"
    }
   ],
   "source": [
    "collabs_df.shape"
   ]
  },
  {
   "cell_type": "code",
   "execution_count": 67,
   "metadata": {},
   "outputs": [
    {
     "data": {
      "text/html": [
       "<div>\n",
       "<style scoped>\n",
       "    .dataframe tbody tr th:only-of-type {\n",
       "        vertical-align: middle;\n",
       "    }\n",
       "\n",
       "    .dataframe tbody tr th {\n",
       "        vertical-align: top;\n",
       "    }\n",
       "\n",
       "    .dataframe thead th {\n",
       "        text-align: right;\n",
       "    }\n",
       "</style>\n",
       "<table border=\"1\" class=\"dataframe\">\n",
       "  <thead>\n",
       "    <tr style=\"text-align: right;\">\n",
       "      <th></th>\n",
       "      <th>paper_id</th>\n",
       "      <th>level_1</th>\n",
       "      <th>institute A</th>\n",
       "      <th>institute B</th>\n",
       "      <th>validInstitutes</th>\n",
       "    </tr>\n",
       "  </thead>\n",
       "  <tbody>\n",
       "    <tr>\n",
       "      <th>0</th>\n",
       "      <td>000affa746a03f1fe4e3b3ef1a62fdfa9b9ac52a</td>\n",
       "      <td>0</td>\n",
       "      <td>Chi Mei Medical Center</td>\n",
       "      <td>National Taiwan University Hospital</td>\n",
       "      <td>True</td>\n",
       "    </tr>\n",
       "    <tr>\n",
       "      <th>1</th>\n",
       "      <td>000affa746a03f1fe4e3b3ef1a62fdfa9b9ac52a</td>\n",
       "      <td>1</td>\n",
       "      <td>Chi Mei Medical Center</td>\n",
       "      <td>New Taipei City</td>\n",
       "      <td>True</td>\n",
       "    </tr>\n",
       "    <tr>\n",
       "      <th>2</th>\n",
       "      <td>000affa746a03f1fe4e3b3ef1a62fdfa9b9ac52a</td>\n",
       "      <td>2</td>\n",
       "      <td>Chi Mei Medical Center</td>\n",
       "      <td>National Taiwan University College of Medicine</td>\n",
       "      <td>True</td>\n",
       "    </tr>\n",
       "    <tr>\n",
       "      <th>3</th>\n",
       "      <td>000affa746a03f1fe4e3b3ef1a62fdfa9b9ac52a</td>\n",
       "      <td>3</td>\n",
       "      <td>National Taiwan University Hospital</td>\n",
       "      <td>New Taipei City</td>\n",
       "      <td>True</td>\n",
       "    </tr>\n",
       "    <tr>\n",
       "      <th>4</th>\n",
       "      <td>000affa746a03f1fe4e3b3ef1a62fdfa9b9ac52a</td>\n",
       "      <td>4</td>\n",
       "      <td>National Taiwan University Hospital</td>\n",
       "      <td>National Taiwan University College of Medicine</td>\n",
       "      <td>True</td>\n",
       "    </tr>\n",
       "  </tbody>\n",
       "</table>\n",
       "</div>"
      ],
      "text/plain": [
       "                                   paper_id  level_1  \\\n",
       "0  000affa746a03f1fe4e3b3ef1a62fdfa9b9ac52a        0   \n",
       "1  000affa746a03f1fe4e3b3ef1a62fdfa9b9ac52a        1   \n",
       "2  000affa746a03f1fe4e3b3ef1a62fdfa9b9ac52a        2   \n",
       "3  000affa746a03f1fe4e3b3ef1a62fdfa9b9ac52a        3   \n",
       "4  000affa746a03f1fe4e3b3ef1a62fdfa9b9ac52a        4   \n",
       "\n",
       "                           institute A  \\\n",
       "0               Chi Mei Medical Center   \n",
       "1               Chi Mei Medical Center   \n",
       "2               Chi Mei Medical Center   \n",
       "3  National Taiwan University Hospital   \n",
       "4  National Taiwan University Hospital   \n",
       "\n",
       "                                      institute B  validInstitutes  \n",
       "0             National Taiwan University Hospital             True  \n",
       "1                                 New Taipei City             True  \n",
       "2  National Taiwan University College of Medicine             True  \n",
       "3                                 New Taipei City             True  \n",
       "4  National Taiwan University College of Medicine             True  "
      ]
     },
     "execution_count": 67,
     "metadata": {},
     "output_type": "execute_result"
    }
   ],
   "source": [
    "collabs_df.head()"
   ]
  },
  {
   "cell_type": "markdown",
   "metadata": {},
   "source": [
    "## Add lat/lng for each inst"
   ]
  },
  {
   "cell_type": "code",
   "execution_count": 68,
   "metadata": {},
   "outputs": [
    {
     "data": {
      "text/plain": [
       "False"
      ]
     },
     "execution_count": 68,
     "metadata": {},
     "output_type": "execute_result"
    }
   ],
   "source": [
    "inst = 'Ludwig-Maximilians-University'\n",
    "\n",
    "isValidInst(inst)"
   ]
  },
  {
   "cell_type": "code",
   "execution_count": 59,
   "metadata": {},
   "outputs": [
    {
     "data": {
      "text/plain": [
       "True"
      ]
     },
     "execution_count": 59,
     "metadata": {},
     "output_type": "execute_result"
    }
   ],
   "source": [
    "(inst_df['institution'] == 'University of Tiradentes').any()"
   ]
  },
  {
   "cell_type": "code",
   "execution_count": 56,
   "metadata": {},
   "outputs": [
    {
     "data": {
      "text/html": [
       "<div>\n",
       "<style scoped>\n",
       "    .dataframe tbody tr th:only-of-type {\n",
       "        vertical-align: middle;\n",
       "    }\n",
       "\n",
       "    .dataframe tbody tr th {\n",
       "        vertical-align: top;\n",
       "    }\n",
       "\n",
       "    .dataframe thead th {\n",
       "        text-align: right;\n",
       "    }\n",
       "</style>\n",
       "<table border=\"1\" class=\"dataframe\">\n",
       "  <thead>\n",
       "    <tr style=\"text-align: right;\">\n",
       "      <th></th>\n",
       "      <th>institution</th>\n",
       "      <th>addr</th>\n",
       "      <th>lat</th>\n",
       "      <th>lng</th>\n",
       "    </tr>\n",
       "  </thead>\n",
       "  <tbody>\n",
       "  </tbody>\n",
       "</table>\n",
       "</div>"
      ],
      "text/plain": [
       "Empty DataFrame\n",
       "Columns: [institution, addr, lat, lng]\n",
       "Index: []"
      ]
     },
     "execution_count": 56,
     "metadata": {},
     "output_type": "execute_result"
    }
   ],
   "source": [
    "a"
   ]
  },
  {
   "cell_type": "code",
   "execution_count": 48,
   "metadata": {},
   "outputs": [
    {
     "data": {
      "text/plain": [
       "32.111154"
      ]
     },
     "execution_count": 48,
     "metadata": {},
     "output_type": "execute_result"
    }
   ],
   "source": [
    "a['lat']"
   ]
  },
  {
   "cell_type": "code",
   "execution_count": 69,
   "metadata": {},
   "outputs": [],
   "source": [
    "def getLngLat(inst):\n",
    "    # get the latitude of the specified institution\n",
    "    instRecord = inst_df[inst_df['institution'] == inst].iloc[0]\n",
    "    return [instRecord['lng'], instRecord['lat']]\n",
    "    "
   ]
  },
  {
   "cell_type": "code",
   "execution_count": 70,
   "metadata": {},
   "outputs": [],
   "source": [
    "collabs_df['instA_coords'] = collabs_df['institute A'].apply(getLngLat)"
   ]
  },
  {
   "cell_type": "code",
   "execution_count": 71,
   "metadata": {},
   "outputs": [],
   "source": [
    "collabs_df['instB_coords'] = collabs_df['institute B'].apply(getLngLat)"
   ]
  },
  {
   "cell_type": "code",
   "execution_count": 72,
   "metadata": {},
   "outputs": [
    {
     "data": {
      "text/html": [
       "<div>\n",
       "<style scoped>\n",
       "    .dataframe tbody tr th:only-of-type {\n",
       "        vertical-align: middle;\n",
       "    }\n",
       "\n",
       "    .dataframe tbody tr th {\n",
       "        vertical-align: top;\n",
       "    }\n",
       "\n",
       "    .dataframe thead th {\n",
       "        text-align: right;\n",
       "    }\n",
       "</style>\n",
       "<table border=\"1\" class=\"dataframe\">\n",
       "  <thead>\n",
       "    <tr style=\"text-align: right;\">\n",
       "      <th></th>\n",
       "      <th>paper_id</th>\n",
       "      <th>level_1</th>\n",
       "      <th>institute A</th>\n",
       "      <th>institute B</th>\n",
       "      <th>validInstitutes</th>\n",
       "      <th>instA_coords</th>\n",
       "      <th>instB_coords</th>\n",
       "    </tr>\n",
       "  </thead>\n",
       "  <tbody>\n",
       "    <tr>\n",
       "      <th>0</th>\n",
       "      <td>000affa746a03f1fe4e3b3ef1a62fdfa9b9ac52a</td>\n",
       "      <td>0</td>\n",
       "      <td>Chi Mei Medical Center</td>\n",
       "      <td>National Taiwan University Hospital</td>\n",
       "      <td>True</td>\n",
       "      <td>[120.22193689999999, 23.0207771]</td>\n",
       "      <td>[121.5189863, 25.0407391]</td>\n",
       "    </tr>\n",
       "    <tr>\n",
       "      <th>1</th>\n",
       "      <td>000affa746a03f1fe4e3b3ef1a62fdfa9b9ac52a</td>\n",
       "      <td>1</td>\n",
       "      <td>Chi Mei Medical Center</td>\n",
       "      <td>New Taipei City</td>\n",
       "      <td>True</td>\n",
       "      <td>[120.22193689999999, 23.0207771]</td>\n",
       "      <td>[121.4627868, 25.0169826]</td>\n",
       "    </tr>\n",
       "    <tr>\n",
       "      <th>2</th>\n",
       "      <td>000affa746a03f1fe4e3b3ef1a62fdfa9b9ac52a</td>\n",
       "      <td>2</td>\n",
       "      <td>Chi Mei Medical Center</td>\n",
       "      <td>National Taiwan University College of Medicine</td>\n",
       "      <td>True</td>\n",
       "      <td>[120.22193689999999, 23.0207771]</td>\n",
       "      <td>[121.51953259999999, 25.0395902]</td>\n",
       "    </tr>\n",
       "    <tr>\n",
       "      <th>3</th>\n",
       "      <td>000affa746a03f1fe4e3b3ef1a62fdfa9b9ac52a</td>\n",
       "      <td>3</td>\n",
       "      <td>National Taiwan University Hospital</td>\n",
       "      <td>New Taipei City</td>\n",
       "      <td>True</td>\n",
       "      <td>[121.5189863, 25.0407391]</td>\n",
       "      <td>[121.4627868, 25.0169826]</td>\n",
       "    </tr>\n",
       "    <tr>\n",
       "      <th>4</th>\n",
       "      <td>000affa746a03f1fe4e3b3ef1a62fdfa9b9ac52a</td>\n",
       "      <td>4</td>\n",
       "      <td>National Taiwan University Hospital</td>\n",
       "      <td>National Taiwan University College of Medicine</td>\n",
       "      <td>True</td>\n",
       "      <td>[121.5189863, 25.0407391]</td>\n",
       "      <td>[121.51953259999999, 25.0395902]</td>\n",
       "    </tr>\n",
       "  </tbody>\n",
       "</table>\n",
       "</div>"
      ],
      "text/plain": [
       "                                   paper_id  level_1  \\\n",
       "0  000affa746a03f1fe4e3b3ef1a62fdfa9b9ac52a        0   \n",
       "1  000affa746a03f1fe4e3b3ef1a62fdfa9b9ac52a        1   \n",
       "2  000affa746a03f1fe4e3b3ef1a62fdfa9b9ac52a        2   \n",
       "3  000affa746a03f1fe4e3b3ef1a62fdfa9b9ac52a        3   \n",
       "4  000affa746a03f1fe4e3b3ef1a62fdfa9b9ac52a        4   \n",
       "\n",
       "                           institute A  \\\n",
       "0               Chi Mei Medical Center   \n",
       "1               Chi Mei Medical Center   \n",
       "2               Chi Mei Medical Center   \n",
       "3  National Taiwan University Hospital   \n",
       "4  National Taiwan University Hospital   \n",
       "\n",
       "                                      institute B  validInstitutes  \\\n",
       "0             National Taiwan University Hospital             True   \n",
       "1                                 New Taipei City             True   \n",
       "2  National Taiwan University College of Medicine             True   \n",
       "3                                 New Taipei City             True   \n",
       "4  National Taiwan University College of Medicine             True   \n",
       "\n",
       "                       instA_coords                      instB_coords  \n",
       "0  [120.22193689999999, 23.0207771]         [121.5189863, 25.0407391]  \n",
       "1  [120.22193689999999, 23.0207771]         [121.4627868, 25.0169826]  \n",
       "2  [120.22193689999999, 23.0207771]  [121.51953259999999, 25.0395902]  \n",
       "3         [121.5189863, 25.0407391]         [121.4627868, 25.0169826]  \n",
       "4         [121.5189863, 25.0407391]  [121.51953259999999, 25.0395902]  "
      ]
     },
     "execution_count": 72,
     "metadata": {},
     "output_type": "execute_result"
    }
   ],
   "source": [
    "collabs_df.head()"
   ]
  },
  {
   "cell_type": "code",
   "execution_count": 73,
   "metadata": {},
   "outputs": [],
   "source": [
    "collabs_df = collabs_df.drop(['level_1', 'validInstitutes'], axis=1)"
   ]
  },
  {
   "cell_type": "markdown",
   "metadata": {},
   "source": [
    "### Add inst ID to each"
   ]
  },
  {
   "cell_type": "code",
   "execution_count": 86,
   "metadata": {},
   "outputs": [],
   "source": [
    "def getID(inst):\n",
    "    instRecord = inst_df[inst_df['institution'] == inst].iloc[0]\n",
    "    return instRecord['instID']"
   ]
  },
  {
   "cell_type": "code",
   "execution_count": 87,
   "metadata": {},
   "outputs": [],
   "source": [
    "collabs_df['instA_id'] = collabs_df['institute A'].apply(getID)"
   ]
  },
  {
   "cell_type": "code",
   "execution_count": 88,
   "metadata": {},
   "outputs": [],
   "source": [
    "collabs_df['instB_id'] = collabs_df['institute B'].apply(getID)"
   ]
  },
  {
   "cell_type": "code",
   "execution_count": 89,
   "metadata": {},
   "outputs": [
    {
     "data": {
      "text/html": [
       "<div>\n",
       "<style scoped>\n",
       "    .dataframe tbody tr th:only-of-type {\n",
       "        vertical-align: middle;\n",
       "    }\n",
       "\n",
       "    .dataframe tbody tr th {\n",
       "        vertical-align: top;\n",
       "    }\n",
       "\n",
       "    .dataframe thead th {\n",
       "        text-align: right;\n",
       "    }\n",
       "</style>\n",
       "<table border=\"1\" class=\"dataframe\">\n",
       "  <thead>\n",
       "    <tr style=\"text-align: right;\">\n",
       "      <th></th>\n",
       "      <th>paper_id</th>\n",
       "      <th>institute A</th>\n",
       "      <th>institute B</th>\n",
       "      <th>instA_coords</th>\n",
       "      <th>instB_coords</th>\n",
       "      <th>instA_id</th>\n",
       "      <th>instB_id</th>\n",
       "    </tr>\n",
       "  </thead>\n",
       "  <tbody>\n",
       "    <tr>\n",
       "      <th>0</th>\n",
       "      <td>000affa746a03f1fe4e3b3ef1a62fdfa9b9ac52a</td>\n",
       "      <td>Chi Mei Medical Center</td>\n",
       "      <td>National Taiwan University Hospital</td>\n",
       "      <td>[120.22193689999999, 23.0207771]</td>\n",
       "      <td>[121.5189863, 25.0407391]</td>\n",
       "      <td>1134</td>\n",
       "      <td>5009</td>\n",
       "    </tr>\n",
       "    <tr>\n",
       "      <th>1</th>\n",
       "      <td>000affa746a03f1fe4e3b3ef1a62fdfa9b9ac52a</td>\n",
       "      <td>Chi Mei Medical Center</td>\n",
       "      <td>New Taipei City</td>\n",
       "      <td>[120.22193689999999, 23.0207771]</td>\n",
       "      <td>[121.4627868, 25.0169826]</td>\n",
       "      <td>1134</td>\n",
       "      <td>10160</td>\n",
       "    </tr>\n",
       "    <tr>\n",
       "      <th>2</th>\n",
       "      <td>000affa746a03f1fe4e3b3ef1a62fdfa9b9ac52a</td>\n",
       "      <td>Chi Mei Medical Center</td>\n",
       "      <td>National Taiwan University College of Medicine</td>\n",
       "      <td>[120.22193689999999, 23.0207771]</td>\n",
       "      <td>[121.51953259999999, 25.0395902]</td>\n",
       "      <td>1134</td>\n",
       "      <td>6086</td>\n",
       "    </tr>\n",
       "    <tr>\n",
       "      <th>3</th>\n",
       "      <td>000affa746a03f1fe4e3b3ef1a62fdfa9b9ac52a</td>\n",
       "      <td>National Taiwan University Hospital</td>\n",
       "      <td>New Taipei City</td>\n",
       "      <td>[121.5189863, 25.0407391]</td>\n",
       "      <td>[121.4627868, 25.0169826]</td>\n",
       "      <td>5009</td>\n",
       "      <td>10160</td>\n",
       "    </tr>\n",
       "    <tr>\n",
       "      <th>4</th>\n",
       "      <td>000affa746a03f1fe4e3b3ef1a62fdfa9b9ac52a</td>\n",
       "      <td>National Taiwan University Hospital</td>\n",
       "      <td>National Taiwan University College of Medicine</td>\n",
       "      <td>[121.5189863, 25.0407391]</td>\n",
       "      <td>[121.51953259999999, 25.0395902]</td>\n",
       "      <td>5009</td>\n",
       "      <td>6086</td>\n",
       "    </tr>\n",
       "  </tbody>\n",
       "</table>\n",
       "</div>"
      ],
      "text/plain": [
       "                                   paper_id  \\\n",
       "0  000affa746a03f1fe4e3b3ef1a62fdfa9b9ac52a   \n",
       "1  000affa746a03f1fe4e3b3ef1a62fdfa9b9ac52a   \n",
       "2  000affa746a03f1fe4e3b3ef1a62fdfa9b9ac52a   \n",
       "3  000affa746a03f1fe4e3b3ef1a62fdfa9b9ac52a   \n",
       "4  000affa746a03f1fe4e3b3ef1a62fdfa9b9ac52a   \n",
       "\n",
       "                           institute A  \\\n",
       "0               Chi Mei Medical Center   \n",
       "1               Chi Mei Medical Center   \n",
       "2               Chi Mei Medical Center   \n",
       "3  National Taiwan University Hospital   \n",
       "4  National Taiwan University Hospital   \n",
       "\n",
       "                                      institute B  \\\n",
       "0             National Taiwan University Hospital   \n",
       "1                                 New Taipei City   \n",
       "2  National Taiwan University College of Medicine   \n",
       "3                                 New Taipei City   \n",
       "4  National Taiwan University College of Medicine   \n",
       "\n",
       "                       instA_coords                      instB_coords  \\\n",
       "0  [120.22193689999999, 23.0207771]         [121.5189863, 25.0407391]   \n",
       "1  [120.22193689999999, 23.0207771]         [121.4627868, 25.0169826]   \n",
       "2  [120.22193689999999, 23.0207771]  [121.51953259999999, 25.0395902]   \n",
       "3         [121.5189863, 25.0407391]         [121.4627868, 25.0169826]   \n",
       "4         [121.5189863, 25.0407391]  [121.51953259999999, 25.0395902]   \n",
       "\n",
       "   instA_id  instB_id  \n",
       "0      1134      5009  \n",
       "1      1134     10160  \n",
       "2      1134      6086  \n",
       "3      5009     10160  \n",
       "4      5009      6086  "
      ]
     },
     "execution_count": 89,
     "metadata": {},
     "output_type": "execute_result"
    }
   ],
   "source": [
    "collabs_df.head()"
   ]
  },
  {
   "cell_type": "code",
   "execution_count": 90,
   "metadata": {},
   "outputs": [],
   "source": [
    "collabs_df = collabs_df.drop(columns=[\"institute A\", \"institute B\"])"
   ]
  },
  {
   "cell_type": "markdown",
   "metadata": {},
   "source": [
    "### Write out to disk"
   ]
  },
  {
   "cell_type": "code",
   "execution_count": 91,
   "metadata": {},
   "outputs": [],
   "source": [
    "collabs_df.to_json(join(dataDir, 'allCollabs.json'), orient='records', indent=0)"
   ]
  },
  {
   "cell_type": "markdown",
   "metadata": {},
   "source": [
    "# Sandbox"
   ]
  },
  {
   "cell_type": "code",
   "execution_count": 92,
   "metadata": {},
   "outputs": [
    {
     "data": {
      "text/html": [
       "<div>\n",
       "<style scoped>\n",
       "    .dataframe tbody tr th:only-of-type {\n",
       "        vertical-align: middle;\n",
       "    }\n",
       "\n",
       "    .dataframe tbody tr th {\n",
       "        vertical-align: top;\n",
       "    }\n",
       "\n",
       "    .dataframe thead th {\n",
       "        text-align: right;\n",
       "    }\n",
       "</style>\n",
       "<table border=\"1\" class=\"dataframe\">\n",
       "  <thead>\n",
       "    <tr style=\"text-align: right;\">\n",
       "      <th></th>\n",
       "      <th>institution</th>\n",
       "      <th>lat</th>\n",
       "      <th>lng</th>\n",
       "      <th>instID</th>\n",
       "    </tr>\n",
       "  </thead>\n",
       "  <tbody>\n",
       "    <tr>\n",
       "      <th>0</th>\n",
       "      <td>CHU de Bicê tre</td>\n",
       "      <td>48.810596</td>\n",
       "      <td>2.352250</td>\n",
       "      <td>0</td>\n",
       "    </tr>\n",
       "    <tr>\n",
       "      <th>1</th>\n",
       "      <td>Ecole Nationale Vétérinaire de Toulouse</td>\n",
       "      <td>43.598014</td>\n",
       "      <td>1.380306</td>\n",
       "      <td>1</td>\n",
       "    </tr>\n",
       "    <tr>\n",
       "      <th>2</th>\n",
       "      <td>Zhuhai United Laboratories Co., Ltd</td>\n",
       "      <td>22.038476</td>\n",
       "      <td>113.335480</td>\n",
       "      <td>2</td>\n",
       "    </tr>\n",
       "    <tr>\n",
       "      <th>3</th>\n",
       "      <td>Hedong District</td>\n",
       "      <td>39.128291</td>\n",
       "      <td>117.251586</td>\n",
       "      <td>3</td>\n",
       "    </tr>\n",
       "    <tr>\n",
       "      <th>4</th>\n",
       "      <td>National United University</td>\n",
       "      <td>24.545804</td>\n",
       "      <td>120.812320</td>\n",
       "      <td>4</td>\n",
       "    </tr>\n",
       "    <tr>\n",
       "      <th>...</th>\n",
       "      <td>...</td>\n",
       "      <td>...</td>\n",
       "      <td>...</td>\n",
       "      <td>...</td>\n",
       "    </tr>\n",
       "    <tr>\n",
       "      <th>10779</th>\n",
       "      <td>the University of Texas MD Anderson Cancer Center</td>\n",
       "      <td>29.706815</td>\n",
       "      <td>-95.397155</td>\n",
       "      <td>10779</td>\n",
       "    </tr>\n",
       "    <tr>\n",
       "      <th>10780</th>\n",
       "      <td>Yamaguchi University</td>\n",
       "      <td>34.148619</td>\n",
       "      <td>131.467873</td>\n",
       "      <td>10780</td>\n",
       "    </tr>\n",
       "    <tr>\n",
       "      <th>10781</th>\n",
       "      <td>Universidad Católica del Norte</td>\n",
       "      <td>-23.681115</td>\n",
       "      <td>-70.410535</td>\n",
       "      <td>10781</td>\n",
       "    </tr>\n",
       "    <tr>\n",
       "      <th>10782</th>\n",
       "      <td>Institut Pasteur de Bangui</td>\n",
       "      <td>4.373818</td>\n",
       "      <td>18.573630</td>\n",
       "      <td>10782</td>\n",
       "    </tr>\n",
       "    <tr>\n",
       "      <th>10783</th>\n",
       "      <td>University of Minnesota Minneapolis</td>\n",
       "      <td>44.973990</td>\n",
       "      <td>-93.227728</td>\n",
       "      <td>10783</td>\n",
       "    </tr>\n",
       "  </tbody>\n",
       "</table>\n",
       "<p>10784 rows × 4 columns</p>\n",
       "</div>"
      ],
      "text/plain": [
       "                                             institution        lat  \\\n",
       "0                                        CHU de Bicê tre  48.810596   \n",
       "1                Ecole Nationale Vétérinaire de Toulouse  43.598014   \n",
       "2                    Zhuhai United Laboratories Co., Ltd  22.038476   \n",
       "3                                        Hedong District  39.128291   \n",
       "4                             National United University  24.545804   \n",
       "...                                                  ...        ...   \n",
       "10779  the University of Texas MD Anderson Cancer Center  29.706815   \n",
       "10780                               Yamaguchi University  34.148619   \n",
       "10781                     Universidad Católica del Norte -23.681115   \n",
       "10782                         Institut Pasteur de Bangui   4.373818   \n",
       "10783                University of Minnesota Minneapolis  44.973990   \n",
       "\n",
       "              lng  instID  \n",
       "0        2.352250       0  \n",
       "1        1.380306       1  \n",
       "2      113.335480       2  \n",
       "3      117.251586       3  \n",
       "4      120.812320       4  \n",
       "...           ...     ...  \n",
       "10779  -95.397155   10779  \n",
       "10780  131.467873   10780  \n",
       "10781  -70.410535   10781  \n",
       "10782   18.573630   10782  \n",
       "10783  -93.227728   10783  \n",
       "\n",
       "[10784 rows x 4 columns]"
      ]
     },
     "execution_count": 92,
     "metadata": {},
     "output_type": "execute_result"
    }
   ],
   "source": [
    "inst_df"
   ]
  },
  {
   "cell_type": "code",
   "execution_count": 103,
   "metadata": {},
   "outputs": [],
   "source": [
    "test = {\n",
    "    \"institute A\": [\"L\", \"M\", \"M\", \"O\", \"P\"],\n",
    "    \"institute B\": [\"M\", \"A\", \"L \", \"B\", \"C\"]\n",
    "}\n",
    "\n",
    "test_df = pd.DataFrame(test)"
   ]
  },
  {
   "cell_type": "code",
   "execution_count": 104,
   "metadata": {},
   "outputs": [],
   "source": [
    "test_df['sorted'] = test_df.apply(sortInstitutes, axis=1)"
   ]
  },
  {
   "cell_type": "code",
   "execution_count": 105,
   "metadata": {},
   "outputs": [
    {
     "data": {
      "text/html": [
       "<div>\n",
       "<style scoped>\n",
       "    .dataframe tbody tr th:only-of-type {\n",
       "        vertical-align: middle;\n",
       "    }\n",
       "\n",
       "    .dataframe tbody tr th {\n",
       "        vertical-align: top;\n",
       "    }\n",
       "\n",
       "    .dataframe thead th {\n",
       "        text-align: right;\n",
       "    }\n",
       "</style>\n",
       "<table border=\"1\" class=\"dataframe\">\n",
       "  <thead>\n",
       "    <tr style=\"text-align: right;\">\n",
       "      <th></th>\n",
       "      <th>institute A</th>\n",
       "      <th>institute B</th>\n",
       "      <th>sorted</th>\n",
       "    </tr>\n",
       "  </thead>\n",
       "  <tbody>\n",
       "    <tr>\n",
       "      <th>0</th>\n",
       "      <td>L</td>\n",
       "      <td>M</td>\n",
       "      <td>L,M</td>\n",
       "    </tr>\n",
       "    <tr>\n",
       "      <th>1</th>\n",
       "      <td>M</td>\n",
       "      <td>A</td>\n",
       "      <td>A,M</td>\n",
       "    </tr>\n",
       "    <tr>\n",
       "      <th>2</th>\n",
       "      <td>M</td>\n",
       "      <td>L</td>\n",
       "      <td>L ,M</td>\n",
       "    </tr>\n",
       "    <tr>\n",
       "      <th>3</th>\n",
       "      <td>O</td>\n",
       "      <td>B</td>\n",
       "      <td>B,O</td>\n",
       "    </tr>\n",
       "    <tr>\n",
       "      <th>4</th>\n",
       "      <td>P</td>\n",
       "      <td>C</td>\n",
       "      <td>C,P</td>\n",
       "    </tr>\n",
       "  </tbody>\n",
       "</table>\n",
       "</div>"
      ],
      "text/plain": [
       "  institute A institute B sorted\n",
       "0           L           M    L,M\n",
       "1           M           A    A,M\n",
       "2           M          L    L ,M\n",
       "3           O           B    B,O\n",
       "4           P           C    C,P"
      ]
     },
     "execution_count": 105,
     "metadata": {},
     "output_type": "execute_result"
    }
   ],
   "source": [
    "test_df"
   ]
  },
  {
   "cell_type": "code",
   "execution_count": 106,
   "metadata": {},
   "outputs": [],
   "source": [
    "tesCount_df = test_df.groupby('sorted').count().reset_index()"
   ]
  },
  {
   "cell_type": "code",
   "execution_count": 107,
   "metadata": {},
   "outputs": [
    {
     "data": {
      "text/html": [
       "<div>\n",
       "<style scoped>\n",
       "    .dataframe tbody tr th:only-of-type {\n",
       "        vertical-align: middle;\n",
       "    }\n",
       "\n",
       "    .dataframe tbody tr th {\n",
       "        vertical-align: top;\n",
       "    }\n",
       "\n",
       "    .dataframe thead th {\n",
       "        text-align: right;\n",
       "    }\n",
       "</style>\n",
       "<table border=\"1\" class=\"dataframe\">\n",
       "  <thead>\n",
       "    <tr style=\"text-align: right;\">\n",
       "      <th></th>\n",
       "      <th>sorted</th>\n",
       "      <th>institute A</th>\n",
       "      <th>institute B</th>\n",
       "    </tr>\n",
       "  </thead>\n",
       "  <tbody>\n",
       "    <tr>\n",
       "      <th>0</th>\n",
       "      <td>A,M</td>\n",
       "      <td>1</td>\n",
       "      <td>1</td>\n",
       "    </tr>\n",
       "    <tr>\n",
       "      <th>1</th>\n",
       "      <td>B,O</td>\n",
       "      <td>1</td>\n",
       "      <td>1</td>\n",
       "    </tr>\n",
       "    <tr>\n",
       "      <th>2</th>\n",
       "      <td>C,P</td>\n",
       "      <td>1</td>\n",
       "      <td>1</td>\n",
       "    </tr>\n",
       "    <tr>\n",
       "      <th>3</th>\n",
       "      <td>L ,M</td>\n",
       "      <td>1</td>\n",
       "      <td>1</td>\n",
       "    </tr>\n",
       "    <tr>\n",
       "      <th>4</th>\n",
       "      <td>L,M</td>\n",
       "      <td>1</td>\n",
       "      <td>1</td>\n",
       "    </tr>\n",
       "  </tbody>\n",
       "</table>\n",
       "</div>"
      ],
      "text/plain": [
       "  sorted  institute A  institute B\n",
       "0    A,M            1            1\n",
       "1    B,O            1            1\n",
       "2    C,P            1            1\n",
       "3   L ,M            1            1\n",
       "4    L,M            1            1"
      ]
     },
     "execution_count": 107,
     "metadata": {},
     "output_type": "execute_result"
    }
   ],
   "source": [
    "tesCount_df"
   ]
  },
  {
   "cell_type": "markdown",
   "metadata": {},
   "source": [
    "# Projection Resources"
   ]
  },
  {
   "cell_type": "markdown",
   "metadata": {},
   "source": [
    "* https://github.com/vasturiano/three-globe\n",
    "* https://medium.com/@xiaoyangzhao/drawing-curves-on-webgl-globe-using-three-js-and-d3-draft-7e782ffd7ab\n",
    "* http://learningthreejs.com/blog/2013/09/16/how-to-make-the-earth-in-webgl/\n",
    "* rotate camera to look at specific point: https://discourse.threejs.org/t/solved-rotate-camera-to-face-point-on-sphere/1676\n",
    "* rotate camera to specific lat/lng: https://stackoverflow.com/questions/35465654/rotating-a-sphere-to-a-specific-point-not-the-camera\n",
    "* design inspo: http://shinyeonpark.com/project/ana-flight-connections/"
   ]
  }
 ],
 "metadata": {
  "kernelspec": {
   "display_name": "Python 3",
   "language": "python",
   "name": "python3"
  },
  "language_info": {
   "codemirror_mode": {
    "name": "ipython",
    "version": 3
   },
   "file_extension": ".py",
   "mimetype": "text/x-python",
   "name": "python",
   "nbconvert_exporter": "python",
   "pygments_lexer": "ipython3",
   "version": "3.6.4"
  }
 },
 "nbformat": 4,
 "nbformat_minor": 4
}
