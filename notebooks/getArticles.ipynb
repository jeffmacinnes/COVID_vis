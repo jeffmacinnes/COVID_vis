{
 "cells": [
  {
   "cell_type": "code",
   "execution_count": 1,
   "metadata": {},
   "outputs": [],
   "source": [
    "import numpy as np\n",
    "import pandas as pd\n",
    "import os\n",
    "from os.path import join\n",
    "\n",
    "import matplotlib.pyplot as plt"
   ]
  },
  {
   "cell_type": "code",
   "execution_count": 17,
   "metadata": {},
   "outputs": [],
   "source": [
    "import requests"
   ]
  },
  {
   "cell_type": "code",
   "execution_count": 21,
   "metadata": {},
   "outputs": [],
   "source": [
    "import xmltodict\n",
    "import json"
   ]
  },
  {
   "cell_type": "code",
   "execution_count": 2,
   "metadata": {},
   "outputs": [],
   "source": [
    "dataDir = '../data'"
   ]
  },
  {
   "cell_type": "markdown",
   "metadata": {},
   "source": [
    "# PMC open access articles\n",
    "\n",
    "PubMed Central is providing a free open access repository of research articles related to COVID-19. To see that list, see: https://www.ncbi.nlm.nih.gov/pmc/?term=2019-nCoV+OR+2019nCoV+OR+COVID-19+OR+SARS-CoV-2+OR+((wuhan+AND+coronavirus)+AND+2019%2F12%5BPDAT%5D%3A2030%5BPDAT%5D)%20AND%20%22open%20access%22%5BFilter%5D\n",
    "\n",
    "To create a list of IDs for all articles, go to the bottom of that link, click \"Send to:\", choose \"File\" and select \"Format: PMCID list\". Download the file and move to this repo\n"
   ]
  },
  {
   "cell_type": "code",
   "execution_count": 15,
   "metadata": {},
   "outputs": [],
   "source": [
    "# get a list of all PMC IDs\n",
    "with open(join(dataDir, 'PMCID_list.csv'), 'r') as f:\n",
    "    pmcIDs = f.read().splitlines()"
   ]
  },
  {
   "cell_type": "code",
   "execution_count": 16,
   "metadata": {},
   "outputs": [
    {
     "data": {
      "text/plain": [
       "['PMC7359905', 'PMC7359914', 'PMC7568028']"
      ]
     },
     "execution_count": 16,
     "metadata": {},
     "output_type": "execute_result"
    }
   ],
   "source": [
    "pmcIDs[:3]"
   ]
  },
  {
   "cell_type": "code",
   "execution_count": 174,
   "metadata": {},
   "outputs": [],
   "source": [
    "# field-specific functions to retrieve info from the metadata dict\n",
    "def getJournalTitle(md):\n",
    "    return md['journal-meta']['journal-title-group']['journal-title']\n",
    "\n",
    "def getDOI(md):\n",
    "    artIdList = md['article-meta']['article-id']\n",
    "    return [x for x in artIdList if x['@pub-id-type'] == 'doi'][0]['#text']\n",
    "\n",
    "def getPMID(md):\n",
    "    artIdList = md['article-meta']['article-id']\n",
    "    return [x for x in artIdList if x['@pub-id-type'] == 'pmid'][0]['#text']\n",
    "\n",
    "def getArticleTitle(md):\n",
    "    titleGroup = d['article-meta']['title-group']\n",
    "    return ': '.join([titleGroup[key] for key in titleGroup.keys()])\n",
    "\n",
    "def getPubDates(md):\n",
    "    dateGroup = md['article-meta']['pub-date']\n",
    "    dates = []\n",
    "    for date in dateGroup:\n",
    "        if 'day' in date.keys():\n",
    "            day = date['day']\n",
    "        else:\n",
    "            day = '01'\n",
    "        dates.append({\n",
    "            'pubType': date['@pub-type'],\n",
    "            'date': '-'.join([date['month'].zfill(2), day, date['year']])\n",
    "        })\n",
    "    return dates\n",
    "\n",
    "def getAuthors(md):\n",
    "    contribGroup = raw['article-meta']['contrib-group']\n",
    "\n",
    "    # parse affiliation locations\n",
    "    affs = []\n",
    "    for aff in contribGroup['aff']:\n",
    "        affs.append({\n",
    "            'id': aff['@id'],\n",
    "            'address': aff['#text']\n",
    "        })\n",
    "    \n",
    "    # parse authors\n",
    "    authors = []\n",
    "    for author in contribGroup['contrib']:\n",
    "        authors.append({\n",
    "            'surname': author['name']['surname'],\n",
    "            'givenNames': ' '.join([author['name'][x] for x in author['name'].keys() if x == 'given-names']),\n",
    "            'aff': author['xref']['@rid']\n",
    "        })\n",
    "    \n",
    "    return {'authors': authors, 'affiliations': affs} \n",
    "\n",
    "# helper funcs to parse the metadata\n",
    "def getField(md, field):\n",
    "    # get the requested field from the metadata\n",
    "    fieldFuncs = {\n",
    "        'title': getArticleTitle,\n",
    "        'authors': getAuthors,\n",
    "        'pubDates': getPubDates,\n",
    "        'pmid': getPMID,\n",
    "        'doi': getDOI,\n",
    "        'journalTitle': getJournalTitle\n",
    "    }\n",
    "    try:\n",
    "        return fieldFuncs[field](md)\n",
    "    except:\n",
    "        return None\n",
    "\n",
    "def getArticleMeta(PMCID):\n",
    "    \"\"\"\n",
    "    Return the structured article metadata associated with the given PMCID\n",
    "    \"\"\"\n",
    "    ID = PMCID[3:]\n",
    "    URL = \"https://www.ncbi.nlm.nih.gov/pmc/oai/oai.cgi?verb=GetRecord&identifier=oai:pubmedcentral.nih.gov:{}&metadataPrefix=pmc\".format(ID)\n",
    "    page = requests.get(URL)\n",
    "    if page.status_code != 200:\n",
    "        return None\n",
    "    \n",
    "    # parse XML to convert XML response to metadata dict\n",
    "    parsed = xmltodict.parse(page.content)\n",
    "    articleRaw = parsed['OAI-PMH']['GetRecord']['record']['metadata']['article']['front']\n",
    "    \n",
    "    # create a dict of all relevent bits\n",
    "    articleMeta = {}\n",
    "    articleMeta['PMCID'] = PMCID\n",
    "    for field in ['title', 'authors', 'pubDates', 'pmid', 'doi', 'journalTitle']:\n",
    "        articleMeta[field] = getField(articleRaw, field)\n",
    "    \n",
    "    return articleMeta\n",
    "\n"
   ]
  },
  {
   "cell_type": "code",
   "execution_count": 175,
   "metadata": {},
   "outputs": [],
   "source": [
    "d = getArticleMeta(pmcIDs[0])"
   ]
  },
  {
   "cell_type": "code",
   "execution_count": 176,
   "metadata": {},
   "outputs": [
    {
     "data": {
      "text/plain": [
       "{'PMCID': 'PMC7359905',\n",
       " 'title': None,\n",
       " 'authors': {'authors': [{'surname': 'Buonsenso',\n",
       "    'givenNames': 'Danilo',\n",
       "    'aff': 'aff1'},\n",
       "   {'surname': 'Onesimo', 'givenNames': 'Roberta', 'aff': 'aff1'},\n",
       "   {'surname': 'Valentini', 'givenNames': 'Piero', 'aff': 'aff1'},\n",
       "   {'surname': 'Chiaretti', 'givenNames': 'Antonio', 'aff': 'aff1'},\n",
       "   {'surname': 'Gatto', 'givenNames': 'Antonio', 'aff': 'aff1'},\n",
       "   {'surname': 'Attinà', 'givenNames': 'Giorgio', 'aff': 'aff1'},\n",
       "   {'surname': 'Conti', 'givenNames': 'Giorgio', 'aff': 'aff2'},\n",
       "   {'surname': 'Vento', 'givenNames': 'Giovanni', 'aff': 'aff1'},\n",
       "   {'surname': 'Cambieri', 'givenNames': 'Andrea', 'aff': 'aff3'},\n",
       "   {'surname': 'Mercuri', 'givenNames': 'Eugenio', 'aff': 'aff1'},\n",
       "   {'surname': 'Zampino', 'givenNames': 'Giuseppe', 'aff': 'aff1'}],\n",
       "  'affiliations': [{'id': 'aff1',\n",
       "    'address': 'From the Department of Woman and Child Health and Public Health'},\n",
       "   {'id': 'aff2',\n",
       "    'address': 'Pediatric Intensive Care Unit, Department of Emergency, Anesthesia and Intensive Care, Fondazione Policlinico Universitario Agostino Gemelli, Istituto di Ricovero e Cura a Carattere Scientifico, Rome, Italy'},\n",
       "   {'id': 'aff3',\n",
       "    'address': 'Health Management Department, Fondazione Policlinico Universitario Agostino Gemelli IRCCS, Rome, Italy.'}]},\n",
       " 'pubDates': [{'pubType': 'epub', 'date': '12-05-2020'},\n",
       "  {'pubType': 'ppub', 'date': '07-01-2020'}],\n",
       " 'pmid': '32404790',\n",
       " 'doi': '10.1097/INF.0000000000002732',\n",
       " 'journalTitle': 'The Pediatric Infectious Disease Journal'}"
      ]
     },
     "execution_count": 176,
     "metadata": {},
     "output_type": "execute_result"
    }
   ],
   "source": [
    "d"
   ]
  },
  {
   "cell_type": "code",
   "execution_count": 157,
   "metadata": {},
   "outputs": [
    {
     "data": {
      "text/plain": [
       "'PMC7359914'"
      ]
     },
     "execution_count": 157,
     "metadata": {},
     "output_type": "execute_result"
    }
   ],
   "source": [
    "pmcIDs[1]"
   ]
  },
  {
   "cell_type": "markdown",
   "metadata": {},
   "source": [
    "# Misc"
   ]
  },
  {
   "cell_type": "code",
   "execution_count": 25,
   "metadata": {},
   "outputs": [],
   "source": [
    "jd = json.dumps(d)"
   ]
  },
  {
   "cell_type": "code",
   "execution_count": 33,
   "metadata": {},
   "outputs": [
    {
     "data": {
      "text/plain": [
       "odict_keys(['header', 'metadata'])"
      ]
     },
     "execution_count": 33,
     "metadata": {},
     "output_type": "execute_result"
    }
   ],
   "source": [
    "d['OAI-PMH']['GetRecord']['record'].keys()"
   ]
  }
 ],
 "metadata": {
  "kernelspec": {
   "display_name": "Python 3",
   "language": "python",
   "name": "python3"
  },
  "language_info": {
   "codemirror_mode": {
    "name": "ipython",
    "version": 3
   },
   "file_extension": ".py",
   "mimetype": "text/x-python",
   "name": "python",
   "nbconvert_exporter": "python",
   "pygments_lexer": "ipython3",
   "version": "3.8.6"
  }
 },
 "nbformat": 4,
 "nbformat_minor": 4
}
